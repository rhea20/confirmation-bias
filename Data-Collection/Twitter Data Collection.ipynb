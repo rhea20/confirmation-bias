{
 "cells": [
  {
   "cell_type": "code",
   "execution_count": 1,
   "id": "077676d6",
   "metadata": {},
   "outputs": [],
   "source": [
    "import pandas as pd\n",
    "from anytree import Node, RenderTree\n",
    "import random\n",
    "import string\n",
    "\n",
    "from functions import *\n",
    "from Twitter_functions import *"
   ]
  },
  {
   "cell_type": "code",
   "execution_count": 2,
   "id": "864c4408",
   "metadata": {},
   "outputs": [],
   "source": [
    "with open('Authentication/twitter_bearer_token.txt', 'r', encoding=\"utf8\") as f:\n",
    "    token = f.read()\n",
    "\n",
    "header = create_Twitter_headers(token)\n",
    "max_results = 100"
   ]
  },
  {
   "cell_type": "markdown",
   "id": "9cb7c6a7",
   "metadata": {},
   "source": [
    "# The Straits Times\n",
    "## Get Tweets"
   ]
  },
  {
   "cell_type": "code",
   "execution_count": 3,
   "id": "f65438d4",
   "metadata": {},
   "outputs": [
    {
     "name": "stdout",
     "output_type": "stream",
     "text": [
      "Tweet ID: 1522569509692788736 Time: 2022-05-06T13:30:33.000Z\n",
      "3,420 new Covid-19 cases in Singapore on Friday, down from 4,733 the day before https://t.co/jvIkiDNAMn \n",
      "\n",
      "Tweet ID: 1522562721757024256 Time: 2022-05-06T13:03:35.000Z\n",
      "RT @STForeignDesk: Russia, West in long-term rivalry: Top French general https://t.co/Aj6hlN4fjt \n",
      "\n",
      "Tweet ID: 1522562714735833089 Time: 2022-05-06T13:03:33.000Z\n",
      "RT @STForeignDesk: Ukraine finance minister calls for total embargo on Russian oil and gas https://t.co/tD7MojH0Rd \n",
      "\n",
      "Tweet ID: 1522559440146247680 Time: 2022-05-06T12:50:32.000Z\n",
      "RT @STForeignDesk: Taiwan jets scramble as China air force enters air defence zone https://t.co/3PW4U7WB6j \n",
      "\n",
      "Tweet ID: 1522555793630851072 Time: 2022-05-06T12:36:03.000Z\n",
      "RT @STForeignDesk: Europe sees travel recovery as Covid-19 restrictions ease https://t.co/WnOwN0kEWW \n",
      "\n"
     ]
    }
   ],
   "source": [
    "ST_id = '37874853'\n",
    "ST_tweets = getTweetsByUserID(ST_id, header, 5)\n",
    "\n",
    "generateTweetInformation(ST_tweets, header)"
   ]
  },
  {
   "cell_type": "code",
   "execution_count": 4,
   "id": "ddca8f97",
   "metadata": {
    "scrolled": false
   },
   "outputs": [],
   "source": [
    "# query = '@straits_times'\n",
    "# tweets_url = f'https://api.twitter.com/2/tweets/search/recent?query={query}&max_results={max_results}'\n",
    "# connect_to_endpoint(tweets_url, header)"
   ]
  },
  {
   "cell_type": "markdown",
   "id": "b28060ce",
   "metadata": {},
   "source": [
    "## Get Conversation"
   ]
  },
  {
   "cell_type": "code",
   "execution_count": 5,
   "id": "db2df352",
   "metadata": {
    "scrolled": false
   },
   "outputs": [],
   "source": [
    "conversation_id = '1513829591038627840'\n",
    "ST_conversation_data = getConversation(conversation_id, max_results, header)"
   ]
  },
  {
   "cell_type": "code",
   "execution_count": 6,
   "id": "c2598899",
   "metadata": {},
   "outputs": [
    {
     "data": {
      "text/plain": [
       "{'meta': {'result_count': 0}}"
      ]
     },
     "execution_count": 6,
     "metadata": {},
     "output_type": "execute_result"
    }
   ],
   "source": [
    "ST_conversation_data"
   ]
  },
  {
   "cell_type": "code",
   "execution_count": 7,
   "id": "239d8b92",
   "metadata": {},
   "outputs": [],
   "source": [
    "# for i in ST_conversation_data['data']:\n",
    "#     print(i['author_id'])"
   ]
  },
  {
   "cell_type": "code",
   "execution_count": 8,
   "id": "bef43c42",
   "metadata": {
    "scrolled": true
   },
   "outputs": [],
   "source": [
    "# getTweetsByUserID('1422221555950518275', header, 25)"
   ]
  },
  {
   "cell_type": "code",
   "execution_count": 9,
   "id": "a2d1c125",
   "metadata": {
    "scrolled": true
   },
   "outputs": [],
   "source": [
    "# ST_result = getTweetComments(ST_conversation_data)"
   ]
  },
  {
   "cell_type": "code",
   "execution_count": 10,
   "id": "e425e666",
   "metadata": {
    "scrolled": false
   },
   "outputs": [],
   "source": [
    "# ST_df = processTwitterDataframe(ST_result, ST_id, conversation_id, uri, False)\n",
    "# ST_df.head()"
   ]
  },
  {
   "cell_type": "markdown",
   "id": "2d659d08",
   "metadata": {},
   "source": [
    "# Channel NewsAsia / Mothership\n",
    "## Get Tweets"
   ]
  },
  {
   "cell_type": "code",
   "execution_count": 11,
   "id": "c217e8d6",
   "metadata": {
    "scrolled": true
   },
   "outputs": [
    {
     "name": "stdout",
     "output_type": "stream",
     "text": [
      "Tweet ID: 1522535780425420805 Time: 2022-05-06T11:16:32.000Z\n",
      "M'sia employee takes time off for pimple pain, itchy scalp, fainting spell &amp; more, works only 16 out of 40 days https://t.co/puIPDNitGj https://t.co/3LEuYm0weS \n",
      "\n",
      "Tweet ID: 1522503753189916672 Time: 2022-05-06T09:09:16.000Z\n",
      "Pastry cafe Mr Holmes Bakehouse opens 2nd outlet near Raffles Place MRT: https://t.co/khVGchbsul https://t.co/VzJPVdJcHY \n",
      "\n",
      "Tweet ID: 1522494862766993408 Time: 2022-05-06T08:33:56.000Z\n",
      "PM Lee receives Johor’s highest award from Johor Sultan https://t.co/RkBfD6Knkg https://t.co/K3WDdU23pD \n",
      "\n",
      "Tweet ID: 1522488466394673152 Time: 2022-05-06T08:08:31.000Z\n",
      "Japan might allow tourist groups as soon as this month: Report https://t.co/sU4QfWJE5S https://t.co/oBjXdwMxh4 \n",
      "\n",
      "Tweet ID: 1522467680174829568 Time: 2022-05-06T06:45:55.000Z\n",
      "S’pore man donates new orchids to family after vandal cuts their flowers at HDB corridor https://t.co/oSMoXjNa0O https://t.co/wPLwwljiJh \n",
      "\n"
     ]
    }
   ],
   "source": [
    "# CNA_tweets = getTweetsByUserID('38400130', header) # CNA\n",
    "CNA_tweets = getTweetsByUserID('1619325942', header, 5) # Mothership\n",
    "\n",
    "generateTweetInformation(CNA_tweets, header)"
   ]
  },
  {
   "cell_type": "markdown",
   "id": "4e732189",
   "metadata": {},
   "source": [
    "## Get Conversation"
   ]
  },
  {
   "cell_type": "code",
   "execution_count": 12,
   "id": "f8b8a9cb",
   "metadata": {
    "scrolled": true
   },
   "outputs": [
    {
     "name": "stdout",
     "output_type": "stream",
     "text": [
      "User ID: 1518881004655906816 Time: 2022-04-30T00:18:38.000Z\n",
      "In reply to: 1503222336937361408\n",
      "@TypicalFarm @jazonbond @MothershipSG The mules are unforgivable, they should be acquitted for their mistakes, I hated them…but a human er, he have to die? Can’t we give him a chance? to repent? How many chances have people given to you in life, why can’t they have 1? Life sentence could be more appropriate.. \n",
      "\n",
      "User ID: 1503222336937361408 Time: 2022-04-30T00:03:13.000Z\n",
      "In reply to: 1143902127040761857\n",
      "@Karuppudevathai @MothershipSG I think it is more of telling idiots on the internet not to believe in the false information. \n",
      "People say that they are mentally disabled in an attempt to escape the law are going to risk Sacrificing actual mentally disabled people to the drug lords just for their survival \n",
      "\n",
      "User ID: 1503222336937361408 Time: 2022-04-29T23:59:19.000Z\n",
      "In reply to: 1518881004655906816\n",
      "@Tukuku08 @jazonbond @MothershipSG The addicts you helped are probably those who consumed or purchased the drugs, which can be forgivable, but I don't think people who smuggle drugs Into a country in an attempt to sell it can be forgiven. Willing to destroy an entire country just to earn a few dollars \n",
      "\n"
     ]
    }
   ],
   "source": [
    "conversation_id = '1519629461989199872'\n",
    "CNA_conversation_data = getConversation(conversation_id, max_results, header)\n",
    "\n",
    "result = getTweetComments(CNA_conversation_data)"
   ]
  },
  {
   "cell_type": "code",
   "execution_count": 13,
   "id": "47095f73",
   "metadata": {
    "scrolled": true
   },
   "outputs": [
    {
     "name": "stdout",
     "output_type": "stream",
     "text": [
      "Conversation has been updated in the database.\n"
     ]
    },
    {
     "data": {
      "text/html": [
       "<div>\n",
       "<style scoped>\n",
       "    .dataframe tbody tr th:only-of-type {\n",
       "        vertical-align: middle;\n",
       "    }\n",
       "\n",
       "    .dataframe tbody tr th {\n",
       "        vertical-align: top;\n",
       "    }\n",
       "\n",
       "    .dataframe thead th {\n",
       "        text-align: right;\n",
       "    }\n",
       "</style>\n",
       "<table border=\"1\" class=\"dataframe\">\n",
       "  <thead>\n",
       "    <tr style=\"text-align: right;\">\n",
       "      <th></th>\n",
       "      <th>id</th>\n",
       "      <th>timestamp</th>\n",
       "      <th>reply_to</th>\n",
       "      <th>comment</th>\n",
       "      <th>social_media</th>\n",
       "      <th>conversation_id</th>\n",
       "      <th>head_id</th>\n",
       "      <th>user_id</th>\n",
       "      <th>url</th>\n",
       "      <th>link_title</th>\n",
       "    </tr>\n",
       "  </thead>\n",
       "  <tbody>\n",
       "    <tr>\n",
       "      <th>0</th>\n",
       "      <td>10000</td>\n",
       "      <td>2022-04-30T00:18:38.000Z</td>\n",
       "      <td>10001</td>\n",
       "      <td>@TypicalFarm @jazonbond @MothershipSG The mule...</td>\n",
       "      <td>Twitter</td>\n",
       "      <td>1519629461989199872</td>\n",
       "      <td>1619325942</td>\n",
       "      <td>1518881004655906816</td>\n",
       "      <td></td>\n",
       "      <td></td>\n",
       "    </tr>\n",
       "    <tr>\n",
       "      <th>1</th>\n",
       "      <td>10001</td>\n",
       "      <td>2022-04-30T00:03:13.000Z</td>\n",
       "      <td>nan</td>\n",
       "      <td>@Karuppudevathai @MothershipSG I think it is m...</td>\n",
       "      <td>Twitter</td>\n",
       "      <td>1519629461989199872</td>\n",
       "      <td>1619325942</td>\n",
       "      <td>1503222336937361408</td>\n",
       "      <td></td>\n",
       "      <td></td>\n",
       "    </tr>\n",
       "    <tr>\n",
       "      <th>2</th>\n",
       "      <td>10002</td>\n",
       "      <td>2022-04-29T23:59:19.000Z</td>\n",
       "      <td>10000</td>\n",
       "      <td>@Tukuku08 @jazonbond @MothershipSG The addicts...</td>\n",
       "      <td>Twitter</td>\n",
       "      <td>1519629461989199872</td>\n",
       "      <td>1619325942</td>\n",
       "      <td>1503222336937361408</td>\n",
       "      <td></td>\n",
       "      <td></td>\n",
       "    </tr>\n",
       "  </tbody>\n",
       "</table>\n",
       "</div>"
      ],
      "text/plain": [
       "      id                 timestamp reply_to  \\\n",
       "0  10000  2022-04-30T00:18:38.000Z    10001   \n",
       "1  10001  2022-04-30T00:03:13.000Z      nan   \n",
       "2  10002  2022-04-29T23:59:19.000Z    10000   \n",
       "\n",
       "                                             comment social_media  \\\n",
       "0  @TypicalFarm @jazonbond @MothershipSG The mule...      Twitter   \n",
       "1  @Karuppudevathai @MothershipSG I think it is m...      Twitter   \n",
       "2  @Tukuku08 @jazonbond @MothershipSG The addicts...      Twitter   \n",
       "\n",
       "       conversation_id     head_id              user_id url link_title  \n",
       "0  1519629461989199872  1619325942  1518881004655906816                 \n",
       "1  1519629461989199872  1619325942  1503222336937361408                 \n",
       "2  1519629461989199872  1619325942  1503222336937361408                 "
      ]
     },
     "execution_count": 13,
     "metadata": {},
     "output_type": "execute_result"
    }
   ],
   "source": [
    "CNA_df = processTwitterDataframe(result, '1619325942', conversation_id, uri, False)\n",
    "CNA_df.head()"
   ]
  },
  {
   "cell_type": "code",
   "execution_count": null,
   "id": "4844d9dd",
   "metadata": {},
   "outputs": [],
   "source": []
  }
 ],
 "metadata": {
  "kernelspec": {
   "display_name": "Python 3 (ipykernel)",
   "language": "python",
   "name": "python3"
  },
  "language_info": {
   "codemirror_mode": {
    "name": "ipython",
    "version": 3
   },
   "file_extension": ".py",
   "mimetype": "text/x-python",
   "name": "python",
   "nbconvert_exporter": "python",
   "pygments_lexer": "ipython3",
   "version": "3.9.7"
  }
 },
 "nbformat": 4,
 "nbformat_minor": 5
}
