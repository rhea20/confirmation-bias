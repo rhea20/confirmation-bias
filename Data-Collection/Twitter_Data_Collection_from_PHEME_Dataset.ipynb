{
  "cells": [
    {
      "cell_type": "markdown",
      "metadata": {
        "colab_type": "text",
        "id": "view-in-github"
      },
      "source": [
        "<a href=\"https://colab.research.google.com/github/Confirmation-Bias-Analyser/Data-Collection/blob/main/Twitter_Data_Collection_from_PHEME_Dataset.ipynb\" target=\"_parent\"><img src=\"https://colab.research.google.com/assets/colab-badge.svg\" alt=\"Open In Colab\"/></a>"
      ]
    },
    {
      "cell_type": "code",
      "execution_count": 1,
      "metadata": {
        "id": "Gm_OMBXO2LRV"
      },
      "outputs": [],
      "source": [
        "\n",
        "!pip3 install anytree"
      ]
    },
    {
      "cell_type": "markdown",
      "metadata": {
        "id": "EwHlQhAaAjCx"
      },
      "source": [
        "# Import essential libraries"
      ]
    },
    {
      "cell_type": "code",
      "execution_count": null,
      "metadata": {
        "id": "CJjKKLkkW8Bg"
      },
      "outputs": [],
      "source": [
        "import tensorflow as tf\n",
        "import pandas as pd\n",
        "from google.colab import files\n",
        "from anytree import Node, RenderTree, search\n",
        "import random\n",
        "import json\n",
        "\n",
        "# The shutil module offers a number of high-level \n",
        "# operations on files and collections of files.\n",
        "import os\n",
        "import shutil\n",
        "import json"
      ]
    },
    {
      "cell_type": "markdown",
      "metadata": {
        "id": "3agJPTs1jQaU"
      },
      "source": [
        "# Declare important functions"
      ]
    },
    {
      "cell_type": "code",
      "execution_count": null,
      "metadata": {
        "id": "qBFjKn4EjNiY"
      },
      "outputs": [],
      "source": [
        "import re\n",
        "import urllib\n",
        "from urllib.parse import urlparse\n",
        "\n",
        "def createTweetsTree(dictionary, tree_root):\n",
        "    for key, item in dictionary.items():\n",
        "        child = Node(key, parent=tree_root)\n",
        "\n",
        "        if len(dictionary[key]) != 0:      \n",
        "            createTweetsTree(dictionary[key], child)\n",
        "\n",
        "        else:\n",
        "            continue\n",
        "\n",
        "def processTweetsToDict(conversation_data):\n",
        "    conversation_dict = {'id':[], 'timestamp':[], 'reply_to':[], 'comment':[]}\n",
        "\n",
        "    for i in conversation_data:\n",
        "        print('User ID:', i['id'], \n",
        "              'Time:', i['user']['created_at'])\n",
        "        print('In reply to:', i['in_reply_to_status_id'])\n",
        "        print(i['text'], '\\n')\n",
        "\n",
        "        conversation_dict['id'].append(i['id'])\n",
        "        conversation_dict['timestamp'].append(i['user']['created_at'])\n",
        "        conversation_dict['reply_to'].append(i['in_reply_to_status_id'])\n",
        "        conversation_dict['comment'].append(i['text'])\n",
        "\n",
        "    return conversation_dict\n",
        "\n",
        "def getLinks(string):\n",
        "    urls = re.findall(\"http[s]?://(?:[a-zA-Z]|[0-9]|[$-_@.&+]|[!*\\(\\),]|(?:%[0-9a-fA-F][0-9a-fA-F]))+\", string)\n",
        "    links = ''\n",
        "\n",
        "    for url in urls:\n",
        "        try:\n",
        "            opener = urllib.request.build_opener()\n",
        "            request = urllib.request.Request(url)\n",
        "            response = opener.open(request)\n",
        "            actual_url = response.geturl()\n",
        "                      \n",
        "            if '](' in actual_url:\n",
        "                actual_url = actual_url.split('](')[0]\n",
        "          \n",
        "            links += actual_url + ';'\n",
        "            \n",
        "            \n",
        "        except:\n",
        "            if '](' in url:\n",
        "                url = url.split('](')[0]\n",
        "          \n",
        "            links += url + ';'\n",
        "\n",
        "    return links\n",
        "\n",
        "def getURLfromList(url):\n",
        "    if ';' in url:\n",
        "        url = url.split(';')[:-1]\n",
        "        result = []\n",
        "    \n",
        "        for i in url:\n",
        "            result.append(urlparse(i).hostname)\n",
        "        \n",
        "        return result\n",
        "\n",
        "    else:\n",
        "        return ''   "
      ]
    },
    {
      "cell_type": "markdown",
      "metadata": {
        "id": "JVRS1FwBAoeI"
      },
      "source": [
        "# Extract data from PHEME Dataset"
      ]
    },
    {
      "cell_type": "code",
      "execution_count": null,
      "metadata": {
        "id": "G2YLkJCcYqQg"
      },
      "outputs": [],
      "source": [
        "URL = \"https://figshare.com/ndownloader/files/11767817/PHEME_veracity.tar.bz2\"\n",
        "\n",
        "dataset = tf.keras.utils.get_file(fname=\"PHEME_veracity.tar.bz2\", \n",
        "                                  origin=URL,\n",
        "                                  untar=True,\n",
        "                                  cache_dir='.',\n",
        "                                  cache_subdir='')"
      ]
    },
    {
      "cell_type": "code",
      "execution_count": null,
      "metadata": {
        "id": "JHfDr41ie89E"
      },
      "outputs": [],
      "source": [
        "# Unzip extracted file\n",
        "!tar xzf '/content/PHEME_veracity.tar.bz2.tar.gz'"
      ]
    },
    {
      "cell_type": "markdown",
      "metadata": {
        "id": "eodTn05QB6DU"
      },
      "source": [
        "# Import extracted dataset and understand directory"
      ]
    },
    {
      "cell_type": "code",
      "execution_count": null,
      "metadata": {
        "colab": {
          "base_uri": "https://localhost:8080/"
        },
        "id": "RJdb3YHxQpAs",
        "outputId": "c7022ef8-3b48-425a-e604-caaecec8131e"
      },
      "outputs": [
        {
          "name": "stdout",
          "output_type": "stream",
          "text": [
            "ferguson-all-rnr-threads\n",
            "germanwings-crash-all-rnr-threads\n",
            "gurlitt-all-rnr-threads\n",
            "ottawashooting-all-rnr-threads\n",
            "sydneysiege-all-rnr-threads\n",
            "putinmissing-all-rnr-threads\n",
            "ebola-essien-all-rnr-threads\n",
            "charliehebdo-all-rnr-threads\n",
            "prince-toronto-all-rnr-threads\n"
          ]
        }
      ],
      "source": [
        "threads = []\n",
        "data = ['non-rumours', 'rumours']\n",
        "\n",
        "for i in os.listdir('/content/all-rnr-annotated-threads'):\n",
        "  if i[0] != '.':\n",
        "    print(i)\n",
        "    threads.append(i)"
      ]
    },
    {
      "cell_type": "markdown",
      "metadata": {
        "id": "NwbEYw2OB-_q"
      },
      "source": [
        "Understand the number of files in each sub-directory."
      ]
    },
    {
      "cell_type": "code",
      "execution_count": null,
      "metadata": {
        "colab": {
          "base_uri": "https://localhost:8080/"
        },
        "id": "CTkPh_ozlcV7",
        "outputId": "fdad37b9-8ea9-449f-f6f4-0cb0a04e8a2c"
      },
      "outputs": [
        {
          "name": "stdout",
          "output_type": "stream",
          "text": [
            "ferguson-all-rnr-threads\n",
            "Rumours: 1704\n",
            "Non-rumours: 5154\n",
            "\n",
            "germanwings-crash-all-rnr-threads\n",
            "Rumours: 3132\n",
            "Non-rumours: 6540\n",
            "\n",
            "gurlitt-all-rnr-threads\n",
            "Rumours: 3498\n",
            "Non-rumours: 7002\n",
            "\n",
            "ottawashooting-all-rnr-threads\n",
            "Rumours: 6318\n",
            "Non-rumours: 9522\n",
            "\n",
            "sydneysiege-all-rnr-threads\n",
            "Rumours: 9450\n",
            "Non-rumours: 13716\n",
            "\n",
            "putinmissing-all-rnr-threads\n",
            "Rumours: 10206\n",
            "Non-rumours: 14388\n",
            "\n",
            "ebola-essien-all-rnr-threads\n",
            "Rumours: 10290\n",
            "Non-rumours: 14388\n",
            "\n",
            "charliehebdo-all-rnr-threads\n",
            "Rumours: 13038\n",
            "Non-rumours: 24114\n",
            "\n",
            "prince-toronto-all-rnr-threads\n",
            "Rumours: 14412\n",
            "Non-rumours: 24138\n",
            "\n"
          ]
        }
      ],
      "source": [
        "rumours = 0\n",
        "non_rumours = 0\n",
        "\n",
        "for i in threads:\n",
        "  path = '/content/all-rnr-annotated-threads/' + i\n",
        "  print(i)\n",
        "\n",
        "  for j in os.listdir(path):\n",
        "    \n",
        "    for k in data:\n",
        "\n",
        "      for l in os.listdir(path + '/' + k):\n",
        "        if k == data[0] and l[0] != '.':\n",
        "          non_rumours += 1\n",
        "\n",
        "        elif k == data[1] and l[0] != '.':\n",
        "          rumours += 1\n",
        "  \n",
        "  print('Rumours:', rumours)\n",
        "  print('Non-rumours:', non_rumours)\n",
        "  print()"
      ]
    },
    {
      "cell_type": "markdown",
      "metadata": {
        "id": "nUJ3cS0UCEDq"
      },
      "source": [
        "# Read sample file from sub-directory"
      ]
    },
    {
      "cell_type": "code",
      "execution_count": null,
      "metadata": {
        "colab": {
          "base_uri": "https://localhost:8080/"
        },
        "id": "SDiihSN0CjHR",
        "outputId": "a31335a2-526a-4cbd-a5bc-8fbe520f348a"
      },
      "outputs": [
        {
          "name": "stdout",
          "output_type": "stream",
          "text": [
            "/content/all-rnr-annotated-threads/ferguson-all-rnr-threads/rumours/500398504075071488/reactions/\n"
          ]
        }
      ],
      "source": [
        "sample_directory = f'/content/all-rnr-annotated-threads/{random.choice(threads)}/{random.choice(data)}/'\n",
        "\n",
        "reactions = []\n",
        "\n",
        "for i in os.listdir(sample_directory):\n",
        "  if i[0] != '.':\n",
        "    sample_directory_reactions = sample_directory + i + '/reactions/'\n",
        "\n",
        "    for j in os.listdir(sample_directory_reactions):\n",
        "      if j[0] != '.':\n",
        "        reactions.append(j)\n",
        "\n",
        "    if len(reactions) < 1:\n",
        "      reactions = []\n",
        "      continue\n",
        "      \n",
        "    else:\n",
        "      break\n",
        "\n",
        "print(sample_directory_reactions)"
      ]
    },
    {
      "cell_type": "markdown",
      "metadata": {
        "id": "VS-euOKTFUNW"
      },
      "source": [
        "Tweets are saved as JSON files in the sub-directories. We are able to view the attributes of the JSON file."
      ]
    },
    {
      "cell_type": "code",
      "execution_count": null,
      "metadata": {
        "colab": {
          "base_uri": "https://localhost:8080/"
        },
        "id": "ZiTt6RcBf_cL",
        "outputId": "5acbdec0-6ee8-4d6d-e4c7-e71ded87964a"
      },
      "outputs": [
        {
          "name": "stdout",
          "output_type": "stream",
          "text": [
            "/content/all-rnr-annotated-threads/ferguson-all-rnr-threads/rumours/500398504075071488/reactions/500437107043627009.json\n"
          ]
        },
        {
          "data": {
            "text/plain": [
              "{'contributors': None,\n",
              " 'coordinates': None,\n",
              " 'created_at': 'Sat Aug 16 00:21:18 +0000 2014',\n",
              " 'entities': {'hashtags': [],\n",
              "  'symbols': [],\n",
              "  'urls': [],\n",
              "  'user_mentions': [{'id': 977200838,\n",
              "    'id_str': '977200838',\n",
              "    'indices': [0, 12],\n",
              "    'name': 'Blake Wood',\n",
              "    'screen_name': 'blakewood24'},\n",
              "   {'id': 14560097,\n",
              "    'id_str': '14560097',\n",
              "    'indices': [13, 19],\n",
              "    'name': 'Vaughn Sterling',\n",
              "    'screen_name': 'vplus'},\n",
              "   {'id': 93129160,\n",
              "    'id_str': '93129160',\n",
              "    'indices': [20, 34],\n",
              "    'name': 'nick wright',\n",
              "    'screen_name': 'getnickwright'}]},\n",
              " 'favorite_count': 0,\n",
              " 'favorited': False,\n",
              " 'geo': None,\n",
              " 'id': 500437107043627009,\n",
              " 'id_str': '500437107043627009',\n",
              " 'in_reply_to_screen_name': 'Royalsoptimist5',\n",
              " 'in_reply_to_status_id': 500436755749695488,\n",
              " 'in_reply_to_status_id_str': '500436755749695488',\n",
              " 'in_reply_to_user_id': 1636077204,\n",
              " 'in_reply_to_user_id_str': '1636077204',\n",
              " 'lang': 'en',\n",
              " 'place': None,\n",
              " 'retweet_count': 0,\n",
              " 'retweeted': False,\n",
              " 'source': '<a href=\"http://twitter.com/download/iphone\" rel=\"nofollow\">Twitter for iPhone</a>',\n",
              " 'text': '@blakewood24 @vplus @getnickwright sorry meant anyone not anymore.',\n",
              " 'truncated': False,\n",
              " 'user': {'contributors_enabled': False,\n",
              "  'created_at': 'Wed Jul 31 18:29:08 +0000 2013',\n",
              "  'default_profile': True,\n",
              "  'default_profile_image': False,\n",
              "  'description': '',\n",
              "  'entities': {'description': {'urls': []}},\n",
              "  'favourites_count': 7,\n",
              "  'follow_request_sent': False,\n",
              "  'followers_count': 86,\n",
              "  'following': False,\n",
              "  'friends_count': 94,\n",
              "  'geo_enabled': False,\n",
              "  'id': 1636077204,\n",
              "  'id_str': '1636077204',\n",
              "  'is_translation_enabled': False,\n",
              "  'is_translator': False,\n",
              "  'lang': 'en',\n",
              "  'listed_count': 0,\n",
              "  'location': '',\n",
              "  'name': 'Royals Optimist',\n",
              "  'notifications': False,\n",
              "  'profile_background_color': 'C0DEED',\n",
              "  'profile_background_image_url': 'http://abs.twimg.com/images/themes/theme1/bg.png',\n",
              "  'profile_background_image_url_https': 'https://abs.twimg.com/images/themes/theme1/bg.png',\n",
              "  'profile_background_tile': False,\n",
              "  'profile_banner_url': 'https://pbs.twimg.com/profile_banners/1636077204/1375372108',\n",
              "  'profile_image_url': 'http://pbs.twimg.com/profile_images/506267391815208960/5yudQUbi_normal.jpeg',\n",
              "  'profile_image_url_https': 'https://pbs.twimg.com/profile_images/506267391815208960/5yudQUbi_normal.jpeg',\n",
              "  'profile_link_color': '0084B4',\n",
              "  'profile_sidebar_border_color': 'C0DEED',\n",
              "  'profile_sidebar_fill_color': 'DDEEF6',\n",
              "  'profile_text_color': '333333',\n",
              "  'profile_use_background_image': True,\n",
              "  'protected': False,\n",
              "  'screen_name': 'Royalsoptimist5',\n",
              "  'statuses_count': 452,\n",
              "  'time_zone': None,\n",
              "  'url': None,\n",
              "  'utc_offset': None,\n",
              "  'verified': False}}"
            ]
          },
          "execution_count": 9,
          "metadata": {},
          "output_type": "execute_result"
        }
      ],
      "source": [
        "json_file = sample_directory_reactions + random.choice(reactions)\n",
        "print(json_file)\n",
        "\n",
        "with open(json_file, 'r') as j:\n",
        "     contents = json.loads(j.read())\n",
        "\n",
        "contents"
      ]
    },
    {
      "cell_type": "markdown",
      "metadata": {
        "id": "cTqteydGIMz-"
      },
      "source": [
        "# Read sample directory for its tweets and comments"
      ]
    },
    {
      "cell_type": "code",
      "execution_count": null,
      "metadata": {
        "colab": {
          "base_uri": "https://localhost:8080/",
          "height": 36
        },
        "id": "Ct03yTokIdw7",
        "outputId": "f2d7f669-ce8b-4612-a0b7-caed037e2e80"
      },
      "outputs": [
        {
          "data": {
            "application/vnd.google.colaboratory.intrinsic+json": {
              "type": "string"
            },
            "text/plain": [
              "'/content/all-rnr-annotated-threads/ferguson-all-rnr-threads/rumours/'"
            ]
          },
          "execution_count": 10,
          "metadata": {},
          "output_type": "execute_result"
        }
      ],
      "source": [
        "sample_directory"
      ]
    },
    {
      "cell_type": "markdown",
      "metadata": {
        "id": "5Ff_v-xzWj-i"
      },
      "source": [
        "## All tweets in sample directory"
      ]
    },
    {
      "cell_type": "code",
      "execution_count": null,
      "metadata": {
        "colab": {
          "base_uri": "https://localhost:8080/"
        },
        "id": "eIv5KvvnjNG2",
        "outputId": "c4304705-85c9-463c-8ba1-e8c2cacc1ed0"
      },
      "outputs": [
        {
          "name": "stdout",
          "output_type": "stream",
          "text": [
            "Is the Police Chief in #Ferguson changing the story?  https://t.co/8ujqp0lpb5 \n",
            "\n",
            "Lets bomb nurseries w/ White Babies!? FBI: #NBP leader inciting violence in #Ferguson http://t.co/TCXSbfrTsV #tcot http://t.co/XDZqcWnoUQ \n",
            "\n",
            "#Ferguson chief said the officer was unaware of any robbery &amp; stopped #MikeBrown for jay walking. #TheJig http://t.co/uLWzIJH5WJ \n",
            "\n",
            "It's not #MikeBrown in those #Ferguson police video stills. Not unless he changed his shoes after the robbery but before he met the officer. \n",
            "\n",
            "Not just Mike Brown… Second police shooting in #Ferguson leaves man in critical condition http://t.co/uZpgcJK0bB \n",
            "\n",
            "Prayers out to mya, HU graduate who was shot while protesting in St. Louis! #MikeBrown #Ferguson http://t.co/J0OEIkJLHU \n",
            "\n"
          ]
        }
      ],
      "source": [
        "count = 0\n",
        "\n",
        "for i in os.listdir(sample_directory):\n",
        "  if i[0] != '.':\n",
        "    json_file = sample_directory + '/' + i + '/source-tweets/' + i + '.json'\n",
        "\n",
        "    with open(json_file, 'r') as j:\n",
        "      contents = json.loads(j.read())\n",
        "\n",
        "    print(contents['text'], '\\n')\n",
        "  \n",
        "  count += 1\n",
        "  \n",
        "  if count == 20:\n",
        "    break"
      ]
    },
    {
      "cell_type": "markdown",
      "metadata": {
        "id": "Si6XerOiNOCw"
      },
      "source": [
        "## Look at directory within each tweet"
      ]
    },
    {
      "cell_type": "code",
      "execution_count": null,
      "metadata": {
        "colab": {
          "base_uri": "https://localhost:8080/"
        },
        "id": "uRltGLQG5DP_",
        "outputId": "264b777d-9982-4dd3-9ac1-3aa6bae669e2"
      },
      "outputs": [
        {
          "name": "stdout",
          "output_type": "stream",
          "text": [
            "500398504075071488 - ['annotation.json', 'source-tweets', '._annotation.json', '._reactions', '._structure.json', 'structure.json', '._source-tweets', 'reactions']\n",
            "499648409767538688 - ['annotation.json', 'source-tweets', '._annotation.json', '._reactions', '._structure.json', 'structure.json', '._source-tweets', 'reactions']\n",
            "500364290545958912 - ['annotation.json', 'source-tweets', '._annotation.json', '._reactions', '._structure.json', 'structure.json', '._source-tweets', 'reactions']\n",
            "500285732578013185 - ['annotation.json', 'source-tweets', '._annotation.json', '._reactions', '._structure.json', 'structure.json', '._source-tweets', 'reactions']\n",
            "499579905508917248 - ['annotation.json', 'source-tweets', '._annotation.json', '._reactions', '._structure.json', 'structure.json', '._source-tweets', 'reactions']\n",
            "499642374428307457 - ['annotation.json', 'source-tweets', '._annotation.json', '._reactions', '._structure.json', 'structure.json', '._source-tweets', 'reactions']\n"
          ]
        }
      ],
      "source": [
        "count = 0\n",
        "\n",
        "for i in os.listdir(sample_directory):\n",
        "  if i[0] != '.':\n",
        "    print(i, '-', os.listdir(sample_directory + '/' + i))\n",
        "\n",
        "  count += 1\n",
        "  if count == 20:\n",
        "    break"
      ]
    },
    {
      "cell_type": "markdown",
      "metadata": {
        "id": "Nxb0W5RyXY7r"
      },
      "source": [
        "## Look at the structure of tweets and its comments within the sample directory"
      ]
    },
    {
      "cell_type": "code",
      "execution_count": null,
      "metadata": {
        "colab": {
          "base_uri": "https://localhost:8080/"
        },
        "id": "kUDsH9j15MIG",
        "outputId": "4f46e84d-c06c-4219-818c-ff0cb12fe045"
      },
      "outputs": [
        {
          "name": "stdout",
          "output_type": "stream",
          "text": [
            "0 {'500398504075071488': {'500398827103608832': [], '500399103746908161': [], '500399338368294913': [], '500399431674781698': [], '500399480999403520': [], '500399523165130752': [], '500399671282388992': [], '500399693256744961': [], '500400192772792321': [], '500400265787232257': {'500406508685762560': {'500406871476297728': {'500408124801445889': {'500408569049513985': {'500409961092886528': [], '500411105517117440': []}}}}}, '500403389310959616': [], '500404069220229120': {'500405855523983361': []}, '500406744141791233': [], '500408206242238466': [], '500418868993880064': [], '500419596885983233': [], '500422416951029760': {'500422884964040704': []}, '500422793595326466': {'500432042967203840': {'500432740789940224': {'500435050673213440': {'500436755749695488': {'500437107043627009': [], '500443511775576064': {'500449194885124096': {'500450613264920576': {'500452100019482624': [], '500452379720818688': {'500453593485701120': {'500455598710722561': {'500455678436061185': {'500456294973599744': []}}, '500455721121488896': [], '500456908713508864': []}}}}}}}}}}}} \n",
            "\n",
            "1 {'499648409767538688': {'499648603812401154': [], '499648674616864768': {'499650708845903874': []}, '499649072475934721': [], '499649139442200576': [], '499649229938098177': [], '499649482938925057': [], '499650255265492993': {'499651113352585218': {'499652276055990272': {'499652870774325248': [], '499653316117143553': {'499653650525212672': []}}}}, '499650314392580097': [], '499650612406267904': [], '499650645444792320': [], '499651230197485570': [], '499651701847371776': [], '499651851126460416': {'499653648277049344': [], '499671385305010176': []}, '499653186354180096': {'499654228671860736': []}, '499653917118963713': [], '499654521765629953': {'499655517628039168': []}, '499654665676800001': [], '499654815706660864': [], '499666118575792128': [], '499668996330094592': [], '499669100441137152': [], '499669911740743680': {'499671325200617473': []}, '499670989496528897': [], '499671034556334081': [], '499671212780716032': [], '499671664163323904': [], '499673439913771008': []}} \n",
            "\n",
            "2 {'500364290545958912': {'500364708835504128': [], '500364913123291137': [], '500365125568978944': [], '500365728152027136': [], '500366222748573696': [], '500366741953073152': [], '500367587361173504': [], '500369411359117313': [], '500370667012112384': {'500373438650155008': []}, '500372466905382913': [], '500376214968623104': {'500377514292695041': {'500377691212611584': []}}, '500382618450669568': [], '500383577474084864': [], '500387852287762433': {'500389187183706114': []}}} \n",
            "\n",
            "3 {'500285732578013185': []} \n",
            "\n",
            "4 {'499579905508917248': {'499580580070035457': [], '499580745267290112': [], '499581850591850497': [], '499582931757588481': [], '499588475889680384': [], '499596857090510850': [], '499596907527045120': [], '499602480398086144': [], '499602717309140992': [], '499602768609705985': [], '499604994824634369': [], '499605068539510784': [], '499605452993224704': [], '499632171775442944': []}} \n",
            "\n",
            "5 {'499642374428307457': {'499644243334684672': [], '499653198777298944': []}} \n",
            "\n",
            "6 {'500293392060780546': {'500293692230754304': [], '500293835000668160': [], '500293975535009792': {'500304800840704000': {'500306450309476354': {'500307238767308800': {'500307821477756929': {'500308303634001920': [], '500308480889454592': {'500310008790126592': {'500310532386467840': []}, '500310276806164480': {'500310782522171393': {'500316625233780736': {'500317316387991552': []}, '500316806225989632': {'500317579043692544': {'500318152820269056': {'500318703385575425': {'500319040779587584': {'500319254399700992': {'500319868726829056': {'500320397657927681': []}}}}, '500319586743746561': {'500320106740977664': {'500320397800525825': {'500321187202080768': {'500321594477387776': {'500322456784363521': {'500322867578667008': {'500323087582511105': {'500323373957005314': {'500324247890571264': {'500329584655474689': {'500330353190797312': {'500332891394416640': {'500333881300885504': []}, '500333079198576641': {'500333614882910208': {'500336395177586688': {'500336813459124224': [], '500336915896614913': []}}, '500336272687513600': {'500337227860152322': {'500337843718610944': {'500338531990904832': {'500338929535844352': []}}, '500337997989298176': [], '500338348272394241': {'500338931427053569': {'500339586959437824': {'500339867767668736': {'500340514420695041': {'500340645551030272': {'500340961176993792': [], '500341009793179649': {'500341335447326723': {'500341621117177856': {'500342002249392129': {'500342420899643392': {'500342590240460800': {'500342745198632962': {'500346734112178176': []}, '500347008532881408': {'500347347948552192': {'500352583584587776': []}}}, '500345732142870528': []}}}, '500341634051997696': {'500342419196764160': []}}, '500341428086509569': {'500341884297183234': []}}, '500341277045837826': {'500341597561954305': []}}, '500340800451248130': []}, '500340633060790273': []}, '500340058096820225': []}, '500339879172378624': [], '500340043354230784': [], '500340206256787457': [], '500340332119474176': []}}, '500338558436384768': [], '500338752892698624': [], '500338897759797249': [], '500339061757079552': [], '500339192720015361': []}}, '500336453168422913': []}}}}}}}, '500322957064155136': {'500323589393227777': {'500324023856005121': []}}}}}}, '500320604772630528': [], '500320856271511553': {'500322827967668224': {'500323344424902656': [], '500323360304558080': {'500323668665597953': {'500324039102328832': [], '500324141086806017': {'500329275740790784': {'500330689649475585': {'500331633636302848': []}}}, '500324736283705345': []}}}}, '500321005555179520': []}, '500320884268474369': []}, '500319888528146432': {'500320559193161728': []}}}}}}}}}}}, '500317512064851969': []}, '500295618288295937': {'500303080316211200': {'500305054617059328': {'500305536437714944': {'500305931482435584': [], '500306316938993664': {'500307936699092994': {'500308070703300610': []}}}}, '500306481565409281': {'500307699125723136': []}}}, '500296845382672385': {'500315935211663362': [], '500316468534583296': []}, '500301839762333697': [], '500304503531634689': [], '500310325796044800': [], '500312708915687424': [], '500316484942716928': [], '500316629105135616': {'500351829608517633': []}, '500316674449768450': {'500318246265171968': []}, '500316678128140288': [], '500317160443744256': [], '500327913452224512': [], '500336403390402560': [], '500337211825721346': [], '500338346351411201': [], '500400605945675776': []}} \n",
            "\n",
            "7 {'500278045597368320': {'500278540391440385': [], '500278685698519041': [], '500278888216268800': [], '500280315429289985': [], '500280986845073408': [], '500281457391435777': [], '500281543823458304': [], '500289844728565760': {'500292092032471040': []}, '500312413930291201': [], '500335190146056192': [], '500338161370034177': []}, '500280508371443712': {'500281719597973506': []}, '500282846607847424': []} \n",
            "\n",
            "8 {'500359356589019136': {'500359707295748097': [], '500360301561126912': [], '500371066473418752': [], '500371182437142529': [], '500376424092811264': []}} \n",
            "\n",
            "9 {'500358526804316160': {'500358804123705344': [], '500358820196261888': [], '500358934251982848': [], '500359062186627072': {'500360910074961920': {'500361530769428480': {'500364425753145344': []}}, '500361400028389377': {'500361746969030656': {'500365601441726465': [], '500365919713906689': {'500367210112491520': []}, '500366140229427200': {'500366421432729600': []}}}}, '500359379028557824': [], '500359542556098560': {'500359903504896002': [], '500365761743826945': {'500366552625999872': {'500366917790478336': {'500367102889320450': {'500367474991194112': {'500367568549314560': [], '500367753090322432': []}}}}}}, '500359563766693888': [], '500359770805923840': [], '500360393521643521': [], '500360718089461760': [], '500361001695711232': [], '500361214103662593': [], '500361716786823169': []}} \n",
            "\n",
            "10 {'499612545909415938': {'499612667430977536': [], '499612832363581440': [], '499613561044598785': [], '499613890171662336': [], '499619405576544256': [], '499620018951561217': [], '499641023950512128': [], '499688811300151297': [], '499689337370324992': [], '499689772928204800': {'499690552821284864': [], '499691100370911232': [], '499691339995709440': {'499694054226284544': []}, '499691687326007296': {'499692380296318976': {'499692833121783809': []}, '499693411130429443': []}}, '499692801274441729': [], '499752447930155008': [], '499755375642816512': [], '499759387657764864': [], '499773548202688512': [], '499919010625253376': [], '499921932645433344': [], '499990307291664384': [], '499991648232017920': []}} \n",
            "\n",
            "11 {'500369479482630145': {'500369956005879809': [], '500372549185073152': [], '500374245923639297': [], '500378893036306433': [], '500379719121260544': [], '500379793268146176': [], '500380529955323904': [], '500380556912500736': [], '500381012728483840': [], '500382077901344769': [], '500382703246520320': [], '500383186963423233': [], '500384694370721793': {'500384968271347712': []}, '500384845751926785': []}} \n",
            "\n",
            "12 {'500308705083400193': {'500308853121363968': [], '500309578987634690': [], '500310196552732672': {'500312705233059840': {'500335057291460608': {'500335369700012032': [], '500335558129094656': []}}, '500314249495719936': []}, '500310293948661760': [], '500310478359638016': {'500330265273974784': []}, '500311579817443328': [], '500311610758402049': [], '500314440089489408': [], '500315559393628161': [], '500326061604106240': [], '500328650718580736': []}} \n",
            "\n",
            "13 {'500247666924986369': {'500247911246987264': [], '500252377140977664': [], '500254112399630339': [], '500255271042949120': [], '500256828228632576': [], '500259324556738560': [], '500260366807752704': [], '500261138534125568': [], '500262399388049409': [], '500266589636141057': [], '500269705715003392': [], '500270246478249984': {'500276146223607808': {'500276471781662720': []}}, '500272554201075713': [], '500276272153391107': {'500277642084364289': []}}} \n",
            "\n",
            "14 {'500421926079066112': {'500422190068944898': [], '500425848185319425': [], '500426136003051521': [], '500427504612831232': [], '500427919617835009': [], '500428052997099520': [], '500429804861407232': {'500430720221724672': {'500431353423626240': [], '500431841628020737': []}}, '500437022494846977': [], '500445512882216960': [], '500446623806132225': [], '500449073485193216': []}} \n",
            "\n",
            "15 {'499706705354448897': {'499706838363799552': [], '499707116312358912': {'499707426787307520': []}, '499708016774901761': [], '499708946404638721': [], '499709120614633472': [], '499709736787640320': [], '499711505055891456': {'499746371662934016': [], '499746501136900097': []}, '499711872124215296': [], '499712197711659009': [], '499713651277062144': [], '499713951400067072': [], '499714235405197312': [], '499714455006355456': {'499714817390051329': {'499716839262679041': [], '499718904798003200': [], '499721575265210368': {'499722489736359936': []}}}, '499716698258554880': []}} \n",
            "\n",
            "16 {'500298981558063107': {'500299630077550592': [], '500304802900115458': [], '500305804520878080': [], '500306212140105730': [], '500306702038601728': [], '500311123284213760': [], '500312290655084544': [], '500312798061408257': [], '500315117914165249': [], '500315212898394112': [], '500315444767903744': [], '500316353866526720': [], '500319108039450624': [], '500319958543634434': [], '500323760810250240': [], '500324058085736450': [], '500325571638071296': [], '500327107588026368': [], '500330074202075136': [], '500343524475568128': [], '500370430113222656': [], '500451839620681728': [], '502874818652692480': []}} \n",
            "\n",
            "17 {'499697648866045953': {'499704270909087744': []}} \n",
            "\n",
            "18 {'500360889347096576': []} \n",
            "\n",
            "19 {'500287595403022336': {'500287916518961152': [], '500288805287759872': [], '500290762731700225': [], '500296409355014150': {'500298793842384896': {'500299219312205824': [], '500305348881055744': {'500307372695240705': []}}}, '500331425904992257': [], '500334295827755008': []}} \n",
            "\n"
          ]
        }
      ],
      "source": [
        "count = 0\n",
        "allTweets = []\n",
        "\n",
        "for i in os.listdir(sample_directory):\n",
        "  if i[0] != '.':\n",
        "    allTweets.append(i)\n",
        "    reactions_path = sample_directory + '/' + i + '/structure.json'\n",
        "    \n",
        "    with open(reactions_path, 'r') as k:\n",
        "      contents = json.loads(k.read())\n",
        "\n",
        "    print(count, contents, '\\n')\n",
        "    count += 1\n",
        "  \n",
        "  if count == 20:\n",
        "    break"
      ]
    },
    {
      "cell_type": "markdown",
      "metadata": {
        "id": "Yk6WTe5AX5tk"
      },
      "source": [
        "## All the comments of each tweet"
      ]
    },
    {
      "cell_type": "code",
      "execution_count": null,
      "metadata": {
        "colab": {
          "base_uri": "https://localhost:8080/"
        },
        "id": "MZb28MGxj9oy",
        "outputId": "87b1fcfd-f2f9-4439-8575-085ac2b4fbe3"
      },
      "outputs": [
        {
          "name": "stdout",
          "output_type": "stream",
          "text": [
            "500398504075071488\n",
            "500437107043627009 @blakewood24 @vplus @getnickwright sorry meant anyone not anymore. 500436755749695488 \n",
            "\n",
            "500411105517117440 @CartwheelPrint the availability heuristic applies to the cops decision making and now the crowds here is summary http://t.co/5GSGFBYfWt 500408569049513985 \n",
            "\n",
            "500419596885983233 @vplus about this kid? http://t.co/3VoHqJGBMn 500398504075071488 \n",
            "\n",
            "500453593485701120 @Royalsoptimist5 So in conclusion, you're a selfish ass hole who doesn't care about anyone else's life but your own. Got it. Enjoy your day. 500452379720818688 \n",
            "\n",
            "500452379720818688 @blakewood24 so honestly long as it doesn't effect me or my life than no doesn't really bother me if other people have issues. 500450613264920576 \n",
            "\n",
            "500443511775576064 @Royalsoptimist5 @vplus @getnickwright People are being shot, tear gassed, &amp; unlawfully detained in the streets. That's not constitutional. 500436755749695488 \n",
            "\n",
            "500399693256744961 @vplus @rcinstitute Yes, and it will change a few more times until he gets it just the way that he wants it. 500398504075071488 \n",
            "\n",
            "500409961092886528 @CartwheelPrint same here so much be stuff being done here's a taste that's relevant to #Ferguson http://t.co/iERLVuZTtq 500408569049513985 \n",
            "\n",
            "500406871476297728 @gjfitzgerald @vplus Kid about to go to college robs cigars unarmed and then jay walks with cigars in his hand?! Yeah/Nah #ferguson #auspol 500406508685762560 \n",
            "\n",
            "500400192772792321 @vplus @ryanjreilly This guy is 100% full of shit. The story just keeps changing. 500398504075071488 \n",
            "\n",
            "500435050673213440 @Royalsoptimist5 @vplus @getnickwright It doesn't matter what he did. Nothing in the realm of possiblities justifies him being shot 5+ times 500432740789940224 \n",
            "\n",
            "500406744141791233 @vplus @docrocktex26 the answer to your question is \"Yes, Constantly\" 500398504075071488 \n",
            "\n",
            "500418868993880064 @vplus he just did#CoverUp #FergusonShooting 500398504075071488 \n",
            "\n",
            "500408569049513985 @gjfitzgerald @vplus Thanks will try to get to it Gary lol all we do is read now, well I do anyway ;) 500408124801445889 \n",
            "\n",
            "500422416951029760 @vplus @jaketapper I think this is chapter 4 of the playbook 500398504075071488 \n",
            "\n",
            "500408206242238466 @vplus @ryanjreilly We call 'em rewrites in Hollywood.  Hope he's using Final Draft. 500398504075071488 \n",
            "\n",
            "500422793595326466 @vplus @getnickwright who cares? Not a 1 of u knew the kid or family, zero effect on your lives ZERO!!!! 500398504075071488 \n",
            "\n",
            "500398827103608832 @vplus Nope. Saw cigars, Then heard call about a robbery at the store. Connected dots. 500398504075071488 \n",
            "\n",
            "500456908713508864 @blakewood24 it's ok world is full of fake people like u who would rather hear happy BS than hard truths to make themselves feel better 500453593485701120 \n",
            "\n",
            "500449194885124096 @blakewood24 did you know any of them? R u losing sleep tonight because of them? Will u donate $ to support the community? Don't fake carein 500443511775576064 \n",
            "\n",
            "500432740789940224 @blakewood24 @vplus @getnickwright nobody knows if he's innocent or not. Your assuming, and frankly no I dont. Doesn't effect my life at all 500432042967203840 \n",
            "\n",
            "500432042967203840 @Royalsoptimist5 @vplus @getnickwright So you're cool with letting innocent people be killed? Nice man. That's something to be proud of. 500422793595326466 \n",
            "\n",
            "500399671282388992 @vplus My column: ARREST DARREN WILSON ARREST HIM NOW!!: http://t.co/qhFAK6rQ4a:\n",
            "#darrenwilson #michaelbrown #ferguson #NMOs14 #handsup 500398504075071488 \n",
            "\n",
            "500399523165130752 @vplus He changed the story five hours ago. http://t.co/ijPBW2qhDJ #THOMASJACKSONMUSTGO #DEVIANT #OUTRAGED #STRATEGIC, Brown Family Says! 500398504075071488 \n",
            "\n",
            "500399338368294913 @vplus @ryanjreilly again? 500398504075071488 \n",
            "\n",
            "500406508685762560 @CartwheelPrint @vplus makes sense even if cop didn't know about the robbery. Why would the kid have a box of cigars? Stop him &amp; find out 500400265787232257 \n",
            "\n",
            "500404069220229120 Only every time he opens his mouth. @vplus @j03_2 500398504075071488 \n",
            "\n",
            "500450613264920576 @Royalsoptimist5 I don't think you know what caring means. I'm not okay with wrongful vigilante justice and you shouldn't be either. 500449194885124096 \n",
            "\n",
            "500455598710722561 @blakewood24 u don't either my friend I just admit it. Like i said your not losing sleep, your not donating, not doing anything but..... 500453593485701120 \n",
            "\n",
            "500455678436061185 @Royalsoptimist5 It’s “you’re” 500455598710722561 \n",
            "\n",
            "500408124801445889 @CartwheelPrint interesting book \"thinking fast &amp; slow\" Kahneman details the thought processes very much worth a read @vplus 500406871476297728 \n",
            "\n",
            "500422884964040704 @vplus @jaketapper chief is \"speculating\" in public and knows that the officer is listening to his speculation (coaching the witness) 500422416951029760 \n",
            "\n",
            "500405855523983361 .@iamrobineublind yep. pretty much true. \n",
            "cc @vplus 500404069220229120 \n",
            "\n",
            "500436755749695488 @blakewood24 @vplus @getnickwright until all the facts are out I'm not judging anymore. That whole justice thing in the constitution u know 500435050673213440 \n",
            "\n",
            "500399103746908161 @vplus best line yet, \n",
            "POLICE CHIEF =MALL COP 500398504075071488 \n",
            "\n",
            "500400265787232257 “@vplus: Is the Police Chief in #Ferguson changing the story?  https://t.co/hjC5dtFdaU” Yep...#auspol #TheWorldisWatching 500398504075071488 \n",
            "\n",
            "500452100019482624 @blakewood24 dont know any1 involved, not my community. Got my own problems here, y add stres of others that dont effect my life n slightest 500450613264920576 \n",
            "\n",
            "500399480999403520 @vplus @ryanjreilly doesn't sound good 500398504075071488 \n",
            "\n",
            "500456294973599744 @_your_grammar haha, u sound like my wife! I always mess that one up, thanks for the spell check! 500455678436061185 \n",
            "\n",
            "500455721121488896 @blakewood24 bitch on twitter to make yourself feel like you care. But deep down, u really don't or you'd do something about it. 500453593485701120 \n",
            "\n",
            "500399431674781698 “@vplus: Is the Police Chief in #Ferguson changing the story?  https://t.co/2X9iCk9hsP” can they just _stop_ already???? 500398504075071488 \n",
            "\n",
            "500403389310959616 @vplus @docrocktex26 again? 500398504075071488 \n",
            "\n",
            "499648409767538688\n",
            "499654665676800001 @AmyMek \n",
            "So \n",
            "St Louis\n",
            " is allowing Corrupt\n",
            " New York City\n",
            " to speak\n",
            " and \n",
            "act for them. 499648409767538688 \n",
            "\n",
            "499671212780716032 @AmyMek @o1d_dude I'm locked and loaded. 499648409767538688 \n",
            "\n",
            "499654815706660864 @AmyMek @Boazziz It's time to round them all up &amp; throw them in prison where they belong. 499648409767538688 \n",
            "\n",
            "499653648277049344 @skydash @AmyMek @GayPatriot and their \"GodFather\" is @ALSHARPTON_REV 499651851126460416 \n",
            "\n",
            "499648674616864768 @AmyMek They'll be easy to spot... 499648409767538688 \n",
            "\n",
            "499650255265492993 @AmyMek : Missouri is CCW state,,,,,, all of it.    #justsaying 499648409767538688 \n",
            "\n",
            "499666118575792128 @AmyMek @GoalieBill328 @OkieVision @1Viperbabe @LeMarquand @TKrypt @rickybird11811 @Nettles18 @LeMarquand @infidelpamelaLC @ProudGrayback 499648409767538688 \n",
            "\n",
            "499671385305010176 @skydash @AmyMek @GayPatriot A little lower👇 499651851126460416 \n",
            "\n",
            "499650612406267904 @AmyMek It's not like holder or Obama would do anything. The BP are part of their brown shirt brigade. 499648409767538688 \n",
            "\n",
            "499651113352585218 @sgpope19 @AmyMek Missouri also has lesser restrictive gun laws than TEXAS! http://t.co/ITyNW5YwQh 499650255265492993 \n",
            "\n",
            "499649139442200576 @AmyMek seen these types before. First round half cut and run and puss themselves. Tough guy cowards who are simply criminals. 499648409767538688 \n",
            "\n",
            "499651230197485570 @AmyMek @GayPatriot Were those guns a bulk purchase? They look to be all the same. http://t.co/PyXyKAkOUt 499648409767538688 \n",
            "\n",
            "499671325200617473 Muppet brainwashed RT @tomgreen1959: @AmyMek @dhrxsol1234 why are they all carrying commie rifles? 499669911740743680 \n",
            "\n",
            "499671034556334081 @AmyMek My response to #NBP is bring it. 499648409767538688 \n",
            "\n",
            "499650708845903874 @kenk22 @AmyMek not only easy to spot, easy to hit. 499648674616864768 \n",
            "\n",
            "499655517628039168 @temi227 @AmyMek Yep! That's the America's version of isis 499654521765629953 \n",
            "\n",
            "499650314392580097 @AmyMek Manson - the original mental tweeter 499648409767538688 \n",
            "\n",
            "499649229938098177 @AmyMek   Answer:  M1911 A1.  .45 Caliber Auto.  Notice all these fools are armed with AK47'S? 499648409767538688 \n",
            "\n",
            "499648603812401154 @AmyMek \n",
            "All set up by holder and obama. 499648409767538688 \n",
            "\n",
            "499670989496528897 .@AmyMek Ponchos great for style but won't stop bullets.  #WhiteyGonnaRiotToo 499648409767538688 \n",
            "\n",
            "499669100441137152 @AmyMek I'm fucking ready...locked and loaded... 499648409767538688 \n",
            "\n",
            "499653917118963713 .@AmyMek In #EricHolder's eyes, these guys can do No Wrong, but then Holder just stole Tax $'s 2 entertain his daughters &amp; their #BFFs. 499648409767538688 \n",
            "\n",
            "499648409767538688 Lets bomb nurseries w/ White Babies!? FBI: #NBP leader inciting violence in #Ferguson http://t.co/TCXSbfrTsV #tcot http://t.co/XDZqcWnoUQ None \n",
            "\n",
            "499668996330094592 @AmyMek @OkieVision Oh wow looks familiar 499648409767538688 \n",
            "\n",
            "499651851126460416 @AmyMek @GayPatriot Any guesses on the cumulative IQ?? 87....88? 499648409767538688 \n",
            "\n",
            "499651701847371776 @AmyMek whitey says \"We got e'm too\"... 499648409767538688 \n",
            "\n",
            "499649482938925057 @AmyMek   Answer:  \"STAND YOUR GROUND LAW\"  In every state. 499648409767538688 \n",
            "\n",
            "499654228671860736 @Kimmyincali My guess would be most. They do incite the words of Nation of Islam. @AmyMek 499653186354180096 \n",
            "\n",
            "499652870774325248 @sgpope19 @AmyMek Gun laws in Missouri are more in the favor of we the people. Less restrictive on what you can own and how you can carry. 499652276055990272 \n",
            "\n",
            "499652276055990272 @civilwarcometh @AmyMek : dont understand what you mean.  Our \"Gun Court\" ? 499651113352585218 \n",
            "\n",
            "499673439913771008 @AmyMek NBP can bring it.. 499648409767538688 \n",
            "\n",
            "499653186354180096 @AmyMek How many are Muslims?? ;) 499648409767538688 \n",
            "\n",
            "499654521765629953 @AmyMek @Th3_Ugly_tru3 Americas version of #ISIS? 499648409767538688 \n",
            "\n",
            "499649072475934721 @AmyMek no doubt emboldened by zero enforcement of their voter intimidation racket. 499648409767538688 \n",
            "\n",
            "499653316117143553 @sgpope19 @AmyMek And we have fewer gun laws than TEXAS! 499652276055990272 \n",
            "\n",
            "499653650525212672 @civilwarcometh @AmyMek : oh,,, ok. 499653316117143553 \n",
            "\n",
            "499671664163323904 @AmyMek They gots the time, I gots da ammo. 499648409767538688 \n",
            "\n",
            "499669911740743680 @AmyMek @dhrxsol1234 why are they all carrying commie rifles? 499648409767538688 \n",
            "\n",
            "499650645444792320 @AmyMek @ChristiChat note the AKs. not just rifles, but specifically chosen bc of communist symbolism. mau mau anyone? 499648409767538688 \n",
            "\n",
            "500364290545958912\n",
            "500367587361173504 “@Bossip: #Ferguson chief said the officer was unaware of any robbery &amp; stopped #MikeBrown for jay walking. #TheJig http://t.co/c5pDPVRdyD” 500364290545958912 \n",
            "\n",
            "500364913123291137 @Bossip Nice! 500364290545958912 \n",
            "\n",
            "500377691212611584 @_ac_kennedy @Bossip yes ma'am sadd story 9 shots tho i hope he dies 500377514292695041 \n",
            "\n",
            "500370667012112384 jay walking  is punishable by death without a TRIAL ??????? \n",
            "@Bossip @140elect 500364290545958912 \n",
            "\n",
            "500369411359117313 “@Bossip: #Ferguson chief said the officer stopped #MikeBrown for jay walking. #TheJig http://t.co/nFMOVhE8Ak”👆👆👆 500364290545958912 \n",
            "\n",
            "500383577474084864 @Bossip #cokeboys Ana Baby single Labels prodby @DAMEGREASE click here http://t.co/Mg6gP1zs9n http://t.co/Bha6fIZKQL 500364290545958912 \n",
            "\n",
            "500382618450669568 @Bossip #cokeboys Ana Baby single Labels prodby @DAMEGREASE  http://t.co/Mg6gP1zs9n http://t.co/LKKRrq4Ajv 500364290545958912 \n",
            "\n",
            "500365125568978944 “@Bossip: #Ferguson chief said the officer was unaware of any robbery &amp; stopped #MikeBrown for jay walking. #TheJig http://t.co/ZkHsiI4QyM”📝 500364290545958912 \n",
            "\n",
            "500377514292695041 “@TFSterl: @Bossip @_ac_kennedy Thats even worse smh” exactly, cuz that means he was just being racist from the start 500376214968623104 \n",
            "\n",
            "500373438650155008 @adam_zander @Bossip @140elect But SCOTUS assures us there is no longer any race problems in America. 500370667012112384 \n",
            "\n",
            "500366222748573696 RT @Bossip #Ferguson chief said the officer was unaware of any robbery &amp; stopped #MikeBrown for jay walking. #TheJig http://t.co/nx5gUBqhA9 500364290545958912 \n",
            "\n",
            "500372466905382913 @Bossip it's not even robbery.. it's simple theft. What under or about $100 in goods. Removed from store is theft. No weapons used 500364290545958912 \n",
            "\n",
            "500387852287762433 “@Bossip: #Ferguson chief said the officer was unaware of any robbery &amp; stopped #MikeBrown for jay walking. #TheJig http://t.co/eiWdcT3MkK” 500364290545958912 \n",
            "\n",
            "500364708835504128 @Bossip They beat the crap outta Tupac for Jay Walking.... smh 500364290545958912 \n",
            "\n",
            "500364290545958912 #Ferguson chief said the officer was unaware of any robbery &amp; stopped #MikeBrown for jay walking. #TheJig http://t.co/uLWzIJH5WJ None \n",
            "\n",
            "500376214968623104 @Bossip @_ac_kennedy Thats even worse smh 500364290545958912 \n",
            "\n",
            "500365728152027136 “@Bossip: #Ferguson chief said the officer was unaware of any robbery &amp; stopped #MikeBrown for jay walking. #TheJig http://t.co/rUXAalVVqA” 500364290545958912 \n",
            "\n",
            "500389187183706114 @drgoddess @HarlemWriter At some point they're going to stick to one story, right? 500387852287762433 \n",
            "\n",
            "500366741953073152 RT @Bossip #Ferguson chief said the officer was unaware of any robbery &amp; stopped #MikeBrown for jay walking. #TheJig http://t.co/HqijCd6fZP 500364290545958912 \n",
            "\n"
          ]
        }
      ],
      "source": [
        "count = 0\n",
        "\n",
        "for i in os.listdir(sample_directory):\n",
        "  if i[0] != '.':\n",
        "\n",
        "    reactions_path = sample_directory + '/' + i + '/reactions/'\n",
        "    print(i)\n",
        "\n",
        "    for j in os.listdir(reactions_path):\n",
        "      if j[0] != '.':\n",
        "        with open(reactions_path + j, 'r') as k:\n",
        "          contents = json.loads(k.read())\n",
        "\n",
        "        print(contents['id'], contents['text'], contents['in_reply_to_status_id'], '\\n')\n",
        "\n",
        "    count += 1\n",
        "    if count == 3:\n",
        "      break"
      ]
    },
    {
      "cell_type": "markdown",
      "metadata": {
        "id": "WXjbD90nipto"
      },
      "source": [
        "# Select random tweet and read the tweet"
      ]
    },
    {
      "cell_type": "code",
      "execution_count": null,
      "metadata": {
        "colab": {
          "base_uri": "https://localhost:8080/"
        },
        "id": "AXdQK2a8iqEM",
        "outputId": "5e3b41f1-cd5e-4d4c-9ed8-5a89b8f1fae4"
      },
      "outputs": [
        {
          "name": "stdout",
          "output_type": "stream",
          "text": [
            "500247666924986369 \n",
            "\n"
          ]
        }
      ],
      "source": [
        "wanted_id = random.choice(allTweets)\n",
        "print(wanted_id, '\\n')"
      ]
    },
    {
      "cell_type": "markdown",
      "metadata": {
        "id": "WdsPF2JvYCon"
      },
      "source": [
        "## Visualise tree of comments"
      ]
    },
    {
      "cell_type": "code",
      "execution_count": null,
      "metadata": {
        "colab": {
          "base_uri": "https://localhost:8080/"
        },
        "id": "tUutjTQo5P8T",
        "outputId": "69000026-1e7b-408a-c8e4-6174724770a1"
      },
      "outputs": [
        {
          "data": {
            "text/plain": [
              "{'500247666924986369': {'500247911246987264': [],\n",
              "  '500252377140977664': [],\n",
              "  '500254112399630339': [],\n",
              "  '500255271042949120': [],\n",
              "  '500256828228632576': [],\n",
              "  '500259324556738560': [],\n",
              "  '500260366807752704': [],\n",
              "  '500261138534125568': [],\n",
              "  '500262399388049409': [],\n",
              "  '500266589636141057': [],\n",
              "  '500269705715003392': [],\n",
              "  '500270246478249984': {'500276146223607808': {'500276471781662720': []}},\n",
              "  '500272554201075713': [],\n",
              "  '500276272153391107': {'500277642084364289': []}}}"
            ]
          },
          "execution_count": 16,
          "metadata": {},
          "output_type": "execute_result"
        }
      ],
      "source": [
        "with open(sample_directory + '/' + wanted_id + '/structure.json', 'r') as k:\n",
        "  contents = json.loads(k.read())\n",
        "\n",
        "contents"
      ]
    },
    {
      "cell_type": "code",
      "execution_count": null,
      "metadata": {
        "colab": {
          "base_uri": "https://localhost:8080/"
        },
        "id": "DZQ4vSn3i6UU",
        "outputId": "dae3e01f-f229-4a29-8ff5-2034fdad8aae"
      },
      "outputs": [
        {
          "name": "stdout",
          "output_type": "stream",
          "text": [
            "KKK already raising money for the police officer who shot and killed #MikeBrown - #Ferguson http://t.co/VWkZXjHF7V \n",
            "\n"
          ]
        }
      ],
      "source": [
        "root = Node(wanted_id)\n",
        "createTweetsTree(contents[wanted_id], root)\n",
        "\n",
        "tweet_path = sample_directory + '/' + wanted_id\n",
        "allComments = []\n",
        "\n",
        "with open(tweet_path + '/source-tweets/' + wanted_id + '.json', 'r') as j:\n",
        "  master_tweet= json.loads(j.read())\n",
        "\n",
        "print(master_tweet['text'], '\\n')\n",
        "\n",
        "for j in os.listdir(tweet_path + '/reactions/'):\n",
        "  if j[0] != '.':\n",
        "    \n",
        "    with open(tweet_path + '/reactions/' + j, 'r') as k:\n",
        "      contents = json.loads(k.read())\n",
        "      allComments.append(contents)"
      ]
    },
    {
      "cell_type": "code",
      "execution_count": null,
      "metadata": {
        "colab": {
          "base_uri": "https://localhost:8080/"
        },
        "id": "tYGKlmBvixx4",
        "outputId": "65e12471-a220-4857-edca-8f418e2c732b"
      },
      "outputs": [
        {
          "name": "stdout",
          "output_type": "stream",
          "text": [
            "500247666924986369\n",
            "├── 500247911246987264\n",
            "├── 500252377140977664\n",
            "├── 500254112399630339\n",
            "├── 500255271042949120\n",
            "├── 500256828228632576\n",
            "├── 500259324556738560\n",
            "├── 500260366807752704\n",
            "├── 500261138534125568\n",
            "├── 500262399388049409\n",
            "├── 500266589636141057\n",
            "├── 500269705715003392\n",
            "├── 500270246478249984\n",
            "│   └── 500276146223607808\n",
            "│       └── 500276471781662720\n",
            "├── 500272554201075713\n",
            "└── 500276272153391107\n",
            "    └── 500277642084364289\n"
          ]
        }
      ],
      "source": [
        "for pre, fill, node in RenderTree(root):\n",
        "  print(\"%s%s\" % (pre, node.name))"
      ]
    },
    {
      "cell_type": "markdown",
      "metadata": {
        "id": "-I-wyqIiigLV"
      },
      "source": [
        "## Convert comments to dataframe"
      ]
    },
    {
      "cell_type": "code",
      "execution_count": null,
      "metadata": {
        "colab": {
          "base_uri": "https://localhost:8080/"
        },
        "id": "ZS7q451figUQ",
        "outputId": "07a1207e-219d-4e75-8dda-437e7afe050c"
      },
      "outputs": [
        {
          "name": "stdout",
          "output_type": "stream",
          "text": [
            "User ID: 500276272153391107 Time: Fri Sep 18 15:05:59 +0000 2009\n",
            "In reply to: 500247666924986369\n",
            "@TheAnonMessage2 That's Sweet, but a bad investment. If #MichealBrownKiller accepts #KKK money it'll be bad PR for him &amp; #FergusonPolice \n",
            "\n",
            "User ID: 500255271042949120 Time: Wed Jun 10 16:34:40 +0000 2009\n",
            "In reply to: 500247666924986369\n",
            "@TheAnonMessage2 @CriticalDragon1 Of course they are 😡💂 \n",
            "\n",
            "User ID: 500247666924986369 Time: Tue Aug 12 06:41:41 +0000 2014\n",
            "In reply to: None\n",
            "KKK already raising money for the police officer who shot and killed #MikeBrown - #Ferguson http://t.co/VWkZXjHF7V \n",
            "\n",
            "User ID: 500256828228632576 Time: Wed May 06 05:25:14 +0000 2009\n",
            "In reply to: 500247666924986369\n",
            "Dont believe the lies.  They are trying to stir hate! #Ferguson  http://t.co/D8gyIU7fsr @TheAnonMessage2 #MikeBrown \n",
            "\n",
            "User ID: 500259324556738560 Time: Sun Jun 06 00:05:06 +0000 2010\n",
            "In reply to: 500247666924986369\n",
            "@TheAnonMessage2 @CriticalDragon1 When the KKK applauds your actions, that's a pretty good clue that you done fuct up! \n",
            "\n",
            "User ID: 500254112399630339 Time: Thu Apr 17 10:17:02 +0000 2014\n",
            "In reply to: 500247666924986369\n",
            "@TheAnonMessage2  Those dumb racist slobs are on the verge of being dissassembled. \n",
            "\n",
            "User ID: 500261138534125568 Time: Tue Sep 23 22:13:10 +0000 2008\n",
            "In reply to: 500247666924986369\n",
            "@TheAnonMessage2 I suspect they won't raise much...really hope I'm right. \n",
            "\n",
            "User ID: 500272554201075713 Time: Tue Mar 22 02:33:52 +0000 2011\n",
            "In reply to: 500247666924986369\n",
            "“@TheAnonMessage2: KKK already raising money for the police officer who shot and killed #MikeBrown - #Ferguson http://t.co/v9StNBFDDB” 😳 \n",
            "\n",
            "User ID: 500247911246987264 Time: Fri Nov 08 02:39:09 +0000 2013\n",
            "In reply to: 500247666924986369\n",
            "@TheAnonMessage2 The NRA won't be far behind. \n",
            "\n",
            "User ID: 500262399388049409 Time: Mon Dec 27 18:08:17 +0000 2010\n",
            "In reply to: 500247666924986369\n",
            "@TheAnonMessage2 @CriticalDragon1 tell the #KKK to come on 2 #Ferguson they welcome \n",
            "\n",
            "User ID: 500270246478249984 Time: Thu Aug 06 03:44:06 +0000 2009\n",
            "In reply to: 500247666924986369\n",
            "@TheAnonMessage2 @CriticalDragon1 The whole police force there is probably a member. I would not be surprised! \n",
            "\n",
            "User ID: 500252377140977664 Time: Mon May 04 23:46:41 +0000 2009\n",
            "In reply to: 500247666924986369\n",
            "@TheAnonMessage2 \n",
            "Let's see how much they raise. Numbers are very Important Here... \n",
            "\n",
            "User ID: 500260366807752704 Time: Thu Jun 13 16:27:33 +0000 2013\n",
            "In reply to: 500247666924986369\n",
            "@TheAnonMessage2 @CriticalDragon1 i would love to shoot every member of the kkk and watch them die slowly.. But god forbid \n",
            "\n",
            "User ID: 500269705715003392 Time: Tue Mar 27 22:17:17 +0000 2012\n",
            "In reply to: 500247666924986369\n",
            "@TheAnonMessage2 Blaming #KKK a tactic you'd know its #DemocratUnion who's raising money #Americans love keeping #Racial_Political_WomanWars \n",
            "\n",
            "User ID: 500276146223607808 Time: Sun Apr 29 19:25:38 +0000 2012\n",
            "In reply to: 500270246478249984\n",
            "@SusanFoxxe  I doubt every single cop in Ferguson is a white racist. / @TheAnonMessage2 \n",
            "\n",
            "User ID: 500266589636141057 Time: Wed Jul 28 18:23:50 +0000 2010\n",
            "In reply to: 500247666924986369\n",
            "@TheAnonMessage2 @CriticalDragon1 he's already on paid vacation ! \n",
            "\n",
            "User ID: 500277642084364289 Time: Tue Jun 24 15:49:33 +0000 2014\n",
            "In reply to: 500276272153391107\n",
            "@MajorCJefferson I hope no one accepts KKK money. But it'll come up that intl hacker and player going by @TheAnonMessage2 supports ME hate. \n",
            "\n",
            "User ID: 500276471781662720 Time: Thu Aug 06 03:44:06 +0000 2009\n",
            "In reply to: 500276146223607808\n",
            "@CriticalDragon1 @TheAnonMessage2 I don't doubt it. \n",
            "\n"
          ]
        }
      ],
      "source": [
        "result = processTweetsToDict(allComments)"
      ]
    },
    {
      "cell_type": "code",
      "execution_count": null,
      "metadata": {
        "colab": {
          "base_uri": "https://localhost:8080/",
          "height": 320
        },
        "id": "4Hp9f4SNjJ_k",
        "outputId": "c4d8e59f-ae26-4c7e-859f-a4447a4a130d"
      },
      "outputs": [
        {
          "data": {
            "text/html": [
              "\n",
              "  <div id=\"df-670c0773-4dd2-408c-b724-126726260a19\">\n",
              "    <div class=\"colab-df-container\">\n",
              "      <div>\n",
              "<style scoped>\n",
              "    .dataframe tbody tr th:only-of-type {\n",
              "        vertical-align: middle;\n",
              "    }\n",
              "\n",
              "    .dataframe tbody tr th {\n",
              "        vertical-align: top;\n",
              "    }\n",
              "\n",
              "    .dataframe thead th {\n",
              "        text-align: right;\n",
              "    }\n",
              "</style>\n",
              "<table border=\"1\" class=\"dataframe\">\n",
              "  <thead>\n",
              "    <tr style=\"text-align: right;\">\n",
              "      <th></th>\n",
              "      <th>id</th>\n",
              "      <th>timestamp</th>\n",
              "      <th>reply_to</th>\n",
              "      <th>comment</th>\n",
              "      <th>url</th>\n",
              "      <th>link_title</th>\n",
              "    </tr>\n",
              "  </thead>\n",
              "  <tbody>\n",
              "    <tr>\n",
              "      <th>0</th>\n",
              "      <td>500276272153391107</td>\n",
              "      <td>Fri Sep 18 15:05:59 +0000 2009</td>\n",
              "      <td>5.002476669249864e+17</td>\n",
              "      <td>@TheAnonMessage2 That's Sweet, but a bad inves...</td>\n",
              "      <td></td>\n",
              "      <td></td>\n",
              "    </tr>\n",
              "    <tr>\n",
              "      <th>1</th>\n",
              "      <td>500255271042949120</td>\n",
              "      <td>Wed Jun 10 16:34:40 +0000 2009</td>\n",
              "      <td>5.002476669249864e+17</td>\n",
              "      <td>@TheAnonMessage2 @CriticalDragon1 Of course th...</td>\n",
              "      <td></td>\n",
              "      <td></td>\n",
              "    </tr>\n",
              "    <tr>\n",
              "      <th>2</th>\n",
              "      <td>500247666924986369</td>\n",
              "      <td>Tue Aug 12 06:41:41 +0000 2014</td>\n",
              "      <td>nan</td>\n",
              "      <td>KKK already raising money for the police offic...</td>\n",
              "      <td>http://littlegreenfootballs.com/page/310691_Ha...</td>\n",
              "      <td>[littlegreenfootballs.com]</td>\n",
              "    </tr>\n",
              "    <tr>\n",
              "      <th>3</th>\n",
              "      <td>500256828228632576</td>\n",
              "      <td>Wed May 06 05:25:14 +0000 2009</td>\n",
              "      <td>5.002476669249864e+17</td>\n",
              "      <td>Dont believe the lies.  They are trying to sti...</td>\n",
              "      <td>https://pastebin.com/d19hGj4A;</td>\n",
              "      <td>[pastebin.com]</td>\n",
              "    </tr>\n",
              "    <tr>\n",
              "      <th>4</th>\n",
              "      <td>500259324556738560</td>\n",
              "      <td>Sun Jun 06 00:05:06 +0000 2010</td>\n",
              "      <td>5.002476669249864e+17</td>\n",
              "      <td>@TheAnonMessage2 @CriticalDragon1 When the KKK...</td>\n",
              "      <td></td>\n",
              "      <td></td>\n",
              "    </tr>\n",
              "  </tbody>\n",
              "</table>\n",
              "</div>\n",
              "      <button class=\"colab-df-convert\" onclick=\"convertToInteractive('df-670c0773-4dd2-408c-b724-126726260a19')\"\n",
              "              title=\"Convert this dataframe to an interactive table.\"\n",
              "              style=\"display:none;\">\n",
              "        \n",
              "  <svg xmlns=\"http://www.w3.org/2000/svg\" height=\"24px\"viewBox=\"0 0 24 24\"\n",
              "       width=\"24px\">\n",
              "    <path d=\"M0 0h24v24H0V0z\" fill=\"none\"/>\n",
              "    <path d=\"M18.56 5.44l.94 2.06.94-2.06 2.06-.94-2.06-.94-.94-2.06-.94 2.06-2.06.94zm-11 1L8.5 8.5l.94-2.06 2.06-.94-2.06-.94L8.5 2.5l-.94 2.06-2.06.94zm10 10l.94 2.06.94-2.06 2.06-.94-2.06-.94-.94-2.06-.94 2.06-2.06.94z\"/><path d=\"M17.41 7.96l-1.37-1.37c-.4-.4-.92-.59-1.43-.59-.52 0-1.04.2-1.43.59L10.3 9.45l-7.72 7.72c-.78.78-.78 2.05 0 2.83L4 21.41c.39.39.9.59 1.41.59.51 0 1.02-.2 1.41-.59l7.78-7.78 2.81-2.81c.8-.78.8-2.07 0-2.86zM5.41 20L4 18.59l7.72-7.72 1.47 1.35L5.41 20z\"/>\n",
              "  </svg>\n",
              "      </button>\n",
              "      \n",
              "  <style>\n",
              "    .colab-df-container {\n",
              "      display:flex;\n",
              "      flex-wrap:wrap;\n",
              "      gap: 12px;\n",
              "    }\n",
              "\n",
              "    .colab-df-convert {\n",
              "      background-color: #E8F0FE;\n",
              "      border: none;\n",
              "      border-radius: 50%;\n",
              "      cursor: pointer;\n",
              "      display: none;\n",
              "      fill: #1967D2;\n",
              "      height: 32px;\n",
              "      padding: 0 0 0 0;\n",
              "      width: 32px;\n",
              "    }\n",
              "\n",
              "    .colab-df-convert:hover {\n",
              "      background-color: #E2EBFA;\n",
              "      box-shadow: 0px 1px 2px rgba(60, 64, 67, 0.3), 0px 1px 3px 1px rgba(60, 64, 67, 0.15);\n",
              "      fill: #174EA6;\n",
              "    }\n",
              "\n",
              "    [theme=dark] .colab-df-convert {\n",
              "      background-color: #3B4455;\n",
              "      fill: #D2E3FC;\n",
              "    }\n",
              "\n",
              "    [theme=dark] .colab-df-convert:hover {\n",
              "      background-color: #434B5C;\n",
              "      box-shadow: 0px 1px 3px 1px rgba(0, 0, 0, 0.15);\n",
              "      filter: drop-shadow(0px 1px 2px rgba(0, 0, 0, 0.3));\n",
              "      fill: #FFFFFF;\n",
              "    }\n",
              "  </style>\n",
              "\n",
              "      <script>\n",
              "        const buttonEl =\n",
              "          document.querySelector('#df-670c0773-4dd2-408c-b724-126726260a19 button.colab-df-convert');\n",
              "        buttonEl.style.display =\n",
              "          google.colab.kernel.accessAllowed ? 'block' : 'none';\n",
              "\n",
              "        async function convertToInteractive(key) {\n",
              "          const element = document.querySelector('#df-670c0773-4dd2-408c-b724-126726260a19');\n",
              "          const dataTable =\n",
              "            await google.colab.kernel.invokeFunction('convertToInteractive',\n",
              "                                                     [key], {});\n",
              "          if (!dataTable) return;\n",
              "\n",
              "          const docLinkHtml = 'Like what you see? Visit the ' +\n",
              "            '<a target=\"_blank\" href=https://colab.research.google.com/notebooks/data_table.ipynb>data table notebook</a>'\n",
              "            + ' to learn more about interactive tables.';\n",
              "          element.innerHTML = '';\n",
              "          dataTable['output_type'] = 'display_data';\n",
              "          await google.colab.output.renderOutput(dataTable, element);\n",
              "          const docLink = document.createElement('div');\n",
              "          docLink.innerHTML = docLinkHtml;\n",
              "          element.appendChild(docLink);\n",
              "        }\n",
              "      </script>\n",
              "    </div>\n",
              "  </div>\n",
              "  "
            ],
            "text/plain": [
              "                   id                       timestamp               reply_to  \\\n",
              "0  500276272153391107  Fri Sep 18 15:05:59 +0000 2009  5.002476669249864e+17   \n",
              "1  500255271042949120  Wed Jun 10 16:34:40 +0000 2009  5.002476669249864e+17   \n",
              "2  500247666924986369  Tue Aug 12 06:41:41 +0000 2014                    nan   \n",
              "3  500256828228632576  Wed May 06 05:25:14 +0000 2009  5.002476669249864e+17   \n",
              "4  500259324556738560  Sun Jun 06 00:05:06 +0000 2010  5.002476669249864e+17   \n",
              "\n",
              "                                             comment  \\\n",
              "0  @TheAnonMessage2 That's Sweet, but a bad inves...   \n",
              "1  @TheAnonMessage2 @CriticalDragon1 Of course th...   \n",
              "2  KKK already raising money for the police offic...   \n",
              "3  Dont believe the lies.  They are trying to sti...   \n",
              "4  @TheAnonMessage2 @CriticalDragon1 When the KKK...   \n",
              "\n",
              "                                                 url  \\\n",
              "0                                                      \n",
              "1                                                      \n",
              "2  http://littlegreenfootballs.com/page/310691_Ha...   \n",
              "3                     https://pastebin.com/d19hGj4A;   \n",
              "4                                                      \n",
              "\n",
              "                   link_title  \n",
              "0                              \n",
              "1                              \n",
              "2  [littlegreenfootballs.com]  \n",
              "3              [pastebin.com]  \n",
              "4                              "
            ]
          },
          "execution_count": 20,
          "metadata": {},
          "output_type": "execute_result"
        }
      ],
      "source": [
        "df = pd.DataFrame.from_dict(result)\n",
        "df['id'] = df['id'].astype(str)\n",
        "df['reply_to'] = df['reply_to'].astype(str)\n",
        "df['url'] = df['comment'].apply(lambda x: getLinks(x))\n",
        "df['link_title'] = df['url'].apply(lambda x: getURLfromList(x))\n",
        "\n",
        "df.head()"
      ]
    }
  ],
  "metadata": {
    "colab": {
      "authorship_tag": "ABX9TyNJlGkHYczFZQ5dodO+Mjhq",
      "collapsed_sections": [],
      "include_colab_link": true,
      "mount_file_id": "1LQO-4i5wHM5V4tgMm-UwlP4F2Xa8z_Uk",
      "name": "Twitter Data Collection from PHEME Dataset.ipynb",
      "provenance": []
    },
    "kernelspec": {
      "display_name": "Python 3",
      "name": "python3"
    },
    "language_info": {
      "codemirror_mode": {
        "name": "ipython",
        "version": 3
      },
      "file_extension": ".py",
      "mimetype": "text/x-python",
      "name": "python",
      "nbconvert_exporter": "python",
      "pygments_lexer": "ipython3",
      "version": "3.11.3"
    }
  },
  "nbformat": 4,
  "nbformat_minor": 0
}
