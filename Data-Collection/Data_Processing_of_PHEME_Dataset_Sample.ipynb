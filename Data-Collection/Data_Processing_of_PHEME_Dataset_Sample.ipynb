{
  "cells": [
    {
      "cell_type": "markdown",
      "metadata": {
        "id": "view-in-github",
        "colab_type": "text"
      },
      "source": [
        "<a href=\"https://colab.research.google.com/github/Confirmation-Bias-Analyser/Data-Collection/blob/main/Data_Processing_of_PHEME_Dataset_Sample.ipynb\" target=\"_parent\"><img src=\"https://colab.research.google.com/assets/colab-badge.svg\" alt=\"Open In Colab\"/></a>"
      ]
    },
    {
      "cell_type": "code",
      "source": [
        "%%capture\n",
        "!pip install anytree"
      ],
      "metadata": {
        "id": "7ExpVC9ea3Tl"
      },
      "execution_count": null,
      "outputs": []
    },
    {
      "cell_type": "markdown",
      "source": [
        "# Import essential libraries and declare functions"
      ],
      "metadata": {
        "id": "YI6gQ2PXhDgQ"
      }
    },
    {
      "cell_type": "code",
      "execution_count": null,
      "metadata": {
        "id": "CJjKKLkkW8Bg"
      },
      "outputs": [],
      "source": [
        "# from transformers import BertTokenizer, TFBertForSequenceClassification, InputExample, InputFeatures\n",
        "import tensorflow as tf\n",
        "import pandas as pd\n",
        "from google.colab import files\n",
        "from anytree import Node, RenderTree, search\n",
        "import random\n",
        "\n",
        "# The shutil module offers a number of high-level \n",
        "# operations on files and collections of files.\n",
        "import os\n",
        "import shutil\n",
        "import json"
      ]
    },
    {
      "cell_type": "code",
      "source": [
        "import re\n",
        "import urllib\n",
        "from urllib.parse import urlparse\n",
        "\n",
        "def createTweetsTree(dictionary, tree_root):\n",
        "    for key, item in dictionary.items():\n",
        "        child = Node(key, parent=tree_root)\n",
        "\n",
        "        if len(dictionary[key]) != 0:      \n",
        "            createTweetsTree(dictionary[key], child)\n",
        "\n",
        "        else:\n",
        "            continue\n",
        "\n",
        "def processTweetsToDict(conversation_data):\n",
        "    conversation_dict = {'id':[], 'timestamp':[], 'reply_to':[], 'comment':[]}\n",
        "\n",
        "    for i in conversation_data:\n",
        "        print('User ID:', i['id'], \n",
        "              'Time:', i['user']['created_at'])\n",
        "        print('In reply to:', i['in_reply_to_status_id'])\n",
        "        print(i['text'], '\\n')\n",
        "\n",
        "        conversation_dict['id'].append(i['id'])\n",
        "        conversation_dict['timestamp'].append(i['user']['created_at'])\n",
        "        conversation_dict['reply_to'].append(i['in_reply_to_status_id'])\n",
        "        conversation_dict['comment'].append(i['text'])\n",
        "\n",
        "    return conversation_dict\n",
        "\n",
        "def getLinks(string):\n",
        "    urls = re.findall(\"http[s]?://(?:[a-zA-Z]|[0-9]|[$-_@.&+]|[!*\\(\\),]|(?:%[0-9a-fA-F][0-9a-fA-F]))+\", string)\n",
        "    links = ''\n",
        "\n",
        "    for url in urls:\n",
        "        try:\n",
        "            opener = urllib.request.build_opener()\n",
        "            request = urllib.request.Request(url)\n",
        "            response = opener.open(request)\n",
        "            actual_url = response.geturl()\n",
        "                      \n",
        "            if '](' in actual_url:\n",
        "                actual_url = actual_url.split('](')[0]\n",
        "          \n",
        "            links += actual_url + ';'\n",
        "            \n",
        "            \n",
        "        except:\n",
        "            if '](' in url:\n",
        "                url = url.split('](')[0]\n",
        "          \n",
        "            links += url + ';'\n",
        "\n",
        "    return links\n",
        "\n",
        "def getURLfromList(url):\n",
        "    if ';' in url:\n",
        "        url = url.split(';')[:-1]\n",
        "        result = []\n",
        "    \n",
        "        for i in url:\n",
        "            result.append(urlparse(i).hostname)\n",
        "        \n",
        "        return result\n",
        "\n",
        "    else:\n",
        "        return ''   "
      ],
      "metadata": {
        "id": "RFa0sl8Lgl1f"
      },
      "execution_count": null,
      "outputs": []
    },
    {
      "cell_type": "markdown",
      "source": [
        "# Extract PHEME dataset and save to directory"
      ],
      "metadata": {
        "id": "0KaDfTASjH0Z"
      }
    },
    {
      "cell_type": "code",
      "execution_count": null,
      "metadata": {
        "id": "G2YLkJCcYqQg"
      },
      "outputs": [],
      "source": [
        "URL = \"https://figshare.com/ndownloader/files/11767817/PHEME_veracity.tar.bz2\"\n",
        "\n",
        "dataset = tf.keras.utils.get_file(fname=\"PHEME_veracity.tar.bz2\", \n",
        "                                  origin=URL,\n",
        "                                  untar=True,\n",
        "                                  cache_dir='.',\n",
        "                                  cache_subdir='')"
      ]
    },
    {
      "cell_type": "code",
      "source": [
        "!tar xzf '/content/PHEME_veracity.tar.bz2.tar.gz'"
      ],
      "metadata": {
        "id": "zCYYMMKucM4F"
      },
      "execution_count": null,
      "outputs": []
    },
    {
      "cell_type": "code",
      "source": [
        "threads = []\n",
        "data = ['non-rumours', 'rumours']\n",
        "\n",
        "for i in os.listdir('/content/all-rnr-annotated-threads'):\n",
        "  if i[0] != '.':\n",
        "    threads.append(i)"
      ],
      "metadata": {
        "id": "Gm2HPlLycNM-"
      },
      "execution_count": null,
      "outputs": []
    },
    {
      "cell_type": "markdown",
      "source": [
        "## Select random sample directory"
      ],
      "metadata": {
        "id": "lS_kSljljNeO"
      }
    },
    {
      "cell_type": "code",
      "source": [
        "selected_thread = random.choice(threads)\n",
        "selected_type = random.choice(data)\n",
        "\n",
        "path = '/content/all-rnr-annotated-threads/' + selected_thread + '/' + selected_type\n",
        "count = 0\n",
        "allTweets = []\n",
        "\n",
        "print(selected_thread, selected_type)\n",
        "\n",
        "for i in os.listdir(path):\n",
        "  if i[0] != '.':\n",
        "    reactions_path = path + '/' + i + '/structure.json'\n",
        "    \n",
        "    with open(reactions_path, 'r') as k:\n",
        "      contents = json.loads(k.read())\n",
        "\n",
        "      if len(contents[i]) > 1:\n",
        "        allTweets.append(i)\n",
        "\n",
        "    count += 1"
      ],
      "metadata": {
        "colab": {
          "base_uri": "https://localhost:8080/"
        },
        "id": "OPtm-iWei8gQ",
        "outputId": "4814127c-6023-4cb4-98ab-fe7f76963339"
      },
      "execution_count": null,
      "outputs": [
        {
          "output_type": "stream",
          "name": "stdout",
          "text": [
            "gurlitt-all-rnr-threads rumours\n"
          ]
        }
      ]
    },
    {
      "cell_type": "markdown",
      "source": [
        "## Select random tweet and read the tweet"
      ],
      "metadata": {
        "id": "e57IGBEDbbYM"
      }
    },
    {
      "cell_type": "code",
      "source": [
        "wanted_id = random.choice(allTweets)\n",
        "print(wanted_id, '\\n')\n",
        "\n",
        "with open(path + '/' + wanted_id + '/structure.json', 'r') as k:\n",
        "  contents = json.loads(k.read())\n",
        "  \n",
        "root = Node(wanted_id)\n",
        "createTweetsTree(contents[wanted_id], root)\n",
        "\n",
        "tweet_path = path + '/' + wanted_id\n",
        "allComments = []\n",
        "\n",
        "with open(tweet_path + '/source-tweets/' + wanted_id + '.json', 'r') as j:\n",
        "  master_tweet= json.loads(j.read())\n",
        "\n",
        "print(master_tweet['text'], '\\n')\n",
        "\n",
        "for j in os.listdir(tweet_path + '/reactions/'):\n",
        "  if j[0] != '.':\n",
        "    \n",
        "    with open(tweet_path + '/reactions/' + j, 'r') as k:\n",
        "      contents = json.loads(k.read())\n",
        "      allComments.append(contents)"
      ],
      "metadata": {
        "colab": {
          "base_uri": "https://localhost:8080/"
        },
        "id": "MZb28MGxj9oy",
        "outputId": "c91a3946-1aea-46d5-a5a9-6c3572ea1f39"
      },
      "execution_count": null,
      "outputs": [
        {
          "output_type": "stream",
          "name": "stdout",
          "text": [
            "536826643122503680 \n",
            "\n",
            "Swiss museum to accept hundreds of works of art bequeathed by German Nazi-era art hoarder Cornelius Gurlitt http://t.co/7DHYBAL0QK \n",
            "\n"
          ]
        }
      ]
    },
    {
      "cell_type": "markdown",
      "source": [
        "## Get random tweet\n",
        "Visualise tree of comments and convert comments to dataframe"
      ],
      "metadata": {
        "id": "1AiRAGXtCoKI"
      }
    },
    {
      "cell_type": "code",
      "source": [
        "for pre, fill, node in RenderTree(root):\n",
        "  print(\"%s%s\" % (pre, node.name))"
      ],
      "metadata": {
        "colab": {
          "base_uri": "https://localhost:8080/"
        },
        "id": "4TQAheof4gyp",
        "outputId": "f391828a-e1c6-415e-80a1-c22e36f29090"
      },
      "execution_count": null,
      "outputs": [
        {
          "output_type": "stream",
          "name": "stdout",
          "text": [
            "536826643122503680\n",
            "├── 536827740167864320\n",
            "├── 536827884116385792\n",
            "├── 536828004983652352\n",
            "│   └── 536832872162680833\n",
            "│       └── 536834142361886720\n",
            "├── 536828098755715074\n",
            "├── 536828276128624640\n",
            "├── 536828855403945984\n",
            "├── 536829095892770816\n",
            "├── 536829499686793216\n",
            "├── 536829987157209088\n",
            "├── 536830791024922624\n",
            "├── 536832724787400704\n",
            "├── 536835189260177408\n",
            "├── 536836102611828736\n",
            "└── 536837278761775104\n"
          ]
        }
      ]
    },
    {
      "cell_type": "code",
      "source": [
        "result = processTweetsToDict(allComments)"
      ],
      "metadata": {
        "colab": {
          "base_uri": "https://localhost:8080/"
        },
        "id": "tUutjTQo5P8T",
        "outputId": "e5716c54-4e9e-40c6-e6e8-49e994ff7e9b"
      },
      "execution_count": null,
      "outputs": [
        {
          "output_type": "stream",
          "name": "stdout",
          "text": [
            "User ID: 536835189260177408 Time: Tue Jun 16 09:03:50 +0000 2009\n",
            "In reply to: 536826643122503680\n",
            "@bbcbreaking At least it'll deflect attention from one of their own most psychotic sons, #SeppBlatter. #fifa #nazi #swiss \n",
            "\n",
            "User ID: 536829499686793216 Time: Sat Nov 08 09:11:01 +0000 2008\n",
            "In reply to: 536826643122503680\n",
            "@BBCBreaking It's nice 2 see the Swiss are benefitting once more from the Nazis as this rich banking country needs all the help they can get \n",
            "\n",
            "User ID: 536829095892770816 Time: Sun Oct 30 09:34:22 +0000 2011\n",
            "In reply to: 536826643122503680\n",
            "@BBCBreaking @BBCWorld not the 1st time Swiss have taken Nazi loot \n",
            "\n",
            "User ID: 536827884116385792 Time: Mon Mar 24 18:29:45 +0000 2014\n",
            "In reply to: 536826643122503680\n",
            "@BBCBreaking \n",
            "Instant Date Prank \n",
            "\n",
            "http://t.co/DhERLF9ytr\n",
            "\n",
            ".\n",
            "\n",
            "#MTVStars \n",
            "#RejectedSNLCharacters  .40 \n",
            "\n",
            "User ID: 536834142361886720 Time: Mon Sep 01 20:02:45 +0000 2014\n",
            "In reply to: 536832872162680833\n",
            "@TheExposMoose @BBCBreaking Yes unfortunately the case, maybe when its hung in gallery, pieces may be recognised, #swissart \n",
            "\n",
            "User ID: 536827740167864320 Time: Wed Jan 19 23:30:06 +0000 2011\n",
            "In reply to: 536826643122503680\n",
            "@BBCBreaking and will he be paid for the pieces? They're his! Robbin Hood policy! \n",
            "\n",
            "User ID: 536832872162680833 Time: Sat Oct 25 16:47:34 +0000 2014\n",
            "In reply to: 536828004983652352\n",
            "@woteverchanges @BBCBreaking odds are a lot was \n",
            "\n",
            "User ID: 536836102611828736 Time: Wed May 11 10:16:38 +0000 2011\n",
            "In reply to: 536826643122503680\n",
            "@BBCBreaking Hope it isn't art stolen from the Jewish people during the Hitter era. If it is, the museum shouldn't him a penny. #StolenItems \n",
            "\n",
            "User ID: 536828855403945984 Time: Wed Aug 07 18:37:13 +0000 2013\n",
            "In reply to: 536826643122503680\n",
            "@BBCBreaking ok \n",
            "\n",
            "User ID: 536828276128624640 Time: Wed Apr 10 13:18:41 +0000 2013\n",
            "In reply to: 536826643122503680\n",
            "@BBCBreaking they would ,find the owners and return I say \n",
            "\n",
            "User ID: 536829987157209088 Time: Tue Dec 27 18:56:45 +0000 2011\n",
            "In reply to: 536826643122503680\n",
            "@BBCBreaking How ironic.... \n",
            "\n",
            "User ID: 536832724787400704 Time: Sat Oct 26 18:07:27 +0000 2013\n",
            "In reply to: 536826643122503680\n",
            "@BBCBreaking @BBCWorld ART-WORLD HAS NO BARRIER FOR NAZI-ERA HOARDINGS. CONGRATULATION TO SWISS MUSEUM AUTHORITY FOR THEIR LIBERAL ATTITUDE. \n",
            "\n",
            "User ID: 536828004983652352 Time: Mon Sep 01 20:02:45 +0000 2014\n",
            "In reply to: 536826643122503680\n",
            "@BBCBreaking They aren't going to turn a €billion pot of #art away are they, but i hope none of it was stolen from persecuted #Jews #swiss \n",
            "\n",
            "User ID: 536837278761775104 Time: Mon Nov 25 10:31:16 +0000 2013\n",
            "In reply to: 536826643122503680\n",
            "“@BBCBreaking: Swiss museum to accept hundreds of works of art bequeathed by German Nazi-era art hoarder Cornelius Gurlitt - is this moral? \n",
            "\n",
            "User ID: 536830791024922624 Time: Sat Apr 07 07:38:34 +0000 2012\n",
            "In reply to: 536826643122503680\n",
            "“@BBCBreaking: Swiss museum to accept 100s of works of #art bequeathed by  Nazi-era art hoarder Cornelius Gurlitt http://t.co/z0Oqc0YYAB” \n",
            "\n",
            "User ID: 536828098755715074 Time: Thu Jul 10 20:56:50 +0000 2014\n",
            "In reply to: 536826643122503680\n",
            "@BBCBreaking Will there be a sweetener for EU President Mr Juncker? Time to invoke article 50! \n",
            "\n"
          ]
        }
      ]
    },
    {
      "cell_type": "code",
      "source": [
        "df = pd.DataFrame.from_dict(result)\n",
        "df['id'] = df['id'].astype(str)\n",
        "df['reply_to'] = df['reply_to'].astype(str)\n",
        "df['url'] = df['comment'].apply(lambda x: getLinks(x))\n",
        "df['link_title'] = df['url'].apply(lambda x: getURLfromList(x))\n",
        "\n",
        "df.head()"
      ],
      "metadata": {
        "colab": {
          "base_uri": "https://localhost:8080/",
          "height": 206
        },
        "id": "UaFs-dyUpRZK",
        "outputId": "6ae79b94-1285-40f9-ec75-07a0b4230599"
      },
      "execution_count": null,
      "outputs": [
        {
          "output_type": "execute_result",
          "data": {
            "text/plain": [
              "                   id                       timestamp            reply_to  \\\n",
              "0  536835189260177408  Tue Jun 16 09:03:50 +0000 2009  536826643122503680   \n",
              "1  536829499686793216  Sat Nov 08 09:11:01 +0000 2008  536826643122503680   \n",
              "2  536829095892770816  Sun Oct 30 09:34:22 +0000 2011  536826643122503680   \n",
              "3  536827884116385792  Mon Mar 24 18:29:45 +0000 2014  536826643122503680   \n",
              "4  536834142361886720  Mon Sep 01 20:02:45 +0000 2014  536832872162680833   \n",
              "\n",
              "                                             comment                      url  \\\n",
              "0  @bbcbreaking At least it'll deflect attention ...                            \n",
              "1  @BBCBreaking It's nice 2 see the Swiss are ben...                            \n",
              "2  @BBCBreaking @BBCWorld not the 1st time Swiss ...                            \n",
              "3  @BBCBreaking \\nInstant Date Prank \\n\\nhttp://t...  http://t.co/DhERLF9ytr;   \n",
              "4  @TheExposMoose @BBCBreaking Yes unfortunately ...                            \n",
              "\n",
              "  link_title  \n",
              "0             \n",
              "1             \n",
              "2             \n",
              "3     [t.co]  \n",
              "4             "
            ],
            "text/html": [
              "\n",
              "  <div id=\"df-4bb58964-fce9-4eac-809e-6700db8c9aed\">\n",
              "    <div class=\"colab-df-container\">\n",
              "      <div>\n",
              "<style scoped>\n",
              "    .dataframe tbody tr th:only-of-type {\n",
              "        vertical-align: middle;\n",
              "    }\n",
              "\n",
              "    .dataframe tbody tr th {\n",
              "        vertical-align: top;\n",
              "    }\n",
              "\n",
              "    .dataframe thead th {\n",
              "        text-align: right;\n",
              "    }\n",
              "</style>\n",
              "<table border=\"1\" class=\"dataframe\">\n",
              "  <thead>\n",
              "    <tr style=\"text-align: right;\">\n",
              "      <th></th>\n",
              "      <th>id</th>\n",
              "      <th>timestamp</th>\n",
              "      <th>reply_to</th>\n",
              "      <th>comment</th>\n",
              "      <th>url</th>\n",
              "      <th>link_title</th>\n",
              "    </tr>\n",
              "  </thead>\n",
              "  <tbody>\n",
              "    <tr>\n",
              "      <th>0</th>\n",
              "      <td>536835189260177408</td>\n",
              "      <td>Tue Jun 16 09:03:50 +0000 2009</td>\n",
              "      <td>536826643122503680</td>\n",
              "      <td>@bbcbreaking At least it'll deflect attention ...</td>\n",
              "      <td></td>\n",
              "      <td></td>\n",
              "    </tr>\n",
              "    <tr>\n",
              "      <th>1</th>\n",
              "      <td>536829499686793216</td>\n",
              "      <td>Sat Nov 08 09:11:01 +0000 2008</td>\n",
              "      <td>536826643122503680</td>\n",
              "      <td>@BBCBreaking It's nice 2 see the Swiss are ben...</td>\n",
              "      <td></td>\n",
              "      <td></td>\n",
              "    </tr>\n",
              "    <tr>\n",
              "      <th>2</th>\n",
              "      <td>536829095892770816</td>\n",
              "      <td>Sun Oct 30 09:34:22 +0000 2011</td>\n",
              "      <td>536826643122503680</td>\n",
              "      <td>@BBCBreaking @BBCWorld not the 1st time Swiss ...</td>\n",
              "      <td></td>\n",
              "      <td></td>\n",
              "    </tr>\n",
              "    <tr>\n",
              "      <th>3</th>\n",
              "      <td>536827884116385792</td>\n",
              "      <td>Mon Mar 24 18:29:45 +0000 2014</td>\n",
              "      <td>536826643122503680</td>\n",
              "      <td>@BBCBreaking \\nInstant Date Prank \\n\\nhttp://t...</td>\n",
              "      <td>http://t.co/DhERLF9ytr;</td>\n",
              "      <td>[t.co]</td>\n",
              "    </tr>\n",
              "    <tr>\n",
              "      <th>4</th>\n",
              "      <td>536834142361886720</td>\n",
              "      <td>Mon Sep 01 20:02:45 +0000 2014</td>\n",
              "      <td>536832872162680833</td>\n",
              "      <td>@TheExposMoose @BBCBreaking Yes unfortunately ...</td>\n",
              "      <td></td>\n",
              "      <td></td>\n",
              "    </tr>\n",
              "  </tbody>\n",
              "</table>\n",
              "</div>\n",
              "      <button class=\"colab-df-convert\" onclick=\"convertToInteractive('df-4bb58964-fce9-4eac-809e-6700db8c9aed')\"\n",
              "              title=\"Convert this dataframe to an interactive table.\"\n",
              "              style=\"display:none;\">\n",
              "        \n",
              "  <svg xmlns=\"http://www.w3.org/2000/svg\" height=\"24px\"viewBox=\"0 0 24 24\"\n",
              "       width=\"24px\">\n",
              "    <path d=\"M0 0h24v24H0V0z\" fill=\"none\"/>\n",
              "    <path d=\"M18.56 5.44l.94 2.06.94-2.06 2.06-.94-2.06-.94-.94-2.06-.94 2.06-2.06.94zm-11 1L8.5 8.5l.94-2.06 2.06-.94-2.06-.94L8.5 2.5l-.94 2.06-2.06.94zm10 10l.94 2.06.94-2.06 2.06-.94-2.06-.94-.94-2.06-.94 2.06-2.06.94z\"/><path d=\"M17.41 7.96l-1.37-1.37c-.4-.4-.92-.59-1.43-.59-.52 0-1.04.2-1.43.59L10.3 9.45l-7.72 7.72c-.78.78-.78 2.05 0 2.83L4 21.41c.39.39.9.59 1.41.59.51 0 1.02-.2 1.41-.59l7.78-7.78 2.81-2.81c.8-.78.8-2.07 0-2.86zM5.41 20L4 18.59l7.72-7.72 1.47 1.35L5.41 20z\"/>\n",
              "  </svg>\n",
              "      </button>\n",
              "      \n",
              "  <style>\n",
              "    .colab-df-container {\n",
              "      display:flex;\n",
              "      flex-wrap:wrap;\n",
              "      gap: 12px;\n",
              "    }\n",
              "\n",
              "    .colab-df-convert {\n",
              "      background-color: #E8F0FE;\n",
              "      border: none;\n",
              "      border-radius: 50%;\n",
              "      cursor: pointer;\n",
              "      display: none;\n",
              "      fill: #1967D2;\n",
              "      height: 32px;\n",
              "      padding: 0 0 0 0;\n",
              "      width: 32px;\n",
              "    }\n",
              "\n",
              "    .colab-df-convert:hover {\n",
              "      background-color: #E2EBFA;\n",
              "      box-shadow: 0px 1px 2px rgba(60, 64, 67, 0.3), 0px 1px 3px 1px rgba(60, 64, 67, 0.15);\n",
              "      fill: #174EA6;\n",
              "    }\n",
              "\n",
              "    [theme=dark] .colab-df-convert {\n",
              "      background-color: #3B4455;\n",
              "      fill: #D2E3FC;\n",
              "    }\n",
              "\n",
              "    [theme=dark] .colab-df-convert:hover {\n",
              "      background-color: #434B5C;\n",
              "      box-shadow: 0px 1px 3px 1px rgba(0, 0, 0, 0.15);\n",
              "      filter: drop-shadow(0px 1px 2px rgba(0, 0, 0, 0.3));\n",
              "      fill: #FFFFFF;\n",
              "    }\n",
              "  </style>\n",
              "\n",
              "      <script>\n",
              "        const buttonEl =\n",
              "          document.querySelector('#df-4bb58964-fce9-4eac-809e-6700db8c9aed button.colab-df-convert');\n",
              "        buttonEl.style.display =\n",
              "          google.colab.kernel.accessAllowed ? 'block' : 'none';\n",
              "\n",
              "        async function convertToInteractive(key) {\n",
              "          const element = document.querySelector('#df-4bb58964-fce9-4eac-809e-6700db8c9aed');\n",
              "          const dataTable =\n",
              "            await google.colab.kernel.invokeFunction('convertToInteractive',\n",
              "                                                     [key], {});\n",
              "          if (!dataTable) return;\n",
              "\n",
              "          const docLinkHtml = 'Like what you see? Visit the ' +\n",
              "            '<a target=\"_blank\" href=https://colab.research.google.com/notebooks/data_table.ipynb>data table notebook</a>'\n",
              "            + ' to learn more about interactive tables.';\n",
              "          element.innerHTML = '';\n",
              "          dataTable['output_type'] = 'display_data';\n",
              "          await google.colab.output.renderOutput(dataTable, element);\n",
              "          const docLink = document.createElement('div');\n",
              "          docLink.innerHTML = docLinkHtml;\n",
              "          element.appendChild(docLink);\n",
              "        }\n",
              "      </script>\n",
              "    </div>\n",
              "  </div>\n",
              "  "
            ]
          },
          "metadata": {},
          "execution_count": 11
        }
      ]
    },
    {
      "cell_type": "code",
      "source": [
        ""
      ],
      "metadata": {
        "id": "_VGZhlcs47h3"
      },
      "execution_count": null,
      "outputs": []
    }
  ],
  "metadata": {
    "colab": {
      "collapsed_sections": [],
      "name": "Data Processing of PHEME Dataset Sample.ipynb",
      "provenance": [],
      "mount_file_id": "179B_8SvH8cNZNZg0nc7vs_-2le-miXtY",
      "authorship_tag": "ABX9TyN00XnfFxjWfqsKeWzJ68VU",
      "include_colab_link": true
    },
    "kernelspec": {
      "display_name": "Python 3",
      "name": "python3"
    },
    "language_info": {
      "name": "python"
    }
  },
  "nbformat": 4,
  "nbformat_minor": 0
}