{
  "nbformat": 4,
  "nbformat_minor": 0,
  "metadata": {
    "colab": {
      "name": "Subjectivity Model Deployment for Prediction.ipynb",
      "provenance": [],
      "collapsed_sections": [],
      "mount_file_id": "1ltz2Gq5lmnfidzrLH45fW7jnXFW2ivkc",
      "authorship_tag": "ABX9TyNZu50UrMDS77llPIxpiy/3",
      "include_colab_link": true
    },
    "kernelspec": {
      "name": "python3",
      "display_name": "Python 3"
    },
    "language_info": {
      "name": "python"
    },
    "accelerator": "GPU"
  },
  "cells": [
    {
      "cell_type": "markdown",
      "metadata": {
        "id": "view-in-github",
        "colab_type": "text"
      },
      "source": [
        "<a href=\"https://colab.research.google.com/github/Confirmation-Bias-Analyser/Confirmation-Bias-Model/blob/main/Subjectivity_Model_Deployment_for_Prediction.ipynb\" target=\"_parent\"><img src=\"https://colab.research.google.com/assets/colab-badge.svg\" alt=\"Open In Colab\"/></a>"
      ]
    },
    {
      "cell_type": "code",
      "execution_count": 1,
      "metadata": {
        "id": "dYfGo9YqfWVy"
      },
      "outputs": [],
      "source": [
        "%%capture\n",
        "!pip install transformers\n",
        "!pip install anytree"
      ]
    },
    {
      "cell_type": "markdown",
      "source": [
        "# Import essential libraries"
      ],
      "metadata": {
        "id": "QzQ_vlOPvmlM"
      }
    },
    {
      "cell_type": "code",
      "source": [
        "from transformers import BertTokenizer, TFBertForSequenceClassification, InputExample, InputFeatures\n",
        "import tensorflow as tf\n",
        "import pandas as pd\n",
        "import re\n",
        "from google.colab import files, drive\n",
        "drive.mount('/content/drive')\n",
        "\n",
        "# The shutil module offers a number of high-level \n",
        "# operations on files and collections of files.\n",
        "import os\n",
        "import shutil"
      ],
      "metadata": {
        "id": "L6ncn_auiN5S",
        "colab": {
          "base_uri": "https://localhost:8080/"
        },
        "outputId": "47a70c1f-b324-44ff-86e3-cf29b85a0244"
      },
      "execution_count": 2,
      "outputs": [
        {
          "output_type": "stream",
          "name": "stdout",
          "text": [
            "Drive already mounted at /content/drive; to attempt to forcibly remount, call drive.mount(\"/content/drive\", force_remount=True).\n"
          ]
        }
      ]
    },
    {
      "cell_type": "markdown",
      "source": [
        "# Declare relevant function"
      ],
      "metadata": {
        "id": "l0DN1xdyv-t9"
      }
    },
    {
      "cell_type": "code",
      "source": [
        "def cleanComments(comments_array):\n",
        "    sentences = []\n",
        "\n",
        "    for i in comments_array:\n",
        "        sequence = i.replace('\\n', ' ') # Remove new line characters\n",
        "        sequence = sequence.replace('\\.', '')\n",
        "        sequence = sequence.replace('.', '')\n",
        "        sequence = sequence.replace(\",\", \" \")\n",
        "        sequence = sequence.replace(\"'\", \" \")\n",
        "        sequence = sequence.replace('\\\\', '')\n",
        "        sequence = sequence.replace('\\'s', '')\n",
        "        sequence = sequence.replace('&gt;', '') # Remove ampersand\n",
        "        sequence = re.sub(\"(@[A-Za-z0-9]+)|([^0-9A-Za-z \\t])|(\\w+:\\/\\/\\S+)\", \" \", sequence) # Remove the user name\n",
        "        sentences.append(sequence)\n",
        "\n",
        "    return sentences"
      ],
      "metadata": {
        "id": "jsggIErFwB4X"
      },
      "execution_count": 3,
      "outputs": []
    },
    {
      "cell_type": "markdown",
      "source": [
        "# Load Model"
      ],
      "metadata": {
        "id": "7WAsZTpUiki-"
      }
    },
    {
      "cell_type": "code",
      "source": [
        "saved_path = '/content/drive/MyDrive/Final Year Project/Key Notebooks/Confirmation Bias Analyser/'\n",
        "\n",
        "tokenizer = BertTokenizer.from_pretrained(saved_path + 'subjectivity_tokenizer')\n",
        "model = TFBertForSequenceClassification.from_pretrained(saved_path + 'saved_subjectivity_model')\n",
        "\n",
        "model.summary()"
      ],
      "metadata": {
        "colab": {
          "base_uri": "https://localhost:8080/"
        },
        "id": "H_wRe2xYiW9c",
        "outputId": "a29f16d9-76bf-4187-c7c1-b1e69f86d4e5"
      },
      "execution_count": 4,
      "outputs": [
        {
          "output_type": "stream",
          "name": "stderr",
          "text": [
            "All model checkpoint layers were used when initializing TFBertForSequenceClassification.\n",
            "\n",
            "All the layers of TFBertForSequenceClassification were initialized from the model checkpoint at /content/drive/MyDrive/Final Year Project/Key Notebooks/Confirmation Bias Analyser/saved_subjectivity_model.\n",
            "If your task is similar to the task the model of the checkpoint was trained on, you can already use TFBertForSequenceClassification for predictions without further training.\n"
          ]
        },
        {
          "output_type": "stream",
          "name": "stdout",
          "text": [
            "Model: \"tf_bert_for_sequence_classification\"\n",
            "_________________________________________________________________\n",
            " Layer (type)                Output Shape              Param #   \n",
            "=================================================================\n",
            " bert (TFBertMainLayer)      multiple                  109482240 \n",
            "                                                                 \n",
            " dropout_37 (Dropout)        multiple                  0         \n",
            "                                                                 \n",
            " classifier (Dense)          multiple                  1538      \n",
            "                                                                 \n",
            "=================================================================\n",
            "Total params: 109,483,778\n",
            "Trainable params: 109,483,778\n",
            "Non-trainable params: 0\n",
            "_________________________________________________________________\n"
          ]
        }
      ]
    },
    {
      "cell_type": "markdown",
      "source": [
        "# Predict Sequences"
      ],
      "metadata": {
        "id": "zGP_nfsFijcK"
      }
    },
    {
      "cell_type": "code",
      "source": [
        "test_df = pd.read_csv(saved_path + 'reddit_data.csv')\n",
        "pred_sentences = cleanComments(test_df['comment'])"
      ],
      "metadata": {
        "id": "o06y94ZeiTUH"
      },
      "execution_count": 5,
      "outputs": []
    },
    {
      "cell_type": "code",
      "source": [
        "tf_batch = tokenizer(pred_sentences, max_length=128, padding=True, truncation=True, return_tensors='tf')\n",
        "tf_outputs = model(tf_batch)\n",
        "tf_predictions = tf.nn.softmax(tf_outputs[0], axis=-1)\n",
        "\n",
        "labels = [0,1]\n",
        "label = tf.argmax(tf_predictions, axis=1)\n",
        "label = label.numpy()\n",
        "\n",
        "count_pos = 0\n",
        "count_neg = 0\n",
        "result = []\n",
        "\n",
        "for i in range(len(pred_sentences)):\n",
        "  result.append(float(tf_predictions[i,1]))\n",
        "\n",
        "  if labels[label[i]] == 1:\n",
        "    count_pos += 1\n",
        "  else:\n",
        "    count_neg += 1"
      ],
      "metadata": {
        "id": "Nae483LHiU5h"
      },
      "execution_count": 6,
      "outputs": []
    },
    {
      "cell_type": "markdown",
      "source": [
        "# Understand the subjectivity and objectivity of sequences"
      ],
      "metadata": {
        "id": "cgHrZ73Qvcaj"
      }
    },
    {
      "cell_type": "code",
      "source": [
        "print('Objective:', count_pos)\n",
        "print('Subjective:', count_neg)\n",
        "\n",
        "print('Total:', count_pos + count_neg)"
      ],
      "metadata": {
        "id": "YgDqfVu6icAx",
        "colab": {
          "base_uri": "https://localhost:8080/"
        },
        "outputId": "7d528ae1-dd4f-495f-8842-483772f0eef9"
      },
      "execution_count": 7,
      "outputs": [
        {
          "output_type": "stream",
          "name": "stdout",
          "text": [
            "Objective: 97\n",
            "Subjective: 84\n",
            "Total: 181\n"
          ]
        }
      ]
    },
    {
      "cell_type": "code",
      "source": [
        "test_df['sentiment'] = result\n",
        "test_df.to_csv('conversation_sentiment.csv')\n",
        "test_df"
      ],
      "metadata": {
        "id": "o6lAipeHic9K",
        "colab": {
          "base_uri": "https://localhost:8080/",
          "height": 424
        },
        "outputId": "a6a2237c-b0b0-4d74-ba2e-2efbe66eac1c"
      },
      "execution_count": 8,
      "outputs": [
        {
          "output_type": "execute_result",
          "data": {
            "text/plain": [
              "         user_name       id            timestamp reply_to  \\\n",
              "0      MapleViolet  hpr2kav  2021-12-24 08:55:24   rmqevj   \n",
              "1    HaddockFillet  hra9zzo  2022-01-05 08:14:35  hpr2kav   \n",
              "2    applescript16  hpntm2t  2021-12-23 16:24:16   rmqevj   \n",
              "3           iluj13  hpnwekg  2021-12-23 17:01:54  hpntm2t   \n",
              "4       forzenrose  hpnzb4r  2021-12-23 17:41:51  hpnwekg   \n",
              "..             ...      ...                  ...      ...   \n",
              "176       neekchan  hpr9xwq  2021-12-24 09:55:08   rmqevj   \n",
              "177      [deleted]  hpobx5f  2021-12-23 20:25:53   rmqevj   \n",
              "178      A-Chicken  hpr73zc  2021-12-24 09:32:25   rmqevj   \n",
              "179     PublicWar5  hpp9czp  2021-12-24 00:57:35   rmqevj   \n",
              "180        etyn100  hpnw8qy  2021-12-23 16:59:45   rmqevj   \n",
              "\n",
              "                                               comment  url link_title  \\\n",
              "0    All I know is - anyone trying to pull a fast o...  NaN        NaN   \n",
              "1    Why does she think it is OK to lie about such ...  NaN        NaN   \n",
              "2    Here’s some perspective: \\n\\n1) The public nat...  NaN        NaN   \n",
              "3    Well said. It’s only a problem if your party i...  NaN        NaN   \n",
              "4    &gt;Transparency and finding out the truth is ...  NaN        NaN   \n",
              "..                                                 ...  ...        ...   \n",
              "176  I agree. \\n\\nAnd as a swing voter the PAP drag...  NaN        NaN   \n",
              "177  This dum bish needs to learn from the pap fuck...  NaN        NaN   \n",
              "178  I'm sorry, but this is the opposition we're ta...  NaN        NaN   \n",
              "179  Honestly I hate the COP, I hate how much of a ...  NaN        NaN   \n",
              "180          Gotta milk some political brownies points  NaN        NaN   \n",
              "\n",
              "     sentiment  \n",
              "0     0.998633  \n",
              "1     0.000084  \n",
              "2     0.829385  \n",
              "3     0.700985  \n",
              "4     0.000424  \n",
              "..         ...  \n",
              "176   0.999677  \n",
              "177   0.987460  \n",
              "178   0.471892  \n",
              "179   0.997284  \n",
              "180   0.998206  \n",
              "\n",
              "[181 rows x 8 columns]"
            ],
            "text/html": [
              "\n",
              "  <div id=\"df-ef4393d1-90ec-44ef-84a0-925d8309861f\">\n",
              "    <div class=\"colab-df-container\">\n",
              "      <div>\n",
              "<style scoped>\n",
              "    .dataframe tbody tr th:only-of-type {\n",
              "        vertical-align: middle;\n",
              "    }\n",
              "\n",
              "    .dataframe tbody tr th {\n",
              "        vertical-align: top;\n",
              "    }\n",
              "\n",
              "    .dataframe thead th {\n",
              "        text-align: right;\n",
              "    }\n",
              "</style>\n",
              "<table border=\"1\" class=\"dataframe\">\n",
              "  <thead>\n",
              "    <tr style=\"text-align: right;\">\n",
              "      <th></th>\n",
              "      <th>user_name</th>\n",
              "      <th>id</th>\n",
              "      <th>timestamp</th>\n",
              "      <th>reply_to</th>\n",
              "      <th>comment</th>\n",
              "      <th>url</th>\n",
              "      <th>link_title</th>\n",
              "      <th>sentiment</th>\n",
              "    </tr>\n",
              "  </thead>\n",
              "  <tbody>\n",
              "    <tr>\n",
              "      <th>0</th>\n",
              "      <td>MapleViolet</td>\n",
              "      <td>hpr2kav</td>\n",
              "      <td>2021-12-24 08:55:24</td>\n",
              "      <td>rmqevj</td>\n",
              "      <td>All I know is - anyone trying to pull a fast o...</td>\n",
              "      <td>NaN</td>\n",
              "      <td>NaN</td>\n",
              "      <td>0.998633</td>\n",
              "    </tr>\n",
              "    <tr>\n",
              "      <th>1</th>\n",
              "      <td>HaddockFillet</td>\n",
              "      <td>hra9zzo</td>\n",
              "      <td>2022-01-05 08:14:35</td>\n",
              "      <td>hpr2kav</td>\n",
              "      <td>Why does she think it is OK to lie about such ...</td>\n",
              "      <td>NaN</td>\n",
              "      <td>NaN</td>\n",
              "      <td>0.000084</td>\n",
              "    </tr>\n",
              "    <tr>\n",
              "      <th>2</th>\n",
              "      <td>applescript16</td>\n",
              "      <td>hpntm2t</td>\n",
              "      <td>2021-12-23 16:24:16</td>\n",
              "      <td>rmqevj</td>\n",
              "      <td>Here’s some perspective: \\n\\n1) The public nat...</td>\n",
              "      <td>NaN</td>\n",
              "      <td>NaN</td>\n",
              "      <td>0.829385</td>\n",
              "    </tr>\n",
              "    <tr>\n",
              "      <th>3</th>\n",
              "      <td>iluj13</td>\n",
              "      <td>hpnwekg</td>\n",
              "      <td>2021-12-23 17:01:54</td>\n",
              "      <td>hpntm2t</td>\n",
              "      <td>Well said. It’s only a problem if your party i...</td>\n",
              "      <td>NaN</td>\n",
              "      <td>NaN</td>\n",
              "      <td>0.700985</td>\n",
              "    </tr>\n",
              "    <tr>\n",
              "      <th>4</th>\n",
              "      <td>forzenrose</td>\n",
              "      <td>hpnzb4r</td>\n",
              "      <td>2021-12-23 17:41:51</td>\n",
              "      <td>hpnwekg</td>\n",
              "      <td>&amp;gt;Transparency and finding out the truth is ...</td>\n",
              "      <td>NaN</td>\n",
              "      <td>NaN</td>\n",
              "      <td>0.000424</td>\n",
              "    </tr>\n",
              "    <tr>\n",
              "      <th>...</th>\n",
              "      <td>...</td>\n",
              "      <td>...</td>\n",
              "      <td>...</td>\n",
              "      <td>...</td>\n",
              "      <td>...</td>\n",
              "      <td>...</td>\n",
              "      <td>...</td>\n",
              "      <td>...</td>\n",
              "    </tr>\n",
              "    <tr>\n",
              "      <th>176</th>\n",
              "      <td>neekchan</td>\n",
              "      <td>hpr9xwq</td>\n",
              "      <td>2021-12-24 09:55:08</td>\n",
              "      <td>rmqevj</td>\n",
              "      <td>I agree. \\n\\nAnd as a swing voter the PAP drag...</td>\n",
              "      <td>NaN</td>\n",
              "      <td>NaN</td>\n",
              "      <td>0.999677</td>\n",
              "    </tr>\n",
              "    <tr>\n",
              "      <th>177</th>\n",
              "      <td>[deleted]</td>\n",
              "      <td>hpobx5f</td>\n",
              "      <td>2021-12-23 20:25:53</td>\n",
              "      <td>rmqevj</td>\n",
              "      <td>This dum bish needs to learn from the pap fuck...</td>\n",
              "      <td>NaN</td>\n",
              "      <td>NaN</td>\n",
              "      <td>0.987460</td>\n",
              "    </tr>\n",
              "    <tr>\n",
              "      <th>178</th>\n",
              "      <td>A-Chicken</td>\n",
              "      <td>hpr73zc</td>\n",
              "      <td>2021-12-24 09:32:25</td>\n",
              "      <td>rmqevj</td>\n",
              "      <td>I'm sorry, but this is the opposition we're ta...</td>\n",
              "      <td>NaN</td>\n",
              "      <td>NaN</td>\n",
              "      <td>0.471892</td>\n",
              "    </tr>\n",
              "    <tr>\n",
              "      <th>179</th>\n",
              "      <td>PublicWar5</td>\n",
              "      <td>hpp9czp</td>\n",
              "      <td>2021-12-24 00:57:35</td>\n",
              "      <td>rmqevj</td>\n",
              "      <td>Honestly I hate the COP, I hate how much of a ...</td>\n",
              "      <td>NaN</td>\n",
              "      <td>NaN</td>\n",
              "      <td>0.997284</td>\n",
              "    </tr>\n",
              "    <tr>\n",
              "      <th>180</th>\n",
              "      <td>etyn100</td>\n",
              "      <td>hpnw8qy</td>\n",
              "      <td>2021-12-23 16:59:45</td>\n",
              "      <td>rmqevj</td>\n",
              "      <td>Gotta milk some political brownies points</td>\n",
              "      <td>NaN</td>\n",
              "      <td>NaN</td>\n",
              "      <td>0.998206</td>\n",
              "    </tr>\n",
              "  </tbody>\n",
              "</table>\n",
              "<p>181 rows × 8 columns</p>\n",
              "</div>\n",
              "      <button class=\"colab-df-convert\" onclick=\"convertToInteractive('df-ef4393d1-90ec-44ef-84a0-925d8309861f')\"\n",
              "              title=\"Convert this dataframe to an interactive table.\"\n",
              "              style=\"display:none;\">\n",
              "        \n",
              "  <svg xmlns=\"http://www.w3.org/2000/svg\" height=\"24px\"viewBox=\"0 0 24 24\"\n",
              "       width=\"24px\">\n",
              "    <path d=\"M0 0h24v24H0V0z\" fill=\"none\"/>\n",
              "    <path d=\"M18.56 5.44l.94 2.06.94-2.06 2.06-.94-2.06-.94-.94-2.06-.94 2.06-2.06.94zm-11 1L8.5 8.5l.94-2.06 2.06-.94-2.06-.94L8.5 2.5l-.94 2.06-2.06.94zm10 10l.94 2.06.94-2.06 2.06-.94-2.06-.94-.94-2.06-.94 2.06-2.06.94z\"/><path d=\"M17.41 7.96l-1.37-1.37c-.4-.4-.92-.59-1.43-.59-.52 0-1.04.2-1.43.59L10.3 9.45l-7.72 7.72c-.78.78-.78 2.05 0 2.83L4 21.41c.39.39.9.59 1.41.59.51 0 1.02-.2 1.41-.59l7.78-7.78 2.81-2.81c.8-.78.8-2.07 0-2.86zM5.41 20L4 18.59l7.72-7.72 1.47 1.35L5.41 20z\"/>\n",
              "  </svg>\n",
              "      </button>\n",
              "      \n",
              "  <style>\n",
              "    .colab-df-container {\n",
              "      display:flex;\n",
              "      flex-wrap:wrap;\n",
              "      gap: 12px;\n",
              "    }\n",
              "\n",
              "    .colab-df-convert {\n",
              "      background-color: #E8F0FE;\n",
              "      border: none;\n",
              "      border-radius: 50%;\n",
              "      cursor: pointer;\n",
              "      display: none;\n",
              "      fill: #1967D2;\n",
              "      height: 32px;\n",
              "      padding: 0 0 0 0;\n",
              "      width: 32px;\n",
              "    }\n",
              "\n",
              "    .colab-df-convert:hover {\n",
              "      background-color: #E2EBFA;\n",
              "      box-shadow: 0px 1px 2px rgba(60, 64, 67, 0.3), 0px 1px 3px 1px rgba(60, 64, 67, 0.15);\n",
              "      fill: #174EA6;\n",
              "    }\n",
              "\n",
              "    [theme=dark] .colab-df-convert {\n",
              "      background-color: #3B4455;\n",
              "      fill: #D2E3FC;\n",
              "    }\n",
              "\n",
              "    [theme=dark] .colab-df-convert:hover {\n",
              "      background-color: #434B5C;\n",
              "      box-shadow: 0px 1px 3px 1px rgba(0, 0, 0, 0.15);\n",
              "      filter: drop-shadow(0px 1px 2px rgba(0, 0, 0, 0.3));\n",
              "      fill: #FFFFFF;\n",
              "    }\n",
              "  </style>\n",
              "\n",
              "      <script>\n",
              "        const buttonEl =\n",
              "          document.querySelector('#df-ef4393d1-90ec-44ef-84a0-925d8309861f button.colab-df-convert');\n",
              "        buttonEl.style.display =\n",
              "          google.colab.kernel.accessAllowed ? 'block' : 'none';\n",
              "\n",
              "        async function convertToInteractive(key) {\n",
              "          const element = document.querySelector('#df-ef4393d1-90ec-44ef-84a0-925d8309861f');\n",
              "          const dataTable =\n",
              "            await google.colab.kernel.invokeFunction('convertToInteractive',\n",
              "                                                     [key], {});\n",
              "          if (!dataTable) return;\n",
              "\n",
              "          const docLinkHtml = 'Like what you see? Visit the ' +\n",
              "            '<a target=\"_blank\" href=https://colab.research.google.com/notebooks/data_table.ipynb>data table notebook</a>'\n",
              "            + ' to learn more about interactive tables.';\n",
              "          element.innerHTML = '';\n",
              "          dataTable['output_type'] = 'display_data';\n",
              "          await google.colab.output.renderOutput(dataTable, element);\n",
              "          const docLink = document.createElement('div');\n",
              "          docLink.innerHTML = docLinkHtml;\n",
              "          element.appendChild(docLink);\n",
              "        }\n",
              "      </script>\n",
              "    </div>\n",
              "  </div>\n",
              "  "
            ]
          },
          "metadata": {},
          "execution_count": 8
        }
      ]
    },
    {
      "cell_type": "code",
      "source": [
        ""
      ],
      "metadata": {
        "id": "UCjwn95Gjidg"
      },
      "execution_count": 8,
      "outputs": []
    }
  ]
}