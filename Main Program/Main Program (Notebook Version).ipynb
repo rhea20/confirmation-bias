{
 "cells": [
  {
   "cell_type": "markdown",
   "metadata": {
    "colab_type": "text",
    "id": "view-in-github"
   },
   "source": [
    "<a href=\"https://colab.research.google.com/github/Confirmation-Bias-Analyser/Main-Program/blob/main/Main%20Program%20(Notebook_Version).ipynb\" target=\"_parent\"><img src=\"https://colab.research.google.com/assets/colab-badge.svg\" alt=\"Open In Colab\"/></a>"
   ]
  },
  {
   "cell_type": "code",
   "execution_count": 1,
   "metadata": {
    "id": "hWfyZWp7rj7E"
   },
   "outputs": [],
   "source": [
    "%%capture\n",
    "!pip install sentence_transformers\n",
    "!pip install vaderSentiment\n",
    "!pip install anytree\n",
    "!pip install dash\n",
    "!pip install jupyter-dash\n",
    "!pip install pyvis"
   ]
  },
  {
   "cell_type": "markdown",
   "metadata": {
    "id": "doYpuVELNMSi"
   },
   "source": [
    "# Import essential libraries and functions"
   ]
  },
  {
   "cell_type": "code",
   "execution_count": 2,
   "metadata": {
    "id": "CJjKKLkkW8Bg"
   },
   "outputs": [],
   "source": [
    "%%capture\n",
    "\n",
    "from transformers import BertTokenizer, TFBertForSequenceClassification, InputExample, InputFeatures\n",
    "import pandas as pd\n",
    "import numpy as np\n",
    "from google.colab import files\n",
    "import random\n",
    "import re\n",
    "\n",
    "# The shutil module offers a number of high-level operations on files and collections of files.\n",
    "import os\n",
    "import shutil\n",
    "\n",
    "import sys\n",
    "mainDirectory = \"/content/drive/MyDrive/Final Year Project/Key Notebooks/Main Program/\"\n",
    "sys.path.append(mainDirectory + 'Functions/')\n",
    "from confirmation_bias_model_functions import *\n",
    "from data_collection_functions import *\n",
    "from data_preprocessing_functions import *\n",
    "from visualisation_functions import *\n",
    "from verification_functions import *\n",
    "\n",
    "# from textblob import TextBlob\n",
    "import matplotlib.pyplot as plt\n",
    "from wordcloud import WordCloud\n",
    "from wordcloud import STOPWORDS\n",
    "\n",
    "from jupyter_dash import JupyterDash\n",
    "from dash import Dash, html, Input, Output, dash_table, dcc\n",
    "from dash.dependencies import Input, Output\n",
    "from IPython.core.display import display, HTML"
   ]
  },
  {
   "cell_type": "markdown",
   "metadata": {
    "id": "P8OgZp1eJcjx"
   },
   "source": [
    "# Authenticate API keys"
   ]
  },
  {
   "cell_type": "code",
   "execution_count": 3,
   "metadata": {
    "id": "G1SApui7aOAQ"
   },
   "outputs": [],
   "source": [
    "with open(mainDirectory + 'twitter_bearer_token.txt', 'r', encoding=\"utf8\") as f:\n",
    "    token = f.read()\n",
    "\n",
    "header = create_Twitter_headers(token)\n",
    "\n",
    "with open(mainDirectory + 'database_uri.txt', 'r', encoding=\"utf8\") as f:\n",
    "    uri = f.read()"
   ]
  },
  {
   "cell_type": "markdown",
   "metadata": {
    "id": "VHhJvTa2msJo"
   },
   "source": [
    "# Data Collection"
   ]
  },
  {
   "cell_type": "markdown",
   "metadata": {
    "id": "sYkxgFr6KtmI"
   },
   "source": [
    "## Read the data and present as a dataframe"
   ]
  },
  {
   "cell_type": "code",
   "execution_count": 4,
   "metadata": {
    "colab": {
     "base_uri": "https://localhost:8080/",
     "height": 570
    },
    "id": "VQMojddoHlA4",
    "outputId": "a556b32c-3faf-46d6-e690-5649d56acb08"
   },
   "outputs": [
    {
     "name": "stdout",
     "output_type": "stream",
     "text": [
      "0 1522931750451617793\n",
      "1 1507922082683793408\n",
      "2 553553331671408641\n",
      "\n",
      "Chosen 1522931750451617793\n",
      "\n",
      "About the tweet:\n",
      "Over 100 people protest against Covid-19 vaccines with Healing the Divide founder Iris Koh https://t.co/QrY9DhO9sF https://t.co/x1C47MOzUm\n",
      "Number of comments: 41\n"
     ]
    },
    {
     "data": {
      "text/html": [
       "\n",
       "  <div id=\"df-bea19564-ed7e-4920-9c2d-f69d15bd3ac9\">\n",
       "    <div class=\"colab-df-container\">\n",
       "      <div>\n",
       "<style scoped>\n",
       "    .dataframe tbody tr th:only-of-type {\n",
       "        vertical-align: middle;\n",
       "    }\n",
       "\n",
       "    .dataframe tbody tr th {\n",
       "        vertical-align: top;\n",
       "    }\n",
       "\n",
       "    .dataframe thead th {\n",
       "        text-align: right;\n",
       "    }\n",
       "</style>\n",
       "<table border=\"1\" class=\"dataframe\">\n",
       "  <thead>\n",
       "    <tr style=\"text-align: right;\">\n",
       "      <th></th>\n",
       "      <th>id</th>\n",
       "      <th>timestamp</th>\n",
       "      <th>reply_to</th>\n",
       "      <th>comment</th>\n",
       "      <th>social_media</th>\n",
       "      <th>head_id</th>\n",
       "      <th>conversation_id</th>\n",
       "      <th>user_id</th>\n",
       "      <th>url</th>\n",
       "      <th>link_title</th>\n",
       "    </tr>\n",
       "  </thead>\n",
       "  <tbody>\n",
       "    <tr>\n",
       "      <th>0</th>\n",
       "      <td>10038</td>\n",
       "      <td>2022-05-07T13:40:35.000Z</td>\n",
       "      <td>1619325942</td>\n",
       "      <td>@MothershipSG Why were they not arrested for i...</td>\n",
       "      <td>Twitter</td>\n",
       "      <td>1619325942</td>\n",
       "      <td>1522931750451617793</td>\n",
       "      <td>1474416398</td>\n",
       "      <td></td>\n",
       "      <td></td>\n",
       "    </tr>\n",
       "    <tr>\n",
       "      <th>1</th>\n",
       "      <td>10000</td>\n",
       "      <td>2022-05-08T15:09:14.000Z</td>\n",
       "      <td>10038</td>\n",
       "      <td>@zacroix @MothershipSG Is about time for peopl...</td>\n",
       "      <td>Twitter</td>\n",
       "      <td>1619325942</td>\n",
       "      <td>1522931750451617793</td>\n",
       "      <td>1520451553165193216</td>\n",
       "      <td></td>\n",
       "      <td></td>\n",
       "    </tr>\n",
       "    <tr>\n",
       "      <th>2</th>\n",
       "      <td>10001</td>\n",
       "      <td>2022-05-08T11:36:53.000Z</td>\n",
       "      <td>1619325942</td>\n",
       "      <td>@MothershipSG Lanjiao ah! Healing the divide b...</td>\n",
       "      <td>Twitter</td>\n",
       "      <td>1619325942</td>\n",
       "      <td>1522931750451617793</td>\n",
       "      <td>1348988297205305345</td>\n",
       "      <td></td>\n",
       "      <td></td>\n",
       "    </tr>\n",
       "    <tr>\n",
       "      <th>3</th>\n",
       "      <td>10002</td>\n",
       "      <td>2022-05-08T11:30:17.000Z</td>\n",
       "      <td>1619325942</td>\n",
       "      <td>@MothershipSG She's a clown</td>\n",
       "      <td>Twitter</td>\n",
       "      <td>1619325942</td>\n",
       "      <td>1522931750451617793</td>\n",
       "      <td>770445136371167232</td>\n",
       "      <td></td>\n",
       "      <td></td>\n",
       "    </tr>\n",
       "    <tr>\n",
       "      <th>4</th>\n",
       "      <td>10003</td>\n",
       "      <td>2022-05-08T11:21:23.000Z</td>\n",
       "      <td>1619325942</td>\n",
       "      <td>@MothershipSG For every protest in any country...</td>\n",
       "      <td>Twitter</td>\n",
       "      <td>1619325942</td>\n",
       "      <td>1522931750451617793</td>\n",
       "      <td>1516288928047071233</td>\n",
       "      <td></td>\n",
       "      <td></td>\n",
       "    </tr>\n",
       "  </tbody>\n",
       "</table>\n",
       "</div>\n",
       "      <button class=\"colab-df-convert\" onclick=\"convertToInteractive('df-bea19564-ed7e-4920-9c2d-f69d15bd3ac9')\"\n",
       "              title=\"Convert this dataframe to an interactive table.\"\n",
       "              style=\"display:none;\">\n",
       "        \n",
       "  <svg xmlns=\"http://www.w3.org/2000/svg\" height=\"24px\"viewBox=\"0 0 24 24\"\n",
       "       width=\"24px\">\n",
       "    <path d=\"M0 0h24v24H0V0z\" fill=\"none\"/>\n",
       "    <path d=\"M18.56 5.44l.94 2.06.94-2.06 2.06-.94-2.06-.94-.94-2.06-.94 2.06-2.06.94zm-11 1L8.5 8.5l.94-2.06 2.06-.94-2.06-.94L8.5 2.5l-.94 2.06-2.06.94zm10 10l.94 2.06.94-2.06 2.06-.94-2.06-.94-.94-2.06-.94 2.06-2.06.94z\"/><path d=\"M17.41 7.96l-1.37-1.37c-.4-.4-.92-.59-1.43-.59-.52 0-1.04.2-1.43.59L10.3 9.45l-7.72 7.72c-.78.78-.78 2.05 0 2.83L4 21.41c.39.39.9.59 1.41.59.51 0 1.02-.2 1.41-.59l7.78-7.78 2.81-2.81c.8-.78.8-2.07 0-2.86zM5.41 20L4 18.59l7.72-7.72 1.47 1.35L5.41 20z\"/>\n",
       "  </svg>\n",
       "      </button>\n",
       "      \n",
       "  <style>\n",
       "    .colab-df-container {\n",
       "      display:flex;\n",
       "      flex-wrap:wrap;\n",
       "      gap: 12px;\n",
       "    }\n",
       "\n",
       "    .colab-df-convert {\n",
       "      background-color: #E8F0FE;\n",
       "      border: none;\n",
       "      border-radius: 50%;\n",
       "      cursor: pointer;\n",
       "      display: none;\n",
       "      fill: #1967D2;\n",
       "      height: 32px;\n",
       "      padding: 0 0 0 0;\n",
       "      width: 32px;\n",
       "    }\n",
       "\n",
       "    .colab-df-convert:hover {\n",
       "      background-color: #E2EBFA;\n",
       "      box-shadow: 0px 1px 2px rgba(60, 64, 67, 0.3), 0px 1px 3px 1px rgba(60, 64, 67, 0.15);\n",
       "      fill: #174EA6;\n",
       "    }\n",
       "\n",
       "    [theme=dark] .colab-df-convert {\n",
       "      background-color: #3B4455;\n",
       "      fill: #D2E3FC;\n",
       "    }\n",
       "\n",
       "    [theme=dark] .colab-df-convert:hover {\n",
       "      background-color: #434B5C;\n",
       "      box-shadow: 0px 1px 3px 1px rgba(0, 0, 0, 0.15);\n",
       "      filter: drop-shadow(0px 1px 2px rgba(0, 0, 0, 0.3));\n",
       "      fill: #FFFFFF;\n",
       "    }\n",
       "  </style>\n",
       "\n",
       "      <script>\n",
       "        const buttonEl =\n",
       "          document.querySelector('#df-bea19564-ed7e-4920-9c2d-f69d15bd3ac9 button.colab-df-convert');\n",
       "        buttonEl.style.display =\n",
       "          google.colab.kernel.accessAllowed ? 'block' : 'none';\n",
       "\n",
       "        async function convertToInteractive(key) {\n",
       "          const element = document.querySelector('#df-bea19564-ed7e-4920-9c2d-f69d15bd3ac9');\n",
       "          const dataTable =\n",
       "            await google.colab.kernel.invokeFunction('convertToInteractive',\n",
       "                                                     [key], {});\n",
       "          if (!dataTable) return;\n",
       "\n",
       "          const docLinkHtml = 'Like what you see? Visit the ' +\n",
       "            '<a target=\"_blank\" href=https://colab.research.google.com/notebooks/data_table.ipynb>data table notebook</a>'\n",
       "            + ' to learn more about interactive tables.';\n",
       "          element.innerHTML = '';\n",
       "          dataTable['output_type'] = 'display_data';\n",
       "          await google.colab.output.renderOutput(dataTable, element);\n",
       "          const docLink = document.createElement('div');\n",
       "          docLink.innerHTML = docLinkHtml;\n",
       "          element.appendChild(docLink);\n",
       "        }\n",
       "      </script>\n",
       "    </div>\n",
       "  </div>\n",
       "  "
      ],
      "text/plain": [
       "      id                 timestamp    reply_to  \\\n",
       "0  10038  2022-05-07T13:40:35.000Z  1619325942   \n",
       "1  10000  2022-05-08T15:09:14.000Z       10038   \n",
       "2  10001  2022-05-08T11:36:53.000Z  1619325942   \n",
       "3  10002  2022-05-08T11:30:17.000Z  1619325942   \n",
       "4  10003  2022-05-08T11:21:23.000Z  1619325942   \n",
       "\n",
       "                                             comment social_media     head_id  \\\n",
       "0  @MothershipSG Why were they not arrested for i...      Twitter  1619325942   \n",
       "1  @zacroix @MothershipSG Is about time for peopl...      Twitter  1619325942   \n",
       "2  @MothershipSG Lanjiao ah! Healing the divide b...      Twitter  1619325942   \n",
       "3                        @MothershipSG She's a clown      Twitter  1619325942   \n",
       "4  @MothershipSG For every protest in any country...      Twitter  1619325942   \n",
       "\n",
       "       conversation_id              user_id url link_title  \n",
       "0  1522931750451617793           1474416398                 \n",
       "1  1522931750451617793  1520451553165193216                 \n",
       "2  1522931750451617793  1348988297205305345                 \n",
       "3  1522931750451617793   770445136371167232                 \n",
       "4  1522931750451617793  1516288928047071233                 "
      ]
     },
     "execution_count": 4,
     "metadata": {},
     "output_type": "execute_result"
    }
   ],
   "source": [
    "tweets_for_analysis = ['1522931750451617793', '1507922082683793408', '553553331671408641']\n",
    "\n",
    "for i in range(len(tweets_for_analysis)):\n",
    "    print(i, tweets_for_analysis[i])\n",
    "\n",
    "tweetOption = 0 #int(input(\"Please indicate the tweet to analyse.\")) - 1\n",
    "\n",
    "print(f'\\nChosen {tweets_for_analysis[tweetOption]}\\n')\n",
    "\n",
    "if tweetOption == 0 or tweetOption == 1:\n",
    "    conversationID = tweets_for_analysis[tweetOption]\n",
    "\n",
    "    query = '''\n",
    "        select * from comments_for_analysis where conversation_id = '%s'\n",
    "    '''% conversationID\n",
    "    \n",
    "    df = getData(query, uri)\n",
    "\n",
    "    parent = df['head_id'][0]\n",
    "\n",
    "    print('About the tweet:')\n",
    "    print(getSingleTweetInfo(conversationID, header)['data'][0]['text'])\n",
    "\n",
    "    print('Number of comments:', len(df))\n",
    "\n",
    "elif tweetOption == 2:\n",
    "    conversationID = tweets_for_analysis[tweetOption]\n",
    "\n",
    "    query = '''\n",
    "        select * from pheme_dataset_for_analysis where head_id = '%s'\n",
    "    '''% parent\n",
    "\n",
    "    df = getData(query, uri)\n",
    "\n",
    "    print('Number of comments:', len(df))\n",
    "\n",
    "# Create directory to save all results\n",
    "os.mkdir(tweets_for_analysis[tweetOption])\n",
    "\n",
    "df['url'] = df['comment'].apply(lambda x: getLinks(x))\n",
    "df['link_title'] = df['url'].apply(lambda x: getURLfromList(x))\n",
    "df.head()    "
   ]
  },
  {
   "cell_type": "code",
   "execution_count": 5,
   "metadata": {
    "id": "d92GdbPhQc-B"
   },
   "outputs": [],
   "source": [
    "# with open(mainDirectory + 'database_uri.txt', 'r', encoding=\"utf8\") as f:\n",
    "#     uri = f.read()\n",
    "\n",
    "# socialMedia = ['Reddit', 'Twitter', 'PHEME Dataset']\n",
    "\n",
    "# for i in range(len(socialMedia)):\n",
    "#     print(i, socialMedia[i])\n",
    "\n",
    "# socialMediaOption = 1\n",
    "\n",
    "# print(f'\\nChosen {socialMedia[socialMediaOption]}\\n')\n",
    "\n",
    "# if socialMedia[socialMediaOption] == 'Reddit':\n",
    "#     parent = 'rmqevj'\n",
    "#     query = '''\n",
    "#         select * from reddit_posts_for_analysis where head_id = '%s'\n",
    "#     '''% parent\n",
    "#     df = getData(query, uri)\n",
    "    \n",
    "# elif socialMedia[socialMediaOption] == 'Twitter':\n",
    "#     # conversationID = '1522931750451617793'\n",
    "#     conversationID = '1507922082683793408'\n",
    "\n",
    "#     query = '''\n",
    "#         select * from comments_for_analysis where conversation_id = '%s'\n",
    "#     '''% conversationID\n",
    "    \n",
    "#     df = getData(query, uri)\n",
    "\n",
    "#     parent = df['head_id'][0]\n",
    "\n",
    "#     print('About the tweet:')\n",
    "#     print(getSingleTweetInfo(conversationID, header)['data'][0]['text'])\n",
    "\n",
    "#     print('Number of comments:', len(df))\n",
    "\n",
    "# elif socialMedia[socialMediaOption] == 'PHEME Dataset':\n",
    "#     parent = '553553331671408641'\n",
    "#     query = '''\n",
    "#         select * from pheme_dataset_for_analysis where head_id = '%s'\n",
    "#     '''% parent\n",
    "#     df = getData(query, uri)\n",
    "\n",
    "# df['url'] = df['comment'].apply(lambda x: getLinks(x))\n",
    "# df['link_title'] = df['url'].apply(lambda x: getURLfromList(x))\n",
    "# df.head()"
   ]
  },
  {
   "cell_type": "markdown",
   "metadata": {
    "id": "UlGAaDqsKEcQ"
   },
   "source": [
    "## Construction of tree of comments"
   ]
  },
  {
   "cell_type": "code",
   "execution_count": 6,
   "metadata": {
    "id": "0SA8N4lmQdI4"
   },
   "outputs": [],
   "source": [
    "root = Node(parent)\n",
    "\n",
    "input_list = [] \n",
    "\n",
    "item_count = df['reply_to'].value_counts().to_dict()\n",
    "\n",
    "for i in range(len(df['id'].tolist())):\n",
    "    try:\n",
    "      if df['id'].loc[i] != df['reply_to'].loc[i]:\n",
    "          input_list.append((df['id'].loc[i], df['reply_to'].loc[i]))\n",
    "\n",
    "    except:\n",
    "      continue"
   ]
  },
  {
   "cell_type": "code",
   "execution_count": 7,
   "metadata": {
    "id": "jEzZFu5LQdGK"
   },
   "outputs": [],
   "source": [
    "output_dict = make_map(input_list)\n",
    "createTweetsTree(output_dict[parent], root)"
   ]
  },
  {
   "cell_type": "markdown",
   "metadata": {
    "id": "MHxqfFO6myiX"
   },
   "source": [
    "# Sentiment Analysis"
   ]
  },
  {
   "cell_type": "code",
   "execution_count": 8,
   "metadata": {
    "id": "0WnKFzsXi0kf"
   },
   "outputs": [],
   "source": [
    "pred_sentences = cleanComments(df['comment'])"
   ]
  },
  {
   "cell_type": "code",
   "execution_count": 9,
   "metadata": {
    "id": "g3nUeAKC8fLZ"
   },
   "outputs": [],
   "source": [
    "main_directory = '/content/drive/MyDrive/Final Year Project/Key Notebooks/Main Program/'\n",
    "\n",
    "tokenizer = BertTokenizer.from_pretrained(main_directory + \"subjectivity_tokenizer/\")\n",
    "model = TFBertForSequenceClassification.from_pretrained(main_directory + \"saved_subjectivity_model/\")"
   ]
  },
  {
   "cell_type": "code",
   "execution_count": 10,
   "metadata": {
    "id": "eYR5nNqp82GB"
   },
   "outputs": [],
   "source": [
    "textblob_polarity = []\n",
    "textblob_subjectivity = []\n",
    "vader_results = []\n",
    "vaderCompoundScores = []\n",
    "model_subjectivity_result = predictFromModel(model, tokenizer, pred_sentences)\n",
    "\n",
    "for i in pred_sentences:\n",
    "  result = getSentimentalResults(i)\n",
    "  textblob_polarity.append(result['textblob_polarity'])\n",
    "  textblob_subjectivity.append(result['textblob_subjectivity'])\n",
    "  vader_results.append(result['vader_results'])\n",
    "  vaderCompoundScores.append(result['vader_compound_scores'])"
   ]
  },
  {
   "cell_type": "markdown",
   "metadata": {
    "id": "TDMlo4uJKpCo"
   },
   "source": [
    "## Saving of results from sentiment analysis into the same dataframe"
   ]
  },
  {
   "cell_type": "code",
   "execution_count": 11,
   "metadata": {
    "colab": {
     "base_uri": "https://localhost:8080/",
     "height": 525
    },
    "id": "59Yu1TVUrVA-",
    "outputId": "131c6f01-ab65-4ba1-d93c-cb61b2b98c82"
   },
   "outputs": [
    {
     "data": {
      "text/html": [
       "\n",
       "  <div id=\"df-b8718ed5-1a82-4a2a-8e10-becb03a63478\">\n",
       "    <div class=\"colab-df-container\">\n",
       "      <div>\n",
       "<style scoped>\n",
       "    .dataframe tbody tr th:only-of-type {\n",
       "        vertical-align: middle;\n",
       "    }\n",
       "\n",
       "    .dataframe tbody tr th {\n",
       "        vertical-align: top;\n",
       "    }\n",
       "\n",
       "    .dataframe thead th {\n",
       "        text-align: right;\n",
       "    }\n",
       "</style>\n",
       "<table border=\"1\" class=\"dataframe\">\n",
       "  <thead>\n",
       "    <tr style=\"text-align: right;\">\n",
       "      <th></th>\n",
       "      <th>id</th>\n",
       "      <th>timestamp</th>\n",
       "      <th>reply_to</th>\n",
       "      <th>comment</th>\n",
       "      <th>social_media</th>\n",
       "      <th>head_id</th>\n",
       "      <th>conversation_id</th>\n",
       "      <th>user_id</th>\n",
       "      <th>url</th>\n",
       "      <th>link_title</th>\n",
       "      <th>...</th>\n",
       "      <th>textblob_polarity</th>\n",
       "      <th>vader_compound_score</th>\n",
       "      <th>vader_polarity</th>\n",
       "      <th>overall_polarity</th>\n",
       "      <th>model_subjectivity</th>\n",
       "      <th>textblob_subjectivity</th>\n",
       "      <th>overall_subjectivity</th>\n",
       "      <th>vader_sentiment</th>\n",
       "      <th>topic_cluster</th>\n",
       "      <th>potential_bias</th>\n",
       "    </tr>\n",
       "  </thead>\n",
       "  <tbody>\n",
       "    <tr>\n",
       "      <th>0</th>\n",
       "      <td>10038</td>\n",
       "      <td>2022-05-07T13:40:35.000Z</td>\n",
       "      <td>1619325942</td>\n",
       "      <td>@MothershipSG Why were they not arrested for i...</td>\n",
       "      <td>Twitter</td>\n",
       "      <td>1619325942</td>\n",
       "      <td>1522931750451617793</td>\n",
       "      <td>1474416398</td>\n",
       "      <td></td>\n",
       "      <td></td>\n",
       "      <td>...</td>\n",
       "      <td>-0.500</td>\n",
       "      <td>0.6681</td>\n",
       "      <td>POS</td>\n",
       "      <td>UNKNOWN</td>\n",
       "      <td>0.000876</td>\n",
       "      <td>0.50</td>\n",
       "      <td>OBJECTIVE</td>\n",
       "      <td>{'neg': 0.0, 'neu': 0.523, 'pos': 0.477}</td>\n",
       "      <td>1</td>\n",
       "      <td>0</td>\n",
       "    </tr>\n",
       "    <tr>\n",
       "      <th>1</th>\n",
       "      <td>10000</td>\n",
       "      <td>2022-05-08T15:09:14.000Z</td>\n",
       "      <td>10038</td>\n",
       "      <td>@zacroix @MothershipSG Is about time for peopl...</td>\n",
       "      <td>Twitter</td>\n",
       "      <td>1619325942</td>\n",
       "      <td>1522931750451617793</td>\n",
       "      <td>1520451553165193216</td>\n",
       "      <td></td>\n",
       "      <td></td>\n",
       "      <td>...</td>\n",
       "      <td>0.125</td>\n",
       "      <td>-0.4364</td>\n",
       "      <td>NEG</td>\n",
       "      <td>UNKNOWN</td>\n",
       "      <td>0.003720</td>\n",
       "      <td>0.45</td>\n",
       "      <td>OBJECTIVE</td>\n",
       "      <td>{'neg': 0.121, 'neu': 0.879, 'pos': 0.0}</td>\n",
       "      <td>1</td>\n",
       "      <td>0</td>\n",
       "    </tr>\n",
       "    <tr>\n",
       "      <th>2</th>\n",
       "      <td>10001</td>\n",
       "      <td>2022-05-08T11:36:53.000Z</td>\n",
       "      <td>1619325942</td>\n",
       "      <td>@MothershipSG Lanjiao ah! Healing the divide b...</td>\n",
       "      <td>Twitter</td>\n",
       "      <td>1619325942</td>\n",
       "      <td>1522931750451617793</td>\n",
       "      <td>1348988297205305345</td>\n",
       "      <td></td>\n",
       "      <td></td>\n",
       "      <td>...</td>\n",
       "      <td>0.500</td>\n",
       "      <td>0.0000</td>\n",
       "      <td>NEU</td>\n",
       "      <td>UNKNOWN</td>\n",
       "      <td>0.003858</td>\n",
       "      <td>0.50</td>\n",
       "      <td>OBJECTIVE</td>\n",
       "      <td>{'neg': 0.0, 'neu': 1.0, 'pos': 0.0}</td>\n",
       "      <td>1</td>\n",
       "      <td>0</td>\n",
       "    </tr>\n",
       "    <tr>\n",
       "      <th>3</th>\n",
       "      <td>10002</td>\n",
       "      <td>2022-05-08T11:30:17.000Z</td>\n",
       "      <td>1619325942</td>\n",
       "      <td>@MothershipSG She's a clown</td>\n",
       "      <td>Twitter</td>\n",
       "      <td>1619325942</td>\n",
       "      <td>1522931750451617793</td>\n",
       "      <td>770445136371167232</td>\n",
       "      <td></td>\n",
       "      <td></td>\n",
       "      <td>...</td>\n",
       "      <td>0.000</td>\n",
       "      <td>0.0000</td>\n",
       "      <td>NEU</td>\n",
       "      <td>NEU</td>\n",
       "      <td>0.003196</td>\n",
       "      <td>0.00</td>\n",
       "      <td>OBJECTIVE</td>\n",
       "      <td>{'neg': 0.0, 'neu': 1.0, 'pos': 0.0}</td>\n",
       "      <td>1</td>\n",
       "      <td>0</td>\n",
       "    </tr>\n",
       "    <tr>\n",
       "      <th>4</th>\n",
       "      <td>10003</td>\n",
       "      <td>2022-05-08T11:21:23.000Z</td>\n",
       "      <td>1619325942</td>\n",
       "      <td>@MothershipSG For every protest in any country...</td>\n",
       "      <td>Twitter</td>\n",
       "      <td>1619325942</td>\n",
       "      <td>1522931750451617793</td>\n",
       "      <td>1516288928047071233</td>\n",
       "      <td></td>\n",
       "      <td></td>\n",
       "      <td>...</td>\n",
       "      <td>0.000</td>\n",
       "      <td>-0.2500</td>\n",
       "      <td>NEU</td>\n",
       "      <td>NEU</td>\n",
       "      <td>0.003846</td>\n",
       "      <td>0.00</td>\n",
       "      <td>OBJECTIVE</td>\n",
       "      <td>{'neg': 0.143, 'neu': 0.857, 'pos': 0.0}</td>\n",
       "      <td>1</td>\n",
       "      <td>0</td>\n",
       "    </tr>\n",
       "  </tbody>\n",
       "</table>\n",
       "<p>5 rows × 21 columns</p>\n",
       "</div>\n",
       "      <button class=\"colab-df-convert\" onclick=\"convertToInteractive('df-b8718ed5-1a82-4a2a-8e10-becb03a63478')\"\n",
       "              title=\"Convert this dataframe to an interactive table.\"\n",
       "              style=\"display:none;\">\n",
       "        \n",
       "  <svg xmlns=\"http://www.w3.org/2000/svg\" height=\"24px\"viewBox=\"0 0 24 24\"\n",
       "       width=\"24px\">\n",
       "    <path d=\"M0 0h24v24H0V0z\" fill=\"none\"/>\n",
       "    <path d=\"M18.56 5.44l.94 2.06.94-2.06 2.06-.94-2.06-.94-.94-2.06-.94 2.06-2.06.94zm-11 1L8.5 8.5l.94-2.06 2.06-.94-2.06-.94L8.5 2.5l-.94 2.06-2.06.94zm10 10l.94 2.06.94-2.06 2.06-.94-2.06-.94-.94-2.06-.94 2.06-2.06.94z\"/><path d=\"M17.41 7.96l-1.37-1.37c-.4-.4-.92-.59-1.43-.59-.52 0-1.04.2-1.43.59L10.3 9.45l-7.72 7.72c-.78.78-.78 2.05 0 2.83L4 21.41c.39.39.9.59 1.41.59.51 0 1.02-.2 1.41-.59l7.78-7.78 2.81-2.81c.8-.78.8-2.07 0-2.86zM5.41 20L4 18.59l7.72-7.72 1.47 1.35L5.41 20z\"/>\n",
       "  </svg>\n",
       "      </button>\n",
       "      \n",
       "  <style>\n",
       "    .colab-df-container {\n",
       "      display:flex;\n",
       "      flex-wrap:wrap;\n",
       "      gap: 12px;\n",
       "    }\n",
       "\n",
       "    .colab-df-convert {\n",
       "      background-color: #E8F0FE;\n",
       "      border: none;\n",
       "      border-radius: 50%;\n",
       "      cursor: pointer;\n",
       "      display: none;\n",
       "      fill: #1967D2;\n",
       "      height: 32px;\n",
       "      padding: 0 0 0 0;\n",
       "      width: 32px;\n",
       "    }\n",
       "\n",
       "    .colab-df-convert:hover {\n",
       "      background-color: #E2EBFA;\n",
       "      box-shadow: 0px 1px 2px rgba(60, 64, 67, 0.3), 0px 1px 3px 1px rgba(60, 64, 67, 0.15);\n",
       "      fill: #174EA6;\n",
       "    }\n",
       "\n",
       "    [theme=dark] .colab-df-convert {\n",
       "      background-color: #3B4455;\n",
       "      fill: #D2E3FC;\n",
       "    }\n",
       "\n",
       "    [theme=dark] .colab-df-convert:hover {\n",
       "      background-color: #434B5C;\n",
       "      box-shadow: 0px 1px 3px 1px rgba(0, 0, 0, 0.15);\n",
       "      filter: drop-shadow(0px 1px 2px rgba(0, 0, 0, 0.3));\n",
       "      fill: #FFFFFF;\n",
       "    }\n",
       "  </style>\n",
       "\n",
       "      <script>\n",
       "        const buttonEl =\n",
       "          document.querySelector('#df-b8718ed5-1a82-4a2a-8e10-becb03a63478 button.colab-df-convert');\n",
       "        buttonEl.style.display =\n",
       "          google.colab.kernel.accessAllowed ? 'block' : 'none';\n",
       "\n",
       "        async function convertToInteractive(key) {\n",
       "          const element = document.querySelector('#df-b8718ed5-1a82-4a2a-8e10-becb03a63478');\n",
       "          const dataTable =\n",
       "            await google.colab.kernel.invokeFunction('convertToInteractive',\n",
       "                                                     [key], {});\n",
       "          if (!dataTable) return;\n",
       "\n",
       "          const docLinkHtml = 'Like what you see? Visit the ' +\n",
       "            '<a target=\"_blank\" href=https://colab.research.google.com/notebooks/data_table.ipynb>data table notebook</a>'\n",
       "            + ' to learn more about interactive tables.';\n",
       "          element.innerHTML = '';\n",
       "          dataTable['output_type'] = 'display_data';\n",
       "          await google.colab.output.renderOutput(dataTable, element);\n",
       "          const docLink = document.createElement('div');\n",
       "          docLink.innerHTML = docLinkHtml;\n",
       "          element.appendChild(docLink);\n",
       "        }\n",
       "      </script>\n",
       "    </div>\n",
       "  </div>\n",
       "  "
      ],
      "text/plain": [
       "      id                 timestamp    reply_to  \\\n",
       "0  10038  2022-05-07T13:40:35.000Z  1619325942   \n",
       "1  10000  2022-05-08T15:09:14.000Z       10038   \n",
       "2  10001  2022-05-08T11:36:53.000Z  1619325942   \n",
       "3  10002  2022-05-08T11:30:17.000Z  1619325942   \n",
       "4  10003  2022-05-08T11:21:23.000Z  1619325942   \n",
       "\n",
       "                                             comment social_media     head_id  \\\n",
       "0  @MothershipSG Why were they not arrested for i...      Twitter  1619325942   \n",
       "1  @zacroix @MothershipSG Is about time for peopl...      Twitter  1619325942   \n",
       "2  @MothershipSG Lanjiao ah! Healing the divide b...      Twitter  1619325942   \n",
       "3                        @MothershipSG She's a clown      Twitter  1619325942   \n",
       "4  @MothershipSG For every protest in any country...      Twitter  1619325942   \n",
       "\n",
       "       conversation_id              user_id url link_title  ...  \\\n",
       "0  1522931750451617793           1474416398                 ...   \n",
       "1  1522931750451617793  1520451553165193216                 ...   \n",
       "2  1522931750451617793  1348988297205305345                 ...   \n",
       "3  1522931750451617793   770445136371167232                 ...   \n",
       "4  1522931750451617793  1516288928047071233                 ...   \n",
       "\n",
       "   textblob_polarity  vader_compound_score  vader_polarity overall_polarity  \\\n",
       "0             -0.500                0.6681             POS          UNKNOWN   \n",
       "1              0.125               -0.4364             NEG          UNKNOWN   \n",
       "2              0.500                0.0000             NEU          UNKNOWN   \n",
       "3              0.000                0.0000             NEU              NEU   \n",
       "4              0.000               -0.2500             NEU              NEU   \n",
       "\n",
       "  model_subjectivity  textblob_subjectivity  overall_subjectivity  \\\n",
       "0           0.000876                   0.50             OBJECTIVE   \n",
       "1           0.003720                   0.45             OBJECTIVE   \n",
       "2           0.003858                   0.50             OBJECTIVE   \n",
       "3           0.003196                   0.00             OBJECTIVE   \n",
       "4           0.003846                   0.00             OBJECTIVE   \n",
       "\n",
       "                            vader_sentiment topic_cluster  potential_bias  \n",
       "0  {'neg': 0.0, 'neu': 0.523, 'pos': 0.477}             1               0  \n",
       "1  {'neg': 0.121, 'neu': 0.879, 'pos': 0.0}             1               0  \n",
       "2      {'neg': 0.0, 'neu': 1.0, 'pos': 0.0}             1               0  \n",
       "3      {'neg': 0.0, 'neu': 1.0, 'pos': 0.0}             1               0  \n",
       "4  {'neg': 0.143, 'neu': 0.857, 'pos': 0.0}             1               0  \n",
       "\n",
       "[5 rows x 21 columns]"
      ]
     },
     "execution_count": 11,
     "metadata": {},
     "output_type": "execute_result"
    }
   ],
   "source": [
    "df['number_of_links'] = df['link_title'].apply(lambda x: len(x))\n",
    "\n",
    "# Polarity\n",
    "df['textblob_polarity'] = textblob_polarity\n",
    "df['vader_compound_score'] = vaderCompoundScores\n",
    "df['vader_polarity'] = df['vader_compound_score'].apply(lambda x: polarityDetermination(x))\n",
    "\n",
    "overall_polarity = []\n",
    "overall_polarity_scores = {}\n",
    "\n",
    "for i in range(len(textblob_polarity)):\n",
    "  overall_polarity.append(definePolarity(textblob_polarity[i], vaderCompoundScores[i]))\n",
    "  overall_polarity_scores[df['id'][i]] = [textblob_polarity[i], vaderCompoundScores[i]]\n",
    "\n",
    "df['overall_polarity'] = overall_polarity\n",
    "\n",
    "# Subjectivity\n",
    "df['model_subjectivity'] = model_subjectivity_result\n",
    "df['textblob_subjectivity'] = textblob_subjectivity\n",
    "\n",
    "overall_subjectivity = []\n",
    "overall_subjectivity_scores = {}\n",
    "\n",
    "for i in range(len(model_subjectivity_result)):\n",
    "  overall_subjectivity.append(defineSubjectivity(model_subjectivity_result[i], textblob_subjectivity[i]))\n",
    "  overall_subjectivity_scores[df['id'][i]] = [float(model_subjectivity_result[i]), textblob_subjectivity[i]]\n",
    "\n",
    "df['overall_subjectivity'] = overall_subjectivity\n",
    "\n",
    "df['vader_sentiment'] = vader_results\n",
    "df['topic_cluster'] = getClusters(pred_sentences, embedder)\n",
    "\n",
    "df['potential_bias'] = flagPotentialBias(df)\n",
    "\n",
    "df.to_csv(f'{tweets_for_analysis[tweetOption]}/sentiment_result.csv', index=False)\n",
    "df.head()"
   ]
  },
  {
   "cell_type": "markdown",
   "metadata": {
    "id": "938LTWg9Jx4n"
   },
   "source": [
    "## Results from sentiment analysis"
   ]
  },
  {
   "cell_type": "code",
   "execution_count": 12,
   "metadata": {
    "colab": {
     "base_uri": "https://localhost:8080/",
     "height": 496
    },
    "id": "j0yrFfQevFHA",
    "outputId": "1996327a-0572-4e83-a62b-76ce62895502"
   },
   "outputs": [
    {
     "data": {
      "text/html": [
       "\n",
       "  <div id=\"df-d8049294-7307-46a6-b716-338a41cba9c2\">\n",
       "    <div class=\"colab-df-container\">\n",
       "      <div>\n",
       "<style scoped>\n",
       "    .dataframe tbody tr th:only-of-type {\n",
       "        vertical-align: middle;\n",
       "    }\n",
       "\n",
       "    .dataframe tbody tr th {\n",
       "        vertical-align: top;\n",
       "    }\n",
       "\n",
       "    .dataframe thead th {\n",
       "        text-align: right;\n",
       "    }\n",
       "</style>\n",
       "<table border=\"1\" class=\"dataframe\">\n",
       "  <thead>\n",
       "    <tr style=\"text-align: right;\">\n",
       "      <th></th>\n",
       "      <th>id</th>\n",
       "      <th>comment</th>\n",
       "      <th>textblob_polarity</th>\n",
       "      <th>vader_compound_score</th>\n",
       "      <th>vader_polarity</th>\n",
       "      <th>model_subjectivity</th>\n",
       "      <th>textblob_subjectivity</th>\n",
       "      <th>topic_cluster</th>\n",
       "      <th>potential_bias</th>\n",
       "    </tr>\n",
       "  </thead>\n",
       "  <tbody>\n",
       "    <tr>\n",
       "      <th>0</th>\n",
       "      <td>10038</td>\n",
       "      <td>@MothershipSG Why were they not arrested for i...</td>\n",
       "      <td>-0.500</td>\n",
       "      <td>0.6681</td>\n",
       "      <td>POS</td>\n",
       "      <td>0.000876</td>\n",
       "      <td>0.50</td>\n",
       "      <td>1</td>\n",
       "      <td>0</td>\n",
       "    </tr>\n",
       "    <tr>\n",
       "      <th>1</th>\n",
       "      <td>10000</td>\n",
       "      <td>@zacroix @MothershipSG Is about time for peopl...</td>\n",
       "      <td>0.125</td>\n",
       "      <td>-0.4364</td>\n",
       "      <td>NEG</td>\n",
       "      <td>0.003720</td>\n",
       "      <td>0.45</td>\n",
       "      <td>1</td>\n",
       "      <td>0</td>\n",
       "    </tr>\n",
       "    <tr>\n",
       "      <th>2</th>\n",
       "      <td>10001</td>\n",
       "      <td>@MothershipSG Lanjiao ah! Healing the divide b...</td>\n",
       "      <td>0.500</td>\n",
       "      <td>0.0000</td>\n",
       "      <td>NEU</td>\n",
       "      <td>0.003858</td>\n",
       "      <td>0.50</td>\n",
       "      <td>1</td>\n",
       "      <td>0</td>\n",
       "    </tr>\n",
       "    <tr>\n",
       "      <th>3</th>\n",
       "      <td>10002</td>\n",
       "      <td>@MothershipSG She's a clown</td>\n",
       "      <td>0.000</td>\n",
       "      <td>0.0000</td>\n",
       "      <td>NEU</td>\n",
       "      <td>0.003196</td>\n",
       "      <td>0.00</td>\n",
       "      <td>1</td>\n",
       "      <td>0</td>\n",
       "    </tr>\n",
       "    <tr>\n",
       "      <th>4</th>\n",
       "      <td>10003</td>\n",
       "      <td>@MothershipSG For every protest in any country...</td>\n",
       "      <td>0.000</td>\n",
       "      <td>-0.2500</td>\n",
       "      <td>NEU</td>\n",
       "      <td>0.003846</td>\n",
       "      <td>0.00</td>\n",
       "      <td>1</td>\n",
       "      <td>0</td>\n",
       "    </tr>\n",
       "  </tbody>\n",
       "</table>\n",
       "</div>\n",
       "      <button class=\"colab-df-convert\" onclick=\"convertToInteractive('df-d8049294-7307-46a6-b716-338a41cba9c2')\"\n",
       "              title=\"Convert this dataframe to an interactive table.\"\n",
       "              style=\"display:none;\">\n",
       "        \n",
       "  <svg xmlns=\"http://www.w3.org/2000/svg\" height=\"24px\"viewBox=\"0 0 24 24\"\n",
       "       width=\"24px\">\n",
       "    <path d=\"M0 0h24v24H0V0z\" fill=\"none\"/>\n",
       "    <path d=\"M18.56 5.44l.94 2.06.94-2.06 2.06-.94-2.06-.94-.94-2.06-.94 2.06-2.06.94zm-11 1L8.5 8.5l.94-2.06 2.06-.94-2.06-.94L8.5 2.5l-.94 2.06-2.06.94zm10 10l.94 2.06.94-2.06 2.06-.94-2.06-.94-.94-2.06-.94 2.06-2.06.94z\"/><path d=\"M17.41 7.96l-1.37-1.37c-.4-.4-.92-.59-1.43-.59-.52 0-1.04.2-1.43.59L10.3 9.45l-7.72 7.72c-.78.78-.78 2.05 0 2.83L4 21.41c.39.39.9.59 1.41.59.51 0 1.02-.2 1.41-.59l7.78-7.78 2.81-2.81c.8-.78.8-2.07 0-2.86zM5.41 20L4 18.59l7.72-7.72 1.47 1.35L5.41 20z\"/>\n",
       "  </svg>\n",
       "      </button>\n",
       "      \n",
       "  <style>\n",
       "    .colab-df-container {\n",
       "      display:flex;\n",
       "      flex-wrap:wrap;\n",
       "      gap: 12px;\n",
       "    }\n",
       "\n",
       "    .colab-df-convert {\n",
       "      background-color: #E8F0FE;\n",
       "      border: none;\n",
       "      border-radius: 50%;\n",
       "      cursor: pointer;\n",
       "      display: none;\n",
       "      fill: #1967D2;\n",
       "      height: 32px;\n",
       "      padding: 0 0 0 0;\n",
       "      width: 32px;\n",
       "    }\n",
       "\n",
       "    .colab-df-convert:hover {\n",
       "      background-color: #E2EBFA;\n",
       "      box-shadow: 0px 1px 2px rgba(60, 64, 67, 0.3), 0px 1px 3px 1px rgba(60, 64, 67, 0.15);\n",
       "      fill: #174EA6;\n",
       "    }\n",
       "\n",
       "    [theme=dark] .colab-df-convert {\n",
       "      background-color: #3B4455;\n",
       "      fill: #D2E3FC;\n",
       "    }\n",
       "\n",
       "    [theme=dark] .colab-df-convert:hover {\n",
       "      background-color: #434B5C;\n",
       "      box-shadow: 0px 1px 3px 1px rgba(0, 0, 0, 0.15);\n",
       "      filter: drop-shadow(0px 1px 2px rgba(0, 0, 0, 0.3));\n",
       "      fill: #FFFFFF;\n",
       "    }\n",
       "  </style>\n",
       "\n",
       "      <script>\n",
       "        const buttonEl =\n",
       "          document.querySelector('#df-d8049294-7307-46a6-b716-338a41cba9c2 button.colab-df-convert');\n",
       "        buttonEl.style.display =\n",
       "          google.colab.kernel.accessAllowed ? 'block' : 'none';\n",
       "\n",
       "        async function convertToInteractive(key) {\n",
       "          const element = document.querySelector('#df-d8049294-7307-46a6-b716-338a41cba9c2');\n",
       "          const dataTable =\n",
       "            await google.colab.kernel.invokeFunction('convertToInteractive',\n",
       "                                                     [key], {});\n",
       "          if (!dataTable) return;\n",
       "\n",
       "          const docLinkHtml = 'Like what you see? Visit the ' +\n",
       "            '<a target=\"_blank\" href=https://colab.research.google.com/notebooks/data_table.ipynb>data table notebook</a>'\n",
       "            + ' to learn more about interactive tables.';\n",
       "          element.innerHTML = '';\n",
       "          dataTable['output_type'] = 'display_data';\n",
       "          await google.colab.output.renderOutput(dataTable, element);\n",
       "          const docLink = document.createElement('div');\n",
       "          docLink.innerHTML = docLinkHtml;\n",
       "          element.appendChild(docLink);\n",
       "        }\n",
       "      </script>\n",
       "    </div>\n",
       "  </div>\n",
       "  "
      ],
      "text/plain": [
       "      id                                            comment  \\\n",
       "0  10038  @MothershipSG Why were they not arrested for i...   \n",
       "1  10000  @zacroix @MothershipSG Is about time for peopl...   \n",
       "2  10001  @MothershipSG Lanjiao ah! Healing the divide b...   \n",
       "3  10002                        @MothershipSG She's a clown   \n",
       "4  10003  @MothershipSG For every protest in any country...   \n",
       "\n",
       "   textblob_polarity  vader_compound_score vader_polarity  model_subjectivity  \\\n",
       "0             -0.500                0.6681            POS            0.000876   \n",
       "1              0.125               -0.4364            NEG            0.003720   \n",
       "2              0.500                0.0000            NEU            0.003858   \n",
       "3              0.000                0.0000            NEU            0.003196   \n",
       "4              0.000               -0.2500            NEU            0.003846   \n",
       "\n",
       "   textblob_subjectivity  topic_cluster  potential_bias  \n",
       "0                   0.50              1               0  \n",
       "1                   0.45              1               0  \n",
       "2                   0.50              1               0  \n",
       "3                   0.00              1               0  \n",
       "4                   0.00              1               0  "
      ]
     },
     "execution_count": 12,
     "metadata": {},
     "output_type": "execute_result"
    }
   ],
   "source": [
    "df[['id','comment','textblob_polarity','vader_compound_score','vader_polarity','model_subjectivity','textblob_subjectivity','topic_cluster','potential_bias']].head()"
   ]
  },
  {
   "cell_type": "markdown",
   "metadata": {
    "id": "FjiwXxehtLZ6"
   },
   "source": [
    "# Confirmation Bias Analysis"
   ]
  },
  {
   "cell_type": "code",
   "execution_count": 13,
   "metadata": {
    "colab": {
     "base_uri": "https://localhost:8080/"
    },
    "id": "lx9LO_Sksy4b",
    "outputId": "52164192-3541-4e94-b231-4e94fc655b90"
   },
   "outputs": [
    {
     "name": "stdout",
     "output_type": "stream",
     "text": [
      "\n",
      "\n",
      "\n"
     ]
    }
   ],
   "source": [
    "head_thread = parent #input('Enter a comment to look at the replies. ')\n",
    "conversationDF, conversationTree = traceConversation(df, root, head_thread, False)"
   ]
  },
  {
   "cell_type": "code",
   "execution_count": 14,
   "metadata": {
    "colab": {
     "base_uri": "https://localhost:8080/"
    },
    "id": "xm4w-2t68dr9",
    "outputId": "78eedccd-b489-48b9-e599-b59f3062193a"
   },
   "outputs": [
    {
     "name": "stdout",
     "output_type": "stream",
     "text": [
      "About the tweet\n",
      "\n",
      "Existence of links:\n",
      "['twitter.com']\n",
      "['twitter.com']\n",
      "['t.me']\n",
      "['twitter.com']\n",
      "['amp.theguardian.com']\n",
      "\n",
      "The exact link in the comments:\n",
      "https://twitter.com/DoctorStone96/status/1523003027195850752/photo/1;\n",
      "https://twitter.com/xandermateusz/status/1522983062346166272/photo/1;\n",
      "https://t.me/childcovidvaccineinjuriesuk;\n",
      "https://twitter.com/Ach1llesHeel/status/1522950563167555590/photo/1;\n",
      "https://amp.theguardian.com/environment/2022/apr/06/microplastics-found-deep-in-lungs-of-living-people-for-first-time;\n"
     ]
    }
   ],
   "source": [
    "print(\"About the tweet\\n\")\n",
    "\n",
    "print(\"Existence of links:\")\n",
    "checkLink = False\n",
    "\n",
    "for i in df['link_title']:\n",
    "    if isinstance(i, list):\n",
    "        print(i)\n",
    "        checkLink = False\n",
    "\n",
    "if checkLink:\n",
    "    print(\"No links\")\n",
    "\n",
    "else:\n",
    "  print(\"\\nThe exact link in the comments:\")\n",
    "  for i in df['url']:\n",
    "      if len(i) > 0:\n",
    "          print(i)"
   ]
  },
  {
   "cell_type": "code",
   "execution_count": 15,
   "metadata": {
    "colab": {
     "base_uri": "https://localhost:8080/"
    },
    "id": "a4oHM11UC2Jk",
    "outputId": "8ec0fa9b-8c6e-4aa3-f812-4643ed181583"
   },
   "outputs": [
    {
     "name": "stdout",
     "output_type": "stream",
     "text": [
      "Conversation Tree\n",
      "1619325942\n",
      "├── 10038\n",
      "│   ├── 10000\n",
      "│   └── 10021\n",
      "├── 10001\n",
      "├── 10002\n",
      "├── 10003\n",
      "├── 10004\n",
      "├── 10008\n",
      "├── 10009\n",
      "├── 10010\n",
      "├── 10011\n",
      "├── 10017\n",
      "├── 10019\n",
      "├── 10020\n",
      "├── 10022\n",
      "├── 10023\n",
      "├── 10024\n",
      "├── 10025\n",
      "├── 10026\n",
      "├── 10028\n",
      "├── 10030\n",
      "├── 10031\n",
      "├── 10033\n",
      "├── 10035\n",
      "├── 10036\n",
      "├── 10037\n",
      "├── 10039\n",
      "│   └── 10034\n",
      "└── 10040\n",
      "    └── 10016\n"
     ]
    }
   ],
   "source": [
    "print(\"Conversation Tree\")\n",
    "printGraph(root)"
   ]
  },
  {
   "cell_type": "markdown",
   "metadata": {
    "id": "Cyx4dzByK3i9"
   },
   "source": [
    "## Results of confirmation bias analysis"
   ]
  },
  {
   "cell_type": "code",
   "execution_count": 16,
   "metadata": {
    "colab": {
     "base_uri": "https://localhost:8080/"
    },
    "id": "serfbCYKuKrC",
    "outputId": "d5ba0222-95d8-40ed-ba88-845567b43c3a"
   },
   "outputs": [
    {
     "name": "stdout",
     "output_type": "stream",
     "text": [
      "Confirmation Bias Score for Entire Conversation: 0.7714285714285714\n",
      "Number of potentially bias comments: 11\n"
     ]
    }
   ],
   "source": [
    "print(\"Confirmation Bias Score for Entire Conversation:\", calculateBias(conversationDF))\n",
    "print(\"Number of potentially bias comments:\", len(conversationDF[conversationDF['potential_bias'] == 1]))"
   ]
  },
  {
   "cell_type": "code",
   "execution_count": 17,
   "metadata": {
    "colab": {
     "base_uri": "https://localhost:8080/",
     "height": 671
    },
    "id": "062vxKtVjsYQ",
    "outputId": "6f7d897a-66a8-4de4-e663-62ce8303d467"
   },
   "outputs": [
    {
     "data": {
      "application/javascript": [
       "(async (port, path, width, height, cache, element) => {\n",
       "    if (!google.colab.kernel.accessAllowed && !cache) {\n",
       "      return;\n",
       "    }\n",
       "    element.appendChild(document.createTextNode(''));\n",
       "    const url = await google.colab.kernel.proxyPort(port, {cache});\n",
       "    const iframe = document.createElement('iframe');\n",
       "    iframe.src = new URL(path, url).toString();\n",
       "    iframe.height = height;\n",
       "    iframe.width = width;\n",
       "    iframe.style.border = 0;\n",
       "    element.appendChild(iframe);\n",
       "  })(8050, \"/\", \"100%\", 650, false, window.element)"
      ],
      "text/plain": [
       "<IPython.core.display.Javascript object>"
      ]
     },
     "metadata": {},
     "output_type": "display_data"
    }
   ],
   "source": [
    "scoreLists = ['number_of_links', 'vader_compound_score', 'textblob_polarity', 'textblob_subjectivity', 'model_subjectivity', 'overall_subjectivity', 'overall_polarity', 'topic_cluster', 'potential_bias']\n",
    "df_for_visualisation = conversationDF[['id','timestamp','reply_to','comment'] + scoreLists]\n",
    "\n",
    "app = JupyterDash(__name__)\n",
    "\n",
    "app.layout = html.Div([\n",
    "    html.H4('Conversation'),\n",
    "    html.P(id='table_out'),\n",
    "    dash_table.DataTable(\n",
    "        id='table',\n",
    "        columns=[{\"name\": i, \"id\": i} \n",
    "                 for i in ['id'] + scoreLists],\n",
    "        data=df_for_visualisation.to_dict('records'),\n",
    "        style_cell={\n",
    "            'textAlign': 'center',\n",
    "        },\n",
    "        style_as_list_view=True,\n",
    "        style_header=dict(backgroundColor=\"paleturquoise\"),\n",
    "        style_data=dict(backgroundColor=\"lavender\"),\n",
    "    ), \n",
    "])\n",
    "\n",
    "@app.callback(\n",
    "    Output('table_out', 'children'), \n",
    "    Input('table', 'active_cell'))\n",
    "\n",
    "def update_graphs(active_cell):\n",
    "    if active_cell:\n",
    "        identifier = df_for_visualisation.iloc[active_cell['row']]['id']\n",
    "        comment = df_for_visualisation.iloc[active_cell['row']]['comment']\n",
    "\n",
    "        return f\"Selected ID: {identifier}, Comment by user: \\\"{comment}\\\"\" #, {score}\"\n",
    "    return \"Click the table\"\n",
    "\n",
    "app.run_server(mode='inline')#debug=True"
   ]
  },
  {
   "cell_type": "markdown",
   "metadata": {
    "id": "4fG2F2lCK7ia"
   },
   "source": [
    "## List of potentially bias comments"
   ]
  },
  {
   "cell_type": "code",
   "execution_count": 18,
   "metadata": {
    "colab": {
     "base_uri": "https://localhost:8080/"
    },
    "id": "BKr3bkhm2sOz",
    "outputId": "50961a4b-65e7-4621-c1b2-69b782bd1564"
   },
   "outputs": [
    {
     "name": "stdout",
     "output_type": "stream",
     "text": [
      "10008 @MothershipSG What is there to protest now no need to trace together u can go anywhere u want too free these people\n",
      "10011 @MothershipSG Not surprising.\n",
      "It's this category of people who would vote for Donald Trump and Bombong Marcos.\n",
      "They would probably declare that Russia's invasion of Ukraine is justified.\n",
      "They're breathing the wrong air in the wrong country.\n",
      "10016 @K31thc0m @MothershipSG Oh yeah, I don't need to safe entry to most of not all places... The ship has sailed ATM. Which is probably why the permit was granted in the first place. Ok la now I give you talk.\n",
      "10017 @MothershipSG Well, lets see what latest research says about vaccine vs Omicron: 💁‍♂️ https://t.co/PY8EbJQS6Y\n",
      "10019 @MothershipSG What a joke. 100 plus people out of 5.68 million people in Singapore. As if that’s going to make a difference. Blind leading the blind.\n",
      "10020 @MothershipSG nobody's stopping you https://t.co/Nj2znrlW7w\n",
      "10022 @MothershipSG \"I am healthy I have an immune system\" is possibly one of the most insensitive thing I have ever seen written\n",
      "10024 @MothershipSG This is MOTHERSHIT corrupted reporting. Should be POFMAed.\n",
      "https://t.co/o9iCzdOAyH\n",
      "10025 @MothershipSG Abit too late if damage has been done. Vacc and unvacc now have almost similar \"entitlements\".\n",
      "10030 @MothershipSG Dumb ways to die +1\n",
      "10035 @MothershipSG “Nearly all of them were not wearing masks.”\n",
      "\n",
      "Well duh, they aren’t like the majority of sheeps in SG still mindlessly masking up outdoors, inhaling their own breath and accumulating microplastics in their lungs all in the name of health.\n",
      "\n",
      "https://t.co/7lc3efDipp\n"
     ]
    }
   ],
   "source": [
    "for index, row in conversationDF[conversationDF['potential_bias'] == 1].iterrows():\n",
    "    print(row['id'], row['comment'])"
   ]
  },
  {
   "cell_type": "markdown",
   "metadata": {
    "id": "nPIyZH5ILAPh"
   },
   "source": [
    "# Results Verification"
   ]
  },
  {
   "cell_type": "markdown",
   "metadata": {
    "id": "zUZ1IKGdGQEq"
   },
   "source": [
    "## Get the Replies and Retweets of Potentially Bias Users"
   ]
  },
  {
   "cell_type": "code",
   "execution_count": 19,
   "metadata": {
    "colab": {
     "base_uri": "https://localhost:8080/"
    },
    "id": "ChrsZnCtFnr4",
    "outputId": "59b48d21-7109-4b61-b11b-2adc828d1eae"
   },
   "outputs": [
    {
     "name": "stdout",
     "output_type": "stream",
     "text": [
      "Number of potentially bias users: 11 \n",
      "\n",
      "*********** 1531214377 ***********\n",
      "@zheng_corinne @MothershipSG If I suspect that she is where she is from, she wouldn't articulate her distaste in such a manner in her own backyard. Perhaps she would remain muted, hence the hyper aggressive display. Then again, that's no excuse for such ugly behaviour. Shame on her!\n",
      "@MothershipSG See la..govt want us to integrate with foreigners leh...how? only Integrated Bus Interchange maybe la.\n",
      "泼妇。\n",
      "\n",
      "*********** 804973086567055360 ***********\n",
      "For 3 months I've been travelling for a travelogue on SE Asia and its hidden gems. Many stunning places, amazing people and fascinating stories. ASEAN has its problems, but also beauty. Get excited for @ChannelNewsAsia's 5-part doco Tapestry: The Heart of ASEAN 📺 Premiere: 27Feb https://t.co/f6VDbSY7HG\n",
      "My \"studio\" for the weekend covering #ShangriLaDialogue @ShangriLaSG #SLD17 join me @ChannelNewsAsia https://t.co/EuLKjlCs2R\n",
      "\n",
      "*********** 83822931 ***********\n",
      "\n",
      "*********** 3246610436 ***********\n",
      "\n",
      "*********** 1365682034551627779 ***********\n",
      "@MothershipSG Covidiot!😂\n",
      "@MothershipSG The idiots all gathered together for a nice outing. Are they back in the asylum now?\n",
      "@MothershipSG theres barely any checks for vaccination status so this is just leading people to nowhere\n",
      "@MothershipSG wasting time group....yawn...\n",
      "@MothershipSG Uhh the pple protesting do know that as babies we had to take mandatory shots such as Measles Mump Rubella (MMR), Polio etc right? ...right?\n",
      "@MothershipSG Do they have children? Did they ever ask their children if they were willing to be born? Their children’s bodies, their choices!\n",
      "@zacroix @MothershipSG U can protest legally in Singapore if u dk. Like pink dot\n",
      "@MothershipSG \"I am healthy I have an immune system\" is possibly one of the most insensitive thing I have ever seen written\n",
      "\n",
      "*********** 1339037189565415425 ***********\n",
      "\n",
      "*********** 1499140477718872072 ***********\n",
      "\n",
      "*********** 1266607549245091840 ***********\n",
      "\n",
      "*********** 890795094256648192 ***********\n",
      "\n",
      "*********** 1509197192459816962 ***********\n",
      "\n",
      "*********** 1422221555950518275 ***********\n",
      "\n"
     ]
    }
   ],
   "source": [
    "replies_retweets_result_str = \"\"\n",
    "\n",
    "if tweetOption == 0:\n",
    "    print(\"Number of potentially bias users:\", len(conversationDF[conversationDF['potential_bias'] == 1]['user_id'].unique()), '\\n')\n",
    "\n",
    "    for i in conversationDF[conversationDF['potential_bias'] == 1]['user_id']:\n",
    "        allUserTweets = combineTweets([getTweetsLikedByUser(i, header, 100)])\n",
    "\n",
    "        sub_heading = '*********** ' + i + ' ***********'\n",
    "        replies_retweets_result_str += sub_heading + '\\n'\n",
    "        print(sub_heading)\n",
    "\n",
    "        for j in checkForRepliesToNews(allUserTweets):\n",
    "            print(j)\n",
    "            replies_retweets_result_str += j + '\\n'\n",
    "\n",
    "        replies_retweets_result_str += '\\n'\n",
    "        print()\n",
    "\n",
    "elif tweetOption == 1:\n",
    "    print(\"Number of potentially bias users:\", len(conversationDF[conversationDF['potential_bias'] == 1]['id'].unique()), '\\n')\n",
    "\n",
    "    suspectedBiasUsers = ['CardanoAdonis', 'PLafala', 'Erwin_Dawson', 'Coldcappuccino9', '_5andman_', 'Actarus_dEuphor', 'ResenT___', 'mkggoh', 'slowpokemax']\n",
    "\n",
    "    for i in suspectedBiasUsers:\n",
    "        userID = getTwitterUserInfo(i, header)['data'][0]['id']\n",
    "        allUserTweets = combineTweets([getTweetsByUserID(userID, header, 100)])\n",
    "\n",
    "        sub_heading = '*********** ' + i + ' ***********'\n",
    "        replies_retweets_result_str += sub_heading + '\\n'\n",
    "        print(sub_heading)\n",
    "\n",
    "        for j in checkForRepliesToNews(allUserTweets):            \n",
    "            print(j)\n",
    "            replies_retweets_result_str += j + '\\n'\n",
    "\n",
    "        replies_retweets_result_str += '\\n'\n",
    "        print()"
   ]
  },
  {
   "cell_type": "code",
   "execution_count": 20,
   "metadata": {
    "id": "vrpKai7EOgGG"
   },
   "outputs": [],
   "source": [
    "with open(f'{tweets_for_analysis[tweetOption]}/replies_and_retweets.txt', 'w') as f:\n",
    "    f.write(replies_retweets_result_str)"
   ]
  },
  {
   "cell_type": "markdown",
   "metadata": {
    "id": "gdqNMLHEGK1B"
   },
   "source": [
    "### Get the Liked Tweets by Potentially Bias Users"
   ]
  },
  {
   "cell_type": "code",
   "execution_count": 21,
   "metadata": {
    "colab": {
     "base_uri": "https://localhost:8080/"
    },
    "id": "GgyLOUTyGAjj",
    "outputId": "2c6be855-3954-41f7-84ff-802cbbe3c775"
   },
   "outputs": [
    {
     "name": "stdout",
     "output_type": "stream",
     "text": [
      "*********** 1531214377 ***********\n",
      "@zheng_corinne @MothershipSG If I suspect that she is where she is from, she wouldn't articulate her distaste in such a manner in her own backyard. Perhaps she would remain muted, hence the hyper aggressive display. Then again, that's no excuse for such ugly behaviour. Shame on her!\n",
      "@MothershipSG See la..govt want us to integrate with foreigners leh...how? only Integrated Bus Interchange maybe la.\n",
      "泼妇。\n",
      "\n",
      "*********** 804973086567055360 ***********\n",
      "For 3 months I've been travelling for a travelogue on SE Asia and its hidden gems. Many stunning places, amazing people and fascinating stories. ASEAN has its problems, but also beauty. Get excited for @ChannelNewsAsia's 5-part doco Tapestry: The Heart of ASEAN 📺 Premiere: 27Feb https://t.co/f6VDbSY7HG\n",
      "My \"studio\" for the weekend covering #ShangriLaDialogue @ShangriLaSG #SLD17 join me @ChannelNewsAsia https://t.co/EuLKjlCs2R\n",
      "\n",
      "*********** 83822931 ***********\n",
      "\n",
      "*********** 3246610436 ***********\n",
      "\n",
      "*********** 1365682034551627779 ***********\n",
      "@MothershipSG Covidiot!😂\n",
      "@MothershipSG The idiots all gathered together for a nice outing. Are they back in the asylum now?\n",
      "@MothershipSG theres barely any checks for vaccination status so this is just leading people to nowhere\n",
      "@MothershipSG wasting time group....yawn...\n",
      "@MothershipSG Uhh the pple protesting do know that as babies we had to take mandatory shots such as Measles Mump Rubella (MMR), Polio etc right? ...right?\n",
      "@MothershipSG Do they have children? Did they ever ask their children if they were willing to be born? Their children’s bodies, their choices!\n",
      "@zacroix @MothershipSG U can protest legally in Singapore if u dk. Like pink dot\n",
      "@MothershipSG \"I am healthy I have an immune system\" is possibly one of the most insensitive thing I have ever seen written\n",
      "\n",
      "*********** 1339037189565415425 ***********\n",
      "\n",
      "*********** 1499140477718872072 ***********\n",
      "\n",
      "*********** 1266607549245091840 ***********\n",
      "\n",
      "*********** 890795094256648192 ***********\n",
      "\n",
      "*********** 1509197192459816962 ***********\n",
      "\n",
      "*********** 1422221555950518275 ***********\n",
      "\n"
     ]
    }
   ],
   "source": [
    "liked_tweets_result_str = \"\"\n",
    "\n",
    "if tweetOption == 0:\n",
    "    for i in conversationDF[conversationDF['potential_bias'] == 1]['user_id']:\n",
    "        allUserTweets = combineTweets([getTweetsLikedByUser(i, header, 100)])\n",
    "\n",
    "        sub_heading = '*********** ' + i + ' ***********'\n",
    "        liked_tweets_result_str += sub_heading + '\\n'\n",
    "        print(sub_heading)\n",
    "\n",
    "        for j in checkForRepliesToNews(allUserTweets):\n",
    "            print(j)\n",
    "            liked_tweets_result_str += j + '\\n'\n",
    "\n",
    "        liked_tweets_result_str += '\\n'\n",
    "        print()\n",
    "\n",
    "elif tweetOption == 1:\n",
    "    for i in suspectedBiasUsers:\n",
    "        userID = getTwitterUserInfo(i, header)['data'][0]['id']\n",
    "        allUserTweets = combineTweets([getTweetsLikedByUser(userID, header, 100)])\n",
    "\n",
    "        sub_heading = '*********** ' + i + ' ***********'\n",
    "        liked_tweets_result_str += sub_heading + '\\n'\n",
    "        print(sub_heading)\n",
    "\n",
    "        for j in checkForRepliesToNews(allUserTweets):\n",
    "            print(j)\n",
    "            liked_tweets_result_str += j + '\\n'\n",
    "\n",
    "        liked_tweets_result_str += '\\n'\n",
    "        print()"
   ]
  },
  {
   "cell_type": "code",
   "execution_count": 22,
   "metadata": {
    "id": "ieFbeppxRUpG"
   },
   "outputs": [],
   "source": [
    "with open(f'{tweets_for_analysis[tweetOption]}/liked_tweets.txt', 'w') as f:\n",
    "    f.write(liked_tweets_result_str)"
   ]
  },
  {
   "cell_type": "markdown",
   "metadata": {
    "id": "Q1qbfjwXLP4g"
   },
   "source": [
    "# Results Visualisation"
   ]
  },
  {
   "cell_type": "markdown",
   "metadata": {
    "id": "qLxtHV41nSjc"
   },
   "source": [
    "## Visualise through graph"
   ]
  },
  {
   "cell_type": "code",
   "execution_count": 23,
   "metadata": {
    "id": "2-6k1vPtI5-z"
   },
   "outputs": [],
   "source": [
    "# G = createNetworkGraph(conversationTree, head_thread)\n",
    "polarity_map, subjectivity_map, pb_map = getColourNodes(conversationDF)"
   ]
  },
  {
   "cell_type": "code",
   "execution_count": 24,
   "metadata": {
    "colab": {
     "base_uri": "https://localhost:8080/",
     "height": 574
    },
    "id": "MPe8jLGEfM84",
    "outputId": "e9391450-d1c8-4852-cbf6-3203b373ba25"
   },
   "outputs": [
    {
     "name": "stdout",
     "output_type": "stream",
     "text": [
      "Polarity Scores\n",
      "Legend: Green - Positive polarity, Pink - Negative polarity, Yellow - Neutral or Unknown\n"
     ]
    },
    {
     "data": {
      "text/html": [
       "<html>\n",
       "<head>\n",
       "<link rel=\"stylesheet\" href=\"https://cdn.jsdelivr.net/npm/vis-network@latest/styles/vis-network.css\" type=\"text/css\" />\n",
       "<script type=\"text/javascript\" src=\"https://cdn.jsdelivr.net/npm/vis-network@latest/dist/vis-network.min.js\"> </script>\n",
       "<center>\n",
       "<h1></h1>\n",
       "</center>\n",
       "\n",
       "<!-- <link rel=\"stylesheet\" href=\"../node_modules/vis/dist/vis.min.css\" type=\"text/css\" />\n",
       "<script type=\"text/javascript\" src=\"../node_modules/vis/dist/vis.js\"> </script>-->\n",
       "\n",
       "<style type=\"text/css\">\n",
       "\n",
       "        #mynetwork {\n",
       "            width: 500px;\n",
       "            height: 500px;\n",
       "            background-color: #ffffff;\n",
       "            border: 1px solid lightgray;\n",
       "            position: relative;\n",
       "            float: left;\n",
       "        }\n",
       "\n",
       "        \n",
       "\n",
       "        \n",
       "\n",
       "        \n",
       "</style>\n",
       "\n",
       "</head>\n",
       "\n",
       "<body>\n",
       "<div id = \"mynetwork\"></div>\n",
       "\n",
       "\n",
       "<script type=\"text/javascript\">\n",
       "\n",
       "    // initialize global variables.\n",
       "    var edges;\n",
       "    var nodes;\n",
       "    var network; \n",
       "    var container;\n",
       "    var options, data;\n",
       "\n",
       "    \n",
       "    // This method is responsible for drawing the graph, returns the drawn network\n",
       "    function drawGraph() {\n",
       "        var container = document.getElementById('mynetwork');\n",
       "        \n",
       "        \n",
       "\n",
       "        // parsing and collecting nodes and edges from the python\n",
       "        nodes = new vis.DataSet([{\"id\": \"1619325942\", \"label\": \"1619325942\", \"shape\": \"dot\"}, {\"color\": \"#FFFF00\", \"id\": \"10038\", \"label\": \"10038\", \"shape\": \"dot\", \"title\": \"Score: [-0.5, 0.6681]\"}, {\"color\": \"#FFFF00\", \"id\": \"10000\", \"label\": \"10000\", \"shape\": \"dot\", \"title\": \"Score: [0.125, -0.4364]\"}, {\"color\": \"#FFFF00\", \"id\": \"10021\", \"label\": \"10021\", \"shape\": \"dot\", \"title\": \"Score: [0.05, 0.2263]\"}, {\"color\": \"#FFFF00\", \"id\": \"10001\", \"label\": \"10001\", \"shape\": \"dot\", \"title\": \"Score: [0.5, 0.0]\"}, {\"color\": \"#FFFF00\", \"id\": \"10002\", \"label\": \"10002\", \"shape\": \"dot\", \"title\": \"Score: [0.0, 0.0]\"}, {\"color\": \"#FFFF00\", \"id\": \"10003\", \"label\": \"10003\", \"shape\": \"dot\", \"title\": \"Score: [0.0, -0.25]\"}, {\"color\": \"#FFFF00\", \"id\": \"10004\", \"label\": \"10004\", \"shape\": \"dot\", \"title\": \"Score: [0.0, -0.25]\"}, {\"color\": \"#00FF80\", \"id\": \"10008\", \"label\": \"10008\", \"shape\": \"dot\", \"title\": \"Score: [0.4, 0.1027]\"}, {\"color\": \"#FFFF00\", \"id\": \"10009\", \"label\": \"10009\", \"shape\": \"dot\", \"title\": \"Score: [-0.1, 0.0]\"}, {\"color\": \"#FFFF00\", \"id\": \"10010\", \"label\": \"10010\", \"shape\": \"dot\", \"title\": \"Score: [0.39285714285714285, -0.9509]\"}, {\"color\": \"#FF9999\", \"id\": \"10011\", \"label\": \"10011\", \"shape\": \"dot\", \"title\": \"Score: [-0.2375, -0.6501]\"}, {\"color\": \"#00FF80\", \"id\": \"10017\", \"label\": \"10017\", \"shape\": \"dot\", \"title\": \"Score: [0.5, 0.2732]\"}, {\"color\": \"#FF9999\", \"id\": \"10019\", \"label\": \"10019\", \"shape\": \"dot\", \"title\": \"Score: [-0.5, -0.4939]\"}, {\"color\": \"#FFFF00\", \"id\": \"10020\", \"label\": \"10020\", \"shape\": \"dot\", \"title\": \"Score: [0.0, -0.1531]\"}, {\"color\": \"#00FF80\", \"id\": \"10022\", \"label\": \"10022\", \"shape\": \"dot\", \"title\": \"Score: [0.3333333333333333, 0.4033]\"}, {\"color\": \"#FFFF00\", \"id\": \"10023\", \"label\": \"10023\", \"shape\": \"dot\", \"title\": \"Score: [0.0, -0.4019]\"}, {\"color\": \"#FFFF00\", \"id\": \"10024\", \"label\": \"10024\", \"shape\": \"dot\", \"title\": \"Score: [0.0, 0.0]\"}, {\"color\": \"#FF9999\", \"id\": \"10025\", \"label\": \"10025\", \"shape\": \"dot\", \"title\": \"Score: [-0.15, -0.4939]\"}, {\"color\": \"#FFFF00\", \"id\": \"10026\", \"label\": \"10026\", \"shape\": \"dot\", \"title\": \"Score: [0.0, 0.0]\"}, {\"color\": \"#FFFF00\", \"id\": \"10028\", \"label\": \"10028\", \"shape\": \"dot\", \"title\": \"Score: [0.0, 0.0]\"}, {\"color\": \"#FF9999\", \"id\": \"10030\", \"label\": \"10030\", \"shape\": \"dot\", \"title\": \"Score: [-0.375, -0.802]\"}, {\"color\": \"#FFFF00\", \"id\": \"10031\", \"label\": \"10031\", \"shape\": \"dot\", \"title\": \"Score: [-0.0666666666666667, 0.4215]\"}, {\"color\": \"#FFFF00\", \"id\": \"10033\", \"label\": \"10033\", \"shape\": \"dot\", \"title\": \"Score: [0.19047619047619047, -0.3612]\"}, {\"color\": \"#FFFF00\", \"id\": \"10035\", \"label\": \"10035\", \"shape\": \"dot\", \"title\": \"Score: [0.04999999999999999, 0.1744]\"}, {\"color\": \"#FFFF00\", \"id\": \"10036\", \"label\": \"10036\", \"shape\": \"dot\", \"title\": \"Score: [0.25, 0.0]\"}, {\"color\": \"#FFFF00\", \"id\": \"10037\", \"label\": \"10037\", \"shape\": \"dot\", \"title\": \"Score: [0.0, -0.3612]\"}, {\"color\": \"#FFFF00\", \"id\": \"10039\", \"label\": \"10039\", \"shape\": \"dot\", \"title\": \"Score: [0.0, 0.0]\"}, {\"color\": \"#FFFF00\", \"id\": \"10034\", \"label\": \"10034\", \"shape\": \"dot\", \"title\": \"Score: [-0.35555555555555557, 0.5423]\"}, {\"color\": \"#FFFF00\", \"id\": \"10040\", \"label\": \"10040\", \"shape\": \"dot\", \"title\": \"Score: [0.05, 0.0]\"}, {\"color\": \"#00FF80\", \"id\": \"10016\", \"label\": \"10016\", \"shape\": \"dot\", \"title\": \"Score: [0.4375, 0.8074]\"}]);\n",
       "        edges = new vis.DataSet([{\"from\": \"1619325942\", \"to\": \"10038\"}, {\"from\": \"10038\", \"to\": \"10000\"}, {\"from\": \"10038\", \"to\": \"10021\"}, {\"from\": \"1619325942\", \"to\": \"10001\"}, {\"from\": \"1619325942\", \"to\": \"10002\"}, {\"from\": \"1619325942\", \"to\": \"10003\"}, {\"from\": \"1619325942\", \"to\": \"10004\"}, {\"from\": \"1619325942\", \"to\": \"10008\"}, {\"from\": \"1619325942\", \"to\": \"10009\"}, {\"from\": \"1619325942\", \"to\": \"10010\"}, {\"from\": \"1619325942\", \"to\": \"10011\"}, {\"from\": \"1619325942\", \"to\": \"10017\"}, {\"from\": \"1619325942\", \"to\": \"10019\"}, {\"from\": \"1619325942\", \"to\": \"10020\"}, {\"from\": \"1619325942\", \"to\": \"10022\"}, {\"from\": \"1619325942\", \"to\": \"10023\"}, {\"from\": \"1619325942\", \"to\": \"10024\"}, {\"from\": \"1619325942\", \"to\": \"10025\"}, {\"from\": \"1619325942\", \"to\": \"10026\"}, {\"from\": \"1619325942\", \"to\": \"10028\"}, {\"from\": \"1619325942\", \"to\": \"10030\"}, {\"from\": \"1619325942\", \"to\": \"10031\"}, {\"from\": \"1619325942\", \"to\": \"10033\"}, {\"from\": \"1619325942\", \"to\": \"10035\"}, {\"from\": \"1619325942\", \"to\": \"10036\"}, {\"from\": \"1619325942\", \"to\": \"10037\"}, {\"from\": \"1619325942\", \"to\": \"10039\"}, {\"from\": \"10039\", \"to\": \"10034\"}, {\"from\": \"1619325942\", \"to\": \"10040\"}, {\"from\": \"10040\", \"to\": \"10016\"}]);\n",
       "\n",
       "        // adding nodes and edges to the graph\n",
       "        data = {nodes: nodes, edges: edges};\n",
       "\n",
       "        var options = {\n",
       "    \"configure\": {\n",
       "        \"enabled\": false\n",
       "    },\n",
       "    \"edges\": {\n",
       "        \"color\": {\n",
       "            \"inherit\": true\n",
       "        },\n",
       "        \"smooth\": {\n",
       "            \"enabled\": true,\n",
       "            \"type\": \"dynamic\"\n",
       "        }\n",
       "    },\n",
       "    \"interaction\": {\n",
       "        \"dragNodes\": true,\n",
       "        \"hideEdgesOnDrag\": false,\n",
       "        \"hideNodesOnDrag\": false\n",
       "    },\n",
       "    \"physics\": {\n",
       "        \"enabled\": true,\n",
       "        \"stabilization\": {\n",
       "            \"enabled\": true,\n",
       "            \"fit\": true,\n",
       "            \"iterations\": 1000,\n",
       "            \"onlyDynamicEdges\": false,\n",
       "            \"updateInterval\": 50\n",
       "        }\n",
       "    }\n",
       "};\n",
       "        \n",
       "        \n",
       "\n",
       "        \n",
       "\n",
       "        network = new vis.Network(container, data, options);\n",
       "\t \n",
       "        \n",
       "\n",
       "\n",
       "        \n",
       "\n",
       "        return network;\n",
       "\n",
       "    }\n",
       "\n",
       "    drawGraph();\n",
       "\n",
       "</script>\n",
       "</body>\n",
       "</html>"
      ],
      "text/plain": [
       "<IPython.core.display.HTML object>"
      ]
     },
     "metadata": {},
     "output_type": "display_data"
    }
   ],
   "source": [
    "net = createInterativeNetworkGraph(conversationTree, head_thread, polarity_map, overall_polarity_scores)\n",
    "net.show(f'{tweets_for_analysis[tweetOption]}/polarity_scores_graph.html')\n",
    "print('Polarity Scores')\n",
    "print('Legend: Green - Positive polarity,', 'Pink - Negative polarity,', 'Yellow - Neutral or Unknown')\n",
    "\n",
    "display(HTML(f'{tweets_for_analysis[tweetOption]}/polarity_scores_graph.html'))"
   ]
  },
  {
   "cell_type": "code",
   "execution_count": 25,
   "metadata": {
    "colab": {
     "base_uri": "https://localhost:8080/",
     "height": 574
    },
    "id": "NUbyaHAxsUfc",
    "outputId": "a28400c6-4883-417f-9bf6-479478d5159f"
   },
   "outputs": [
    {
     "name": "stdout",
     "output_type": "stream",
     "text": [
      "Subjectivity Scores\n",
      "Legend: Light Grey - Subjective comment, Light Blue - Objective comment, Orange - Unknown\n"
     ]
    },
    {
     "data": {
      "text/html": [
       "<html>\n",
       "<head>\n",
       "<link rel=\"stylesheet\" href=\"https://cdn.jsdelivr.net/npm/vis-network@latest/styles/vis-network.css\" type=\"text/css\" />\n",
       "<script type=\"text/javascript\" src=\"https://cdn.jsdelivr.net/npm/vis-network@latest/dist/vis-network.min.js\"> </script>\n",
       "<center>\n",
       "<h1></h1>\n",
       "</center>\n",
       "\n",
       "<!-- <link rel=\"stylesheet\" href=\"../node_modules/vis/dist/vis.min.css\" type=\"text/css\" />\n",
       "<script type=\"text/javascript\" src=\"../node_modules/vis/dist/vis.js\"> </script>-->\n",
       "\n",
       "<style type=\"text/css\">\n",
       "\n",
       "        #mynetwork {\n",
       "            width: 500px;\n",
       "            height: 500px;\n",
       "            background-color: #ffffff;\n",
       "            border: 1px solid lightgray;\n",
       "            position: relative;\n",
       "            float: left;\n",
       "        }\n",
       "\n",
       "        \n",
       "\n",
       "        \n",
       "\n",
       "        \n",
       "</style>\n",
       "\n",
       "</head>\n",
       "\n",
       "<body>\n",
       "<div id = \"mynetwork\"></div>\n",
       "\n",
       "\n",
       "<script type=\"text/javascript\">\n",
       "\n",
       "    // initialize global variables.\n",
       "    var edges;\n",
       "    var nodes;\n",
       "    var network; \n",
       "    var container;\n",
       "    var options, data;\n",
       "\n",
       "    \n",
       "    // This method is responsible for drawing the graph, returns the drawn network\n",
       "    function drawGraph() {\n",
       "        var container = document.getElementById('mynetwork');\n",
       "        \n",
       "        \n",
       "\n",
       "        // parsing and collecting nodes and edges from the python\n",
       "        nodes = new vis.DataSet([{\"id\": \"1619325942\", \"label\": \"1619325942\", \"shape\": \"dot\"}, {\"color\": \"#ADD8E6\", \"id\": \"10038\", \"label\": \"10038\", \"shape\": \"dot\", \"title\": \"Score: [0.0008762074867263436, 0.5]\"}, {\"color\": \"#ADD8E6\", \"id\": \"10000\", \"label\": \"10000\", \"shape\": \"dot\", \"title\": \"Score: [0.0037204145919531584, 0.45]\"}, {\"color\": \"#ADD8E6\", \"id\": \"10021\", \"label\": \"10021\", \"shape\": \"dot\", \"title\": \"Score: [0.014829045161604881, 0.25]\"}, {\"color\": \"#ADD8E6\", \"id\": \"10001\", \"label\": \"10001\", \"shape\": \"dot\", \"title\": \"Score: [0.0038576279766857624, 0.5]\"}, {\"color\": \"#ADD8E6\", \"id\": \"10002\", \"label\": \"10002\", \"shape\": \"dot\", \"title\": \"Score: [0.003196283709257841, 0.0]\"}, {\"color\": \"#ADD8E6\", \"id\": \"10003\", \"label\": \"10003\", \"shape\": \"dot\", \"title\": \"Score: [0.0038458744529634714, 0.0]\"}, {\"color\": \"#ADD8E6\", \"id\": \"10004\", \"label\": \"10004\", \"shape\": \"dot\", \"title\": \"Score: [0.015578856691718102, 0.0]\"}, {\"color\": \"#FF7F50\", \"id\": \"10008\", \"label\": \"10008\", \"shape\": \"dot\", \"title\": \"Score: [0.026702169328927994, 0.8]\"}, {\"color\": \"#ADD8E6\", \"id\": \"10009\", \"label\": \"10009\", \"shape\": \"dot\", \"title\": \"Score: [0.0026126212906092405, 0.0]\"}, {\"color\": \"#FF7F50\", \"id\": \"10010\", \"label\": \"10010\", \"shape\": \"dot\", \"title\": \"Score: [0.014167138375341892, 0.5178571428571428]\"}, {\"color\": \"#FF7F50\", \"id\": \"10011\", \"label\": \"10011\", \"shape\": \"dot\", \"title\": \"Score: [0.14759843051433563, 0.7999999999999999]\"}, {\"color\": \"#A9A9A9\", \"id\": \"10017\", \"label\": \"10017\", \"shape\": \"dot\", \"title\": \"Score: [0.8024165034294128, 0.9]\"}, {\"color\": \"#FF7F50\", \"id\": \"10019\", \"label\": \"10019\", \"shape\": \"dot\", \"title\": \"Score: [0.01277637854218483, 0.6666666666666666]\"}, {\"color\": \"#ADD8E6\", \"id\": \"10020\", \"label\": \"10020\", \"shape\": \"dot\", \"title\": \"Score: [0.01530168391764164, 0.0]\"}, {\"color\": \"#A9A9A9\", \"id\": \"10022\", \"label\": \"10022\", \"shape\": \"dot\", \"title\": \"Score: [0.9998693466186523, 0.6666666666666666]\"}, {\"color\": \"#ADD8E6\", \"id\": \"10023\", \"label\": \"10023\", \"shape\": \"dot\", \"title\": \"Score: [0.49663829803466797, 0.0]\"}, {\"color\": \"#FF7F50\", \"id\": \"10024\", \"label\": \"10024\", \"shape\": \"dot\", \"title\": \"Score: [0.9995007514953613, 0.0]\"}, {\"color\": \"#ADD8E6\", \"id\": \"10025\", \"label\": \"10025\", \"shape\": \"dot\", \"title\": \"Score: [0.01387838926166296, 0.5]\"}, {\"color\": \"#ADD8E6\", \"id\": \"10026\", \"label\": \"10026\", \"shape\": \"dot\", \"title\": \"Score: [0.012780721299350262, 0.0]\"}, {\"color\": \"#ADD8E6\", \"id\": \"10028\", \"label\": \"10028\", \"shape\": \"dot\", \"title\": \"Score: [0.014407360926270485, 0.0]\"}, {\"color\": \"#ADD8E6\", \"id\": \"10030\", \"label\": \"10030\", \"shape\": \"dot\", \"title\": \"Score: [0.02011781744658947, 0.5]\"}, {\"color\": \"#FF7F50\", \"id\": \"10031\", \"label\": \"10031\", \"shape\": \"dot\", \"title\": \"Score: [0.0006758422241546214, 0.6]\"}, {\"color\": \"#FF7F50\", \"id\": \"10033\", \"label\": \"10033\", \"shape\": \"dot\", \"title\": \"Score: [0.2690626382827759, 0.5238095238095237]\"}, {\"color\": \"#FF7F50\", \"id\": \"10035\", \"label\": \"10035\", \"shape\": \"dot\", \"title\": \"Score: [0.008506560698151588, 0.725]\"}, {\"color\": \"#FF7F50\", \"id\": \"10036\", \"label\": \"10036\", \"shape\": \"dot\", \"title\": \"Score: [0.0013242856366559863, 0.75]\"}, {\"color\": \"#ADD8E6\", \"id\": \"10037\", \"label\": \"10037\", \"shape\": \"dot\", \"title\": \"Score: [0.031468868255615234, 0.0]\"}, {\"color\": \"#ADD8E6\", \"id\": \"10039\", \"label\": \"10039\", \"shape\": \"dot\", \"title\": \"Score: [0.27330949902534485, 0.0]\"}, {\"color\": \"#FF7F50\", \"id\": \"10034\", \"label\": \"10034\", \"shape\": \"dot\", \"title\": \"Score: [0.1531762182712555, 0.9111111111111111]\"}, {\"color\": \"#ADD8E6\", \"id\": \"10040\", \"label\": \"10040\", \"shape\": \"dot\", \"title\": \"Score: [0.012535897083580494, 0.1]\"}, {\"color\": \"#ADD8E6\", \"id\": \"10016\", \"label\": \"10016\", \"shape\": \"dot\", \"title\": \"Score: [0.28336089849472046, 0.4583333333333333]\"}]);\n",
       "        edges = new vis.DataSet([{\"from\": \"1619325942\", \"to\": \"10038\"}, {\"from\": \"10038\", \"to\": \"10000\"}, {\"from\": \"10038\", \"to\": \"10021\"}, {\"from\": \"1619325942\", \"to\": \"10001\"}, {\"from\": \"1619325942\", \"to\": \"10002\"}, {\"from\": \"1619325942\", \"to\": \"10003\"}, {\"from\": \"1619325942\", \"to\": \"10004\"}, {\"from\": \"1619325942\", \"to\": \"10008\"}, {\"from\": \"1619325942\", \"to\": \"10009\"}, {\"from\": \"1619325942\", \"to\": \"10010\"}, {\"from\": \"1619325942\", \"to\": \"10011\"}, {\"from\": \"1619325942\", \"to\": \"10017\"}, {\"from\": \"1619325942\", \"to\": \"10019\"}, {\"from\": \"1619325942\", \"to\": \"10020\"}, {\"from\": \"1619325942\", \"to\": \"10022\"}, {\"from\": \"1619325942\", \"to\": \"10023\"}, {\"from\": \"1619325942\", \"to\": \"10024\"}, {\"from\": \"1619325942\", \"to\": \"10025\"}, {\"from\": \"1619325942\", \"to\": \"10026\"}, {\"from\": \"1619325942\", \"to\": \"10028\"}, {\"from\": \"1619325942\", \"to\": \"10030\"}, {\"from\": \"1619325942\", \"to\": \"10031\"}, {\"from\": \"1619325942\", \"to\": \"10033\"}, {\"from\": \"1619325942\", \"to\": \"10035\"}, {\"from\": \"1619325942\", \"to\": \"10036\"}, {\"from\": \"1619325942\", \"to\": \"10037\"}, {\"from\": \"1619325942\", \"to\": \"10039\"}, {\"from\": \"10039\", \"to\": \"10034\"}, {\"from\": \"1619325942\", \"to\": \"10040\"}, {\"from\": \"10040\", \"to\": \"10016\"}]);\n",
       "\n",
       "        // adding nodes and edges to the graph\n",
       "        data = {nodes: nodes, edges: edges};\n",
       "\n",
       "        var options = {\n",
       "    \"configure\": {\n",
       "        \"enabled\": false\n",
       "    },\n",
       "    \"edges\": {\n",
       "        \"color\": {\n",
       "            \"inherit\": true\n",
       "        },\n",
       "        \"smooth\": {\n",
       "            \"enabled\": true,\n",
       "            \"type\": \"dynamic\"\n",
       "        }\n",
       "    },\n",
       "    \"interaction\": {\n",
       "        \"dragNodes\": true,\n",
       "        \"hideEdgesOnDrag\": false,\n",
       "        \"hideNodesOnDrag\": false\n",
       "    },\n",
       "    \"physics\": {\n",
       "        \"enabled\": true,\n",
       "        \"stabilization\": {\n",
       "            \"enabled\": true,\n",
       "            \"fit\": true,\n",
       "            \"iterations\": 1000,\n",
       "            \"onlyDynamicEdges\": false,\n",
       "            \"updateInterval\": 50\n",
       "        }\n",
       "    }\n",
       "};\n",
       "        \n",
       "        \n",
       "\n",
       "        \n",
       "\n",
       "        network = new vis.Network(container, data, options);\n",
       "\t \n",
       "        \n",
       "\n",
       "\n",
       "        \n",
       "\n",
       "        return network;\n",
       "\n",
       "    }\n",
       "\n",
       "    drawGraph();\n",
       "\n",
       "</script>\n",
       "</body>\n",
       "</html>"
      ],
      "text/plain": [
       "<IPython.core.display.HTML object>"
      ]
     },
     "metadata": {},
     "output_type": "display_data"
    }
   ],
   "source": [
    "net = createInterativeNetworkGraph(conversationTree, head_thread, subjectivity_map, overall_subjectivity_scores)\n",
    "net.show(f'{tweets_for_analysis[tweetOption]}/subjectivity_scores_graph.html')\n",
    "print('Subjectivity Scores')\n",
    "print('Legend: Light Grey - Subjective comment,', 'Light Blue - Objective comment,', 'Orange - Unknown')\n",
    "\n",
    "display(HTML(f'{tweets_for_analysis[tweetOption]}/subjectivity_scores_graph.html'))"
   ]
  },
  {
   "cell_type": "code",
   "execution_count": 26,
   "metadata": {
    "colab": {
     "base_uri": "https://localhost:8080/",
     "height": 556
    },
    "id": "TXoxsAn9M7mz",
    "outputId": "b027222d-687f-47d2-85cc-ffec8f52e2e8"
   },
   "outputs": [
    {
     "name": "stdout",
     "output_type": "stream",
     "text": [
      "Legend: Red - Potential Bias, Black - Potential Unbias\n"
     ]
    },
    {
     "data": {
      "text/html": [
       "<html>\n",
       "<head>\n",
       "<link rel=\"stylesheet\" href=\"https://cdn.jsdelivr.net/npm/vis-network@latest/styles/vis-network.css\" type=\"text/css\" />\n",
       "<script type=\"text/javascript\" src=\"https://cdn.jsdelivr.net/npm/vis-network@latest/dist/vis-network.min.js\"> </script>\n",
       "<center>\n",
       "<h1></h1>\n",
       "</center>\n",
       "\n",
       "<!-- <link rel=\"stylesheet\" href=\"../node_modules/vis/dist/vis.min.css\" type=\"text/css\" />\n",
       "<script type=\"text/javascript\" src=\"../node_modules/vis/dist/vis.js\"> </script>-->\n",
       "\n",
       "<style type=\"text/css\">\n",
       "\n",
       "        #mynetwork {\n",
       "            width: 500px;\n",
       "            height: 500px;\n",
       "            background-color: #ffffff;\n",
       "            border: 1px solid lightgray;\n",
       "            position: relative;\n",
       "            float: left;\n",
       "        }\n",
       "\n",
       "        \n",
       "\n",
       "        \n",
       "\n",
       "        \n",
       "</style>\n",
       "\n",
       "</head>\n",
       "\n",
       "<body>\n",
       "<div id = \"mynetwork\"></div>\n",
       "\n",
       "\n",
       "<script type=\"text/javascript\">\n",
       "\n",
       "    // initialize global variables.\n",
       "    var edges;\n",
       "    var nodes;\n",
       "    var network; \n",
       "    var container;\n",
       "    var options, data;\n",
       "\n",
       "    \n",
       "    // This method is responsible for drawing the graph, returns the drawn network\n",
       "    function drawGraph() {\n",
       "        var container = document.getElementById('mynetwork');\n",
       "        \n",
       "        \n",
       "\n",
       "        // parsing and collecting nodes and edges from the python\n",
       "        nodes = new vis.DataSet([{\"id\": \"1619325942\", \"label\": \"1619325942\", \"shape\": \"dot\"}, {\"color\": \"black\", \"id\": \"10038\", \"label\": \"10038\", \"shape\": \"dot\"}, {\"color\": \"black\", \"id\": \"10000\", \"label\": \"10000\", \"shape\": \"dot\"}, {\"color\": \"black\", \"id\": \"10021\", \"label\": \"10021\", \"shape\": \"dot\"}, {\"color\": \"black\", \"id\": \"10001\", \"label\": \"10001\", \"shape\": \"dot\"}, {\"color\": \"black\", \"id\": \"10002\", \"label\": \"10002\", \"shape\": \"dot\"}, {\"color\": \"black\", \"id\": \"10003\", \"label\": \"10003\", \"shape\": \"dot\"}, {\"color\": \"black\", \"id\": \"10004\", \"label\": \"10004\", \"shape\": \"dot\"}, {\"color\": \"red\", \"id\": \"10008\", \"label\": \"10008\", \"shape\": \"dot\"}, {\"color\": \"black\", \"id\": \"10009\", \"label\": \"10009\", \"shape\": \"dot\"}, {\"color\": \"black\", \"id\": \"10010\", \"label\": \"10010\", \"shape\": \"dot\"}, {\"color\": \"red\", \"id\": \"10011\", \"label\": \"10011\", \"shape\": \"dot\"}, {\"color\": \"red\", \"id\": \"10017\", \"label\": \"10017\", \"shape\": \"dot\"}, {\"color\": \"red\", \"id\": \"10019\", \"label\": \"10019\", \"shape\": \"dot\"}, {\"color\": \"red\", \"id\": \"10020\", \"label\": \"10020\", \"shape\": \"dot\"}, {\"color\": \"red\", \"id\": \"10022\", \"label\": \"10022\", \"shape\": \"dot\"}, {\"color\": \"black\", \"id\": \"10023\", \"label\": \"10023\", \"shape\": \"dot\"}, {\"color\": \"red\", \"id\": \"10024\", \"label\": \"10024\", \"shape\": \"dot\"}, {\"color\": \"red\", \"id\": \"10025\", \"label\": \"10025\", \"shape\": \"dot\"}, {\"color\": \"black\", \"id\": \"10026\", \"label\": \"10026\", \"shape\": \"dot\"}, {\"color\": \"black\", \"id\": \"10028\", \"label\": \"10028\", \"shape\": \"dot\"}, {\"color\": \"red\", \"id\": \"10030\", \"label\": \"10030\", \"shape\": \"dot\"}, {\"color\": \"black\", \"id\": \"10031\", \"label\": \"10031\", \"shape\": \"dot\"}, {\"color\": \"black\", \"id\": \"10033\", \"label\": \"10033\", \"shape\": \"dot\"}, {\"color\": \"red\", \"id\": \"10035\", \"label\": \"10035\", \"shape\": \"dot\"}, {\"color\": \"black\", \"id\": \"10036\", \"label\": \"10036\", \"shape\": \"dot\"}, {\"color\": \"black\", \"id\": \"10037\", \"label\": \"10037\", \"shape\": \"dot\"}, {\"color\": \"black\", \"id\": \"10039\", \"label\": \"10039\", \"shape\": \"dot\"}, {\"color\": \"black\", \"id\": \"10034\", \"label\": \"10034\", \"shape\": \"dot\"}, {\"color\": \"black\", \"id\": \"10040\", \"label\": \"10040\", \"shape\": \"dot\"}, {\"color\": \"red\", \"id\": \"10016\", \"label\": \"10016\", \"shape\": \"dot\"}]);\n",
       "        edges = new vis.DataSet([{\"from\": \"1619325942\", \"to\": \"10038\"}, {\"from\": \"10038\", \"to\": \"10000\"}, {\"from\": \"10038\", \"to\": \"10021\"}, {\"from\": \"1619325942\", \"to\": \"10001\"}, {\"from\": \"1619325942\", \"to\": \"10002\"}, {\"from\": \"1619325942\", \"to\": \"10003\"}, {\"from\": \"1619325942\", \"to\": \"10004\"}, {\"from\": \"1619325942\", \"to\": \"10008\"}, {\"from\": \"1619325942\", \"to\": \"10009\"}, {\"from\": \"1619325942\", \"to\": \"10010\"}, {\"from\": \"1619325942\", \"to\": \"10011\"}, {\"from\": \"1619325942\", \"to\": \"10017\"}, {\"from\": \"1619325942\", \"to\": \"10019\"}, {\"from\": \"1619325942\", \"to\": \"10020\"}, {\"from\": \"1619325942\", \"to\": \"10022\"}, {\"from\": \"1619325942\", \"to\": \"10023\"}, {\"from\": \"1619325942\", \"to\": \"10024\"}, {\"from\": \"1619325942\", \"to\": \"10025\"}, {\"from\": \"1619325942\", \"to\": \"10026\"}, {\"from\": \"1619325942\", \"to\": \"10028\"}, {\"from\": \"1619325942\", \"to\": \"10030\"}, {\"from\": \"1619325942\", \"to\": \"10031\"}, {\"from\": \"1619325942\", \"to\": \"10033\"}, {\"from\": \"1619325942\", \"to\": \"10035\"}, {\"from\": \"1619325942\", \"to\": \"10036\"}, {\"from\": \"1619325942\", \"to\": \"10037\"}, {\"from\": \"1619325942\", \"to\": \"10039\"}, {\"from\": \"10039\", \"to\": \"10034\"}, {\"from\": \"1619325942\", \"to\": \"10040\"}, {\"from\": \"10040\", \"to\": \"10016\"}]);\n",
       "\n",
       "        // adding nodes and edges to the graph\n",
       "        data = {nodes: nodes, edges: edges};\n",
       "\n",
       "        var options = {\n",
       "    \"configure\": {\n",
       "        \"enabled\": false\n",
       "    },\n",
       "    \"edges\": {\n",
       "        \"color\": {\n",
       "            \"inherit\": true\n",
       "        },\n",
       "        \"smooth\": {\n",
       "            \"enabled\": true,\n",
       "            \"type\": \"dynamic\"\n",
       "        }\n",
       "    },\n",
       "    \"interaction\": {\n",
       "        \"dragNodes\": true,\n",
       "        \"hideEdgesOnDrag\": false,\n",
       "        \"hideNodesOnDrag\": false\n",
       "    },\n",
       "    \"physics\": {\n",
       "        \"enabled\": true,\n",
       "        \"stabilization\": {\n",
       "            \"enabled\": true,\n",
       "            \"fit\": true,\n",
       "            \"iterations\": 1000,\n",
       "            \"onlyDynamicEdges\": false,\n",
       "            \"updateInterval\": 50\n",
       "        }\n",
       "    }\n",
       "};\n",
       "        \n",
       "        \n",
       "\n",
       "        \n",
       "\n",
       "        network = new vis.Network(container, data, options);\n",
       "\t \n",
       "        \n",
       "\n",
       "\n",
       "        \n",
       "\n",
       "        return network;\n",
       "\n",
       "    }\n",
       "\n",
       "    drawGraph();\n",
       "\n",
       "</script>\n",
       "</body>\n",
       "</html>"
      ],
      "text/plain": [
       "<IPython.core.display.HTML object>"
      ]
     },
     "metadata": {},
     "output_type": "display_data"
    }
   ],
   "source": [
    "net = createInterativeNetworkGraph(conversationTree, head_thread, pb_map, [])\n",
    "net.show(f'{tweets_for_analysis[tweetOption]}/potential_bias_users_graph.html')\n",
    "print('Legend: Red - Potential Bias,', 'Black - Potential Unbias')\n",
    "\n",
    "display(HTML(f'{tweets_for_analysis[tweetOption]}/potential_bias_users_graph.html'))"
   ]
  },
  {
   "cell_type": "markdown",
   "metadata": {
    "id": "i-bKt7EnavgY"
   },
   "source": [
    "## Other additional visualisation"
   ]
  },
  {
   "cell_type": "code",
   "execution_count": 27,
   "metadata": {
    "colab": {
     "base_uri": "https://localhost:8080/"
    },
    "id": "A2WreX-4osDo",
    "outputId": "46e68ba8-76aa-42f2-9a6e-bc6dc57f1186"
   },
   "outputs": [
    {
     "name": "stdout",
     "output_type": "stream",
     "text": [
      "overall_polarity\n",
      "NEG         4\n",
      "NEU        13\n",
      "POS         4\n",
      "UNKNOWN     9\n",
      "dtype: int64\n"
     ]
    }
   ],
   "source": [
    "# Let's count the number of tweets by sentiments\n",
    "sentiment_counts = conversationDF.groupby(['overall_polarity']).size()\n",
    "print(sentiment_counts)"
   ]
  },
  {
   "cell_type": "code",
   "execution_count": 28,
   "metadata": {
    "colab": {
     "base_uri": "https://localhost:8080/"
    },
    "id": "2LtfnTDRN8mU",
    "outputId": "58cb1663-8f75-4459-f0bd-d85586669eaf"
   },
   "outputs": [
    {
     "name": "stdout",
     "output_type": "stream",
     "text": [
      "topic_cluster\n",
      "0     8\n",
      "1    22\n",
      "dtype: int64\n"
     ]
    }
   ],
   "source": [
    "topic_cluster_counts = conversationDF.groupby(['topic_cluster']).size()\n",
    "print(topic_cluster_counts)"
   ]
  },
  {
   "cell_type": "code",
   "execution_count": 29,
   "metadata": {
    "colab": {
     "base_uri": "https://localhost:8080/",
     "height": 965
    },
    "id": "47Rb-jhs-6T0",
    "outputId": "f3769ec3-ec96-4bf9-dc20-a2d621cd2284"
   },
   "outputs": [
    {
     "data": {
      "image/png": "[encoded data removed]",
      "text/plain": [
       "<Figure size 1200x1200 with 2 Axes>"
      ]
     },
     "metadata": {},
     "output_type": "display_data"
    }
   ],
   "source": [
    "fig = plt.figure(figsize=(12,12), dpi=100)\n",
    "\n",
    "ax1 = fig.add_subplot(211)\n",
    "ax1.title.set_text(\"Results of polarity detection\")\n",
    "ax1.pie(sentiment_counts.values, labels=sentiment_counts.index, autopct='%1.1f%%', startangle=270)\n",
    "\n",
    "ax2 = fig.add_subplot(212)\n",
    "ax2.title.set_text(\"Results of text clustering\")\n",
    "ax2.pie(topic_cluster_counts.values, labels=topic_cluster_counts.index, autopct='%1.1f%%', startangle=270)\n",
    "\n",
    "plt.show()\n",
    "fig.savefig(f'{tweets_for_analysis[tweetOption]}/pie_charts_polarity_and_text_clustering.png')"
   ]
  },
  {
   "cell_type": "code",
   "execution_count": 30,
   "metadata": {
    "id": "J4ktroLZot_R"
   },
   "outputs": [],
   "source": [
    "# Wordcloud with positive tweets\n",
    "positive_tweets = []\n",
    "for i in conversationDF[conversationDF[\"overall_polarity\"] == 'POS']['comment'].tolist():\n",
    "    positive_tweets.append(re.sub(\"(@[A-Za-z0-9]+)\", \"\", i))\n",
    "\n",
    "if len(positive_tweets) != 0:\n",
    "    stop_words = [\"https\", \"co\", \"RT\"] + list(STOPWORDS)\n",
    "    positive_wordcloud = WordCloud(max_font_size=50, max_words=30, background_color=\"white\", stopwords = stop_words).generate(str(positive_tweets))\n",
    "\n",
    "# Wordcloud with negative tweets\n",
    "negative_tweets = []\n",
    "for i in conversationDF[conversationDF[\"overall_polarity\"] == 'NEG']['comment'].tolist():\n",
    "    negative_tweets.append(re.sub(\"(@[A-Za-z0-9]+)\", \"\", i))\n",
    "\n",
    "if len(negative_tweets) != 0:\n",
    "    stop_words = [\"https\", \"co\", \"RT\"] + list(STOPWORDS)\n",
    "    negative_wordcloud = WordCloud(max_font_size=50, max_words=30, background_color=\"white\", stopwords = stop_words).generate(str(negative_tweets))"
   ]
  },
  {
   "cell_type": "code",
   "execution_count": 31,
   "metadata": {
    "colab": {
     "base_uri": "https://localhost:8080/",
     "height": 563
    },
    "id": "o4fR1OTv9fYR",
    "outputId": "ed9c49b4-4ce0-4ee8-c771-23759d5c946d"
   },
   "outputs": [
    {
     "data": {
      "image/png": "[encoded data removed]",
      "text/plain": [
       "<Figure size 600x600 with 2 Axes>"
      ]
     },
     "metadata": {
      "needs_background": "light"
     },
     "output_type": "display_data"
    }
   ],
   "source": [
    "fig = plt.figure(figsize=(6,6), dpi=100)\n",
    "\n",
    "ax1 = fig.add_subplot(211)\n",
    "ax1.title.set_text(\"Positive comments - Wordcloud\")\n",
    "ax1.imshow(positive_wordcloud, interpolation=\"bilinear\")\n",
    "\n",
    "ax2 = fig.add_subplot(212)\n",
    "ax2.title.set_text(\"Negative comments - Wordcloud\")\n",
    "ax2.imshow(negative_wordcloud, interpolation=\"bilinear\")\n",
    "\n",
    "plt.subplots_adjust(left=0.1,\n",
    "                    bottom=0.1, \n",
    "                    right=0.9, \n",
    "                    top=0.9, \n",
    "                    wspace=0.4, \n",
    "                    hspace=0.4)\n",
    "\n",
    "plt.show()\n",
    "fig.savefig(f'{tweets_for_analysis[tweetOption]}/wordcloud_for_positive_and_negative_sentiments.png')"
   ]
  },
  {
   "cell_type": "code",
   "execution_count": 31,
   "metadata": {
    "id": "2uEBfLGB-SBI"
   },
   "outputs": [],
   "source": []
  }
 ],
 "metadata": {
  "colab": {
   "authorship_tag": "ABX9TyMIwwVQ8WOVt2oz+kNBlvQ/",
   "collapsed_sections": [],
   "include_colab_link": true,
   "mount_file_id": "1y1bkAU82tZLttQpOvG86q8U2OZssbhi-",
   "name": "Main Program (Notebook Version).ipynb",
   "provenance": []
  },
  "kernelspec": {
   "display_name": "Python 3 (ipykernel)",
   "language": "python",
   "name": "python3"
  },
  "language_info": {
   "codemirror_mode": {
    "name": "ipython",
    "version": 3
   },
   "file_extension": ".py",
   "mimetype": "text/x-python",
   "name": "python",
   "nbconvert_exporter": "python",
   "pygments_lexer": "ipython3",
   "version": "3.9.6"
  }
 },
 "nbformat": 4,
 "nbformat_minor": 4
}
